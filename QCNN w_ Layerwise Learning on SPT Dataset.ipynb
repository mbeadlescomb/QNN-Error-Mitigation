{
  "cells": [
    {
      "cell_type": "markdown",
      "metadata": {
        "id": "Ig76uBs-Qk1B"
      },
      "source": [
        "# Hypothesis\n",
        "\n",
        "Quantum Convolutional Neural Networks built on Quantum Circuit Born Machines using Layerwise Learning techniques offer a superior approach to dealing with errors on NISQ devices than that of Quantum CNN, Hybrid CNN or Layerwise Learning approaches alone."
      ]
    },
    {
      "cell_type": "markdown",
      "metadata": {
        "id": "ZmGti329U375"
      },
      "source": [
        "# Approach\n",
        "\n",
        "In Phase I, we start training with a small number of convolutional & pooling layers and train those for a fixed number of epochs. After that, in Phase II we add another set of layers and freeze the parameters of the previous step's layers. We repeat this process until the desired depth is reached. \n",
        "\n",
        "In phase II, we perform additional optimization sweeps over larger subsets of the layers using the final circuit configuration from phase one. The parameters from this circuit give us a good starting point to optimize quarters, halves, or even the full circuit without initializing on a barren plateau.\n",
        "\n",
        "Phase III makes final adjustments to partition %s and sweeps.\n",
        "\n",
        "This kind of learning scheme can be used for various types of learning tasks and input data, so long as the QCNN structure allows iteratively building the circuits. In this notebook we look at a simple example of classifying Cluster State excitations.\n",
        "\n",
        "[1] Layerwise learning for quantum neural networks, A. Skolik, J. R. McClean, M. Mohseni, P. van der Smagt, and M. Leib, https://arxiv.org/pdf/2006.14904.pdf\n",
        "\n",
        "[2] Barren plateaus in quantum neural network training landscapes, J. R. McClean, S. Boixo, V. N. Smelyanskiy, R. Babbush, and H. Neven, Nature Communications 9 (2018) https://www.nature.com/articles/s41467-018-07090-4.pdf"
      ]
    },
    {
      "cell_type": "markdown",
      "metadata": {
        "id": "x0yzuJSRVlt7"
      },
      "source": [
        "# Setup"
      ]
    },
    {
      "cell_type": "code",
      "execution_count": null,
      "metadata": {
        "colab": {
          "base_uri": "https://localhost:8080/"
        },
        "id": "zzdIyAm4VnxT",
        "outputId": "589f043c-8768-4828-cdbb-6766e89e5346"
      },
      "outputs": [
        {
          "name": "stdout",
          "output_type": "stream",
          "text": [
            "Requirement already satisfied: tensorflow==2.7.0 in /usr/local/lib/python3.7/dist-packages (2.7.0)\n",
            "Requirement already satisfied: numpy>=1.14.5 in /usr/local/lib/python3.7/dist-packages (from tensorflow==2.7.0) (1.21.6)\n",
            "Requirement already satisfied: opt-einsum>=2.3.2 in /usr/local/lib/python3.7/dist-packages (from tensorflow==2.7.0) (3.3.0)\n",
            "Requirement already satisfied: termcolor>=1.1.0 in /usr/local/lib/python3.7/dist-packages (from tensorflow==2.7.0) (1.1.0)\n",
            "Requirement already satisfied: six>=1.12.0 in /usr/local/lib/python3.7/dist-packages (from tensorflow==2.7.0) (1.15.0)\n",
            "Requirement already satisfied: tensorflow-io-gcs-filesystem>=0.21.0 in /usr/local/lib/python3.7/dist-packages (from tensorflow==2.7.0) (0.24.0)\n",
            "Requirement already satisfied: keras-preprocessing>=1.1.1 in /usr/local/lib/python3.7/dist-packages (from tensorflow==2.7.0) (1.1.2)\n",
            "Requirement already satisfied: wrapt>=1.11.0 in /usr/local/lib/python3.7/dist-packages (from tensorflow==2.7.0) (1.14.0)\n",
            "Requirement already satisfied: grpcio<2.0,>=1.24.3 in /usr/local/lib/python3.7/dist-packages (from tensorflow==2.7.0) (1.44.0)\n",
            "Requirement already satisfied: wheel<1.0,>=0.32.0 in /usr/local/lib/python3.7/dist-packages (from tensorflow==2.7.0) (0.37.1)\n",
            "Requirement already satisfied: keras<2.8,>=2.7.0rc0 in /usr/local/lib/python3.7/dist-packages (from tensorflow==2.7.0) (2.7.0)\n",
            "Requirement already satisfied: astunparse>=1.6.0 in /usr/local/lib/python3.7/dist-packages (from tensorflow==2.7.0) (1.6.3)\n",
            "Requirement already satisfied: google-pasta>=0.1.1 in /usr/local/lib/python3.7/dist-packages (from tensorflow==2.7.0) (0.2.0)\n",
            "Requirement already satisfied: flatbuffers<3.0,>=1.12 in /usr/local/lib/python3.7/dist-packages (from tensorflow==2.7.0) (2.0)\n",
            "Requirement already satisfied: h5py>=2.9.0 in /usr/local/lib/python3.7/dist-packages (from tensorflow==2.7.0) (3.1.0)\n",
            "Requirement already satisfied: typing-extensions>=3.6.6 in /usr/local/lib/python3.7/dist-packages (from tensorflow==2.7.0) (4.1.1)\n",
            "Requirement already satisfied: protobuf>=3.9.2 in /usr/local/lib/python3.7/dist-packages (from tensorflow==2.7.0) (3.17.3)\n",
            "Requirement already satisfied: gast<0.5.0,>=0.2.1 in /usr/local/lib/python3.7/dist-packages (from tensorflow==2.7.0) (0.4.0)\n",
            "Requirement already satisfied: tensorboard~=2.6 in /usr/local/lib/python3.7/dist-packages (from tensorflow==2.7.0) (2.8.0)\n",
            "Requirement already satisfied: libclang>=9.0.1 in /usr/local/lib/python3.7/dist-packages (from tensorflow==2.7.0) (13.0.0)\n",
            "Requirement already satisfied: tensorflow-estimator<2.8,~=2.7.0rc0 in /usr/local/lib/python3.7/dist-packages (from tensorflow==2.7.0) (2.7.0)\n",
            "Requirement already satisfied: absl-py>=0.4.0 in /usr/local/lib/python3.7/dist-packages (from tensorflow==2.7.0) (1.0.0)\n",
            "Requirement already satisfied: cached-property in /usr/local/lib/python3.7/dist-packages (from h5py>=2.9.0->tensorflow==2.7.0) (1.5.2)\n",
            "Requirement already satisfied: werkzeug>=0.11.15 in /usr/local/lib/python3.7/dist-packages (from tensorboard~=2.6->tensorflow==2.7.0) (1.0.1)\n",
            "Requirement already satisfied: markdown>=2.6.8 in /usr/local/lib/python3.7/dist-packages (from tensorboard~=2.6->tensorflow==2.7.0) (3.3.6)\n",
            "Requirement already satisfied: google-auth<3,>=1.6.3 in /usr/local/lib/python3.7/dist-packages (from tensorboard~=2.6->tensorflow==2.7.0) (1.35.0)\n",
            "Requirement already satisfied: requests<3,>=2.21.0 in /usr/local/lib/python3.7/dist-packages (from tensorboard~=2.6->tensorflow==2.7.0) (2.23.0)\n",
            "Requirement already satisfied: setuptools>=41.0.0 in /usr/local/lib/python3.7/dist-packages (from tensorboard~=2.6->tensorflow==2.7.0) (57.4.0)\n",
            "Requirement already satisfied: tensorboard-data-server<0.7.0,>=0.6.0 in /usr/local/lib/python3.7/dist-packages (from tensorboard~=2.6->tensorflow==2.7.0) (0.6.1)\n",
            "Requirement already satisfied: tensorboard-plugin-wit>=1.6.0 in /usr/local/lib/python3.7/dist-packages (from tensorboard~=2.6->tensorflow==2.7.0) (1.8.1)\n",
            "Requirement already satisfied: google-auth-oauthlib<0.5,>=0.4.1 in /usr/local/lib/python3.7/dist-packages (from tensorboard~=2.6->tensorflow==2.7.0) (0.4.6)\n",
            "Requirement already satisfied: pyasn1-modules>=0.2.1 in /usr/local/lib/python3.7/dist-packages (from google-auth<3,>=1.6.3->tensorboard~=2.6->tensorflow==2.7.0) (0.2.8)\n",
            "Requirement already satisfied: cachetools<5.0,>=2.0.0 in /usr/local/lib/python3.7/dist-packages (from google-auth<3,>=1.6.3->tensorboard~=2.6->tensorflow==2.7.0) (4.2.4)\n",
            "Requirement already satisfied: rsa<5,>=3.1.4 in /usr/local/lib/python3.7/dist-packages (from google-auth<3,>=1.6.3->tensorboard~=2.6->tensorflow==2.7.0) (4.8)\n",
            "Requirement already satisfied: requests-oauthlib>=0.7.0 in /usr/local/lib/python3.7/dist-packages (from google-auth-oauthlib<0.5,>=0.4.1->tensorboard~=2.6->tensorflow==2.7.0) (1.3.1)\n",
            "Requirement already satisfied: importlib-metadata>=4.4 in /usr/local/lib/python3.7/dist-packages (from markdown>=2.6.8->tensorboard~=2.6->tensorflow==2.7.0) (4.11.3)\n",
            "Requirement already satisfied: zipp>=0.5 in /usr/local/lib/python3.7/dist-packages (from importlib-metadata>=4.4->markdown>=2.6.8->tensorboard~=2.6->tensorflow==2.7.0) (3.8.0)\n",
            "Requirement already satisfied: pyasn1<0.5.0,>=0.4.6 in /usr/local/lib/python3.7/dist-packages (from pyasn1-modules>=0.2.1->google-auth<3,>=1.6.3->tensorboard~=2.6->tensorflow==2.7.0) (0.4.8)\n",
            "Requirement already satisfied: idna<3,>=2.5 in /usr/local/lib/python3.7/dist-packages (from requests<3,>=2.21.0->tensorboard~=2.6->tensorflow==2.7.0) (2.10)\n",
            "Requirement already satisfied: certifi>=2017.4.17 in /usr/local/lib/python3.7/dist-packages (from requests<3,>=2.21.0->tensorboard~=2.6->tensorflow==2.7.0) (2021.10.8)\n",
            "Requirement already satisfied: chardet<4,>=3.0.2 in /usr/local/lib/python3.7/dist-packages (from requests<3,>=2.21.0->tensorboard~=2.6->tensorflow==2.7.0) (3.0.4)\n",
            "Requirement already satisfied: urllib3!=1.25.0,!=1.25.1,<1.26,>=1.21.1 in /usr/local/lib/python3.7/dist-packages (from requests<3,>=2.21.0->tensorboard~=2.6->tensorflow==2.7.0) (1.24.3)\n",
            "Requirement already satisfied: oauthlib>=3.0.0 in /usr/local/lib/python3.7/dist-packages (from requests-oauthlib>=0.7.0->google-auth-oauthlib<0.5,>=0.4.1->tensorboard~=2.6->tensorflow==2.7.0) (3.2.0)\n"
          ]
        }
      ],
      "source": [
        "!pip install --upgrade tensorflow==2.7.0"
      ]
    },
    {
      "cell_type": "code",
      "execution_count": null,
      "metadata": {
        "colab": {
          "base_uri": "https://localhost:8080/",
          "height": 1000
        },
        "id": "LM64sfX7VsQ2",
        "outputId": "c5c761ff-63d7-46c9-9d56-22cfa1e2fb69"
      },
      "outputs": [
        {
          "name": "stdout",
          "output_type": "stream",
          "text": [
            "Collecting tensorflow-quantum\n",
            "  Downloading tensorflow_quantum-0.6.1-cp37-cp37m-manylinux_2_12_x86_64.manylinux2010_x86_64.whl (10.5 MB)\n",
            "\u001b[K     |████████████████████████████████| 10.5 MB 13.4 MB/s \n",
            "\u001b[?25hCollecting cirq-google>=0.13.1\n",
            "  Downloading cirq_google-0.14.1-py3-none-any.whl (541 kB)\n",
            "\u001b[K     |████████████████████████████████| 541 kB 58.1 MB/s \n",
            "\u001b[?25hCollecting sympy==1.8\n",
            "  Downloading sympy-1.8-py3-none-any.whl (6.1 MB)\n",
            "\u001b[K     |████████████████████████████████| 6.1 MB 20.8 MB/s \n",
            "\u001b[?25hCollecting cirq-core>=0.13.1\n",
            "  Downloading cirq_core-0.14.1-py3-none-any.whl (1.8 MB)\n",
            "\u001b[K     |████████████████████████████████| 1.8 MB 54.5 MB/s \n",
            "\u001b[?25hCollecting google-auth==1.18.0\n",
            "  Downloading google_auth-1.18.0-py2.py3-none-any.whl (90 kB)\n",
            "\u001b[K     |████████████████████████████████| 90 kB 9.0 MB/s \n",
            "\u001b[?25hRequirement already satisfied: protobuf==3.17.3 in /usr/local/lib/python3.7/dist-packages (from tensorflow-quantum) (3.17.3)\n",
            "Collecting google-api-core==1.21.0\n",
            "  Downloading google_api_core-1.21.0-py2.py3-none-any.whl (90 kB)\n",
            "\u001b[K     |████████████████████████████████| 90 kB 7.8 MB/s \n",
            "\u001b[?25hCollecting googleapis-common-protos==1.52.0\n",
            "  Downloading googleapis_common_protos-1.52.0-py2.py3-none-any.whl (100 kB)\n",
            "\u001b[K     |████████████████████████████████| 100 kB 9.6 MB/s \n",
            "\u001b[?25hRequirement already satisfied: requests<3.0.0dev,>=2.18.0 in /usr/local/lib/python3.7/dist-packages (from google-api-core==1.21.0->tensorflow-quantum) (2.23.0)\n",
            "Requirement already satisfied: setuptools>=34.0.0 in /usr/local/lib/python3.7/dist-packages (from google-api-core==1.21.0->tensorflow-quantum) (57.4.0)\n",
            "Requirement already satisfied: six>=1.10.0 in /usr/local/lib/python3.7/dist-packages (from google-api-core==1.21.0->tensorflow-quantum) (1.15.0)\n",
            "Requirement already satisfied: pytz in /usr/local/lib/python3.7/dist-packages (from google-api-core==1.21.0->tensorflow-quantum) (2022.1)\n",
            "Requirement already satisfied: pyasn1-modules>=0.2.1 in /usr/local/lib/python3.7/dist-packages (from google-auth==1.18.0->tensorflow-quantum) (0.2.8)\n",
            "Requirement already satisfied: cachetools<5.0,>=2.0.0 in /usr/local/lib/python3.7/dist-packages (from google-auth==1.18.0->tensorflow-quantum) (4.2.4)\n",
            "Requirement already satisfied: rsa<5,>=3.1.4 in /usr/local/lib/python3.7/dist-packages (from google-auth==1.18.0->tensorflow-quantum) (4.8)\n",
            "Requirement already satisfied: mpmath>=0.19 in /usr/local/lib/python3.7/dist-packages (from sympy==1.8->tensorflow-quantum) (1.2.1)\n",
            "Requirement already satisfied: sortedcontainers~=2.0 in /usr/local/lib/python3.7/dist-packages (from cirq-core>=0.13.1->tensorflow-quantum) (2.4.0)\n",
            "Requirement already satisfied: tqdm in /usr/local/lib/python3.7/dist-packages (from cirq-core>=0.13.1->tensorflow-quantum) (4.64.0)\n",
            "Requirement already satisfied: networkx~=2.4 in /usr/local/lib/python3.7/dist-packages (from cirq-core>=0.13.1->tensorflow-quantum) (2.6.3)\n",
            "Requirement already satisfied: pandas in /usr/local/lib/python3.7/dist-packages (from cirq-core>=0.13.1->tensorflow-quantum) (1.3.5)\n",
            "Collecting backports.cached-property~=1.0.1\n",
            "  Downloading backports.cached_property-1.0.1-py3-none-any.whl (5.7 kB)\n",
            "Requirement already satisfied: matplotlib~=3.0 in /usr/local/lib/python3.7/dist-packages (from cirq-core>=0.13.1->tensorflow-quantum) (3.2.2)\n",
            "Collecting duet~=0.2.0\n",
            "  Downloading duet-0.2.6-py3-none-any.whl (28 kB)\n",
            "Requirement already satisfied: typing-extensions in /usr/local/lib/python3.7/dist-packages (from cirq-core>=0.13.1->tensorflow-quantum) (4.1.1)\n",
            "Requirement already satisfied: scipy in /usr/local/lib/python3.7/dist-packages (from cirq-core>=0.13.1->tensorflow-quantum) (1.4.1)\n",
            "Requirement already satisfied: numpy~=1.16 in /usr/local/lib/python3.7/dist-packages (from cirq-core>=0.13.1->tensorflow-quantum) (1.21.6)\n",
            "Requirement already satisfied: google-api-core[grpc]<2.0.0dev,>=1.14.0 in /usr/local/lib/python3.7/dist-packages (from cirq-google>=0.13.1->tensorflow-quantum) (1.31.5)\n",
            "Collecting typing-extensions\n",
            "  Downloading typing_extensions-3.10.0.0-py3-none-any.whl (26 kB)\n",
            "Collecting google-api-core[grpc]<2.0.0dev,>=1.14.0\n",
            "  Downloading google_api_core-1.31.4-py2.py3-none-any.whl (93 kB)\n",
            "\u001b[K     |████████████████████████████████| 93 kB 1.4 MB/s \n",
            "\u001b[?25h  Downloading google_api_core-1.31.3-py2.py3-none-any.whl (93 kB)\n",
            "\u001b[K     |████████████████████████████████| 93 kB 1.5 MB/s \n",
            "\u001b[?25h  Downloading google_api_core-1.31.2-py2.py3-none-any.whl (93 kB)\n",
            "\u001b[K     |████████████████████████████████| 93 kB 1.5 MB/s \n",
            "\u001b[?25h  Downloading google_api_core-1.31.1-py2.py3-none-any.whl (93 kB)\n",
            "\u001b[K     |████████████████████████████████| 93 kB 1.4 MB/s \n",
            "\u001b[?25h  Downloading google_api_core-1.31.0-py2.py3-none-any.whl (93 kB)\n",
            "\u001b[K     |████████████████████████████████| 93 kB 1.2 MB/s \n",
            "\u001b[?25h  Downloading google_api_core-1.30.0-py2.py3-none-any.whl (93 kB)\n",
            "\u001b[K     |████████████████████████████████| 93 kB 1.4 MB/s \n",
            "\u001b[?25h  Downloading google_api_core-1.29.0-py2.py3-none-any.whl (93 kB)\n",
            "\u001b[K     |████████████████████████████████| 93 kB 1.2 MB/s \n",
            "\u001b[?25h  Downloading google_api_core-1.28.0-py2.py3-none-any.whl (92 kB)\n",
            "\u001b[K     |████████████████████████████████| 92 kB 1.2 MB/s \n",
            "\u001b[?25h  Downloading google_api_core-1.27.0-py2.py3-none-any.whl (93 kB)\n",
            "\u001b[K     |████████████████████████████████| 93 kB 1.3 MB/s \n",
            "\u001b[?25h  Downloading google_api_core-1.26.3-py2.py3-none-any.whl (93 kB)\n",
            "\u001b[K     |████████████████████████████████| 93 kB 1.3 MB/s \n",
            "\u001b[?25h  Downloading google_api_core-1.26.2-py2.py3-none-any.whl (93 kB)\n",
            "\u001b[K     |████████████████████████████████| 93 kB 1.2 MB/s \n",
            "\u001b[?25h  Downloading google_api_core-1.26.1-py2.py3-none-any.whl (92 kB)\n",
            "\u001b[K     |████████████████████████████████| 92 kB 1.1 MB/s \n",
            "\u001b[?25h  Downloading google_api_core-1.26.0-py2.py3-none-any.whl (92 kB)\n",
            "\u001b[K     |████████████████████████████████| 92 kB 1.1 MB/s \n",
            "\u001b[?25h  Downloading google_api_core-1.25.1-py2.py3-none-any.whl (92 kB)\n",
            "\u001b[K     |████████████████████████████████| 92 kB 250 kB/s \n",
            "\u001b[?25h  Downloading google_api_core-1.25.0-py2.py3-none-any.whl (92 kB)\n",
            "\u001b[K     |████████████████████████████████| 92 kB 191 kB/s \n",
            "\u001b[?25h  Downloading google_api_core-1.24.1-py2.py3-none-any.whl (92 kB)\n",
            "\u001b[K     |████████████████████████████████| 92 kB 10.3 MB/s \n",
            "\u001b[?25h  Downloading google_api_core-1.24.0-py2.py3-none-any.whl (91 kB)\n",
            "\u001b[K     |████████████████████████████████| 91 kB 11.0 MB/s \n",
            "\u001b[?25h  Downloading google_api_core-1.23.0-py2.py3-none-any.whl (91 kB)\n",
            "\u001b[K     |████████████████████████████████| 91 kB 11.3 MB/s \n",
            "\u001b[?25h  Downloading google_api_core-1.22.4-py2.py3-none-any.whl (91 kB)\n",
            "\u001b[K     |████████████████████████████████| 91 kB 10.8 MB/s \n",
            "\u001b[?25h  Downloading google_api_core-1.22.3-py2.py3-none-any.whl (91 kB)\n",
            "\u001b[K     |████████████████████████████████| 91 kB 10.8 MB/s \n",
            "\u001b[?25h  Downloading google_api_core-1.22.2-py2.py3-none-any.whl (91 kB)\n",
            "\u001b[K     |████████████████████████████████| 91 kB 8.9 MB/s \n",
            "\u001b[?25h  Downloading google_api_core-1.22.1-py2.py3-none-any.whl (91 kB)\n",
            "\u001b[K     |████████████████████████████████| 91 kB 8.1 MB/s \n",
            "\u001b[?25h  Downloading google_api_core-1.22.0-py2.py3-none-any.whl (91 kB)\n",
            "\u001b[K     |████████████████████████████████| 91 kB 10.1 MB/s \n",
            "\u001b[?25hRequirement already satisfied: grpcio<2.0dev,>=1.29.0 in /usr/local/lib/python3.7/dist-packages (from google-api-core==1.21.0->tensorflow-quantum) (1.44.0)\n",
            "Requirement already satisfied: cycler>=0.10 in /usr/local/lib/python3.7/dist-packages (from matplotlib~=3.0->cirq-core>=0.13.1->tensorflow-quantum) (0.11.0)\n",
            "Requirement already satisfied: pyparsing!=2.0.4,!=2.1.2,!=2.1.6,>=2.0.1 in /usr/local/lib/python3.7/dist-packages (from matplotlib~=3.0->cirq-core>=0.13.1->tensorflow-quantum) (3.0.8)\n",
            "Requirement already satisfied: python-dateutil>=2.1 in /usr/local/lib/python3.7/dist-packages (from matplotlib~=3.0->cirq-core>=0.13.1->tensorflow-quantum) (2.8.2)\n",
            "Requirement already satisfied: kiwisolver>=1.0.1 in /usr/local/lib/python3.7/dist-packages (from matplotlib~=3.0->cirq-core>=0.13.1->tensorflow-quantum) (1.4.2)\n",
            "Requirement already satisfied: pyasn1<0.5.0,>=0.4.6 in /usr/local/lib/python3.7/dist-packages (from pyasn1-modules>=0.2.1->google-auth==1.18.0->tensorflow-quantum) (0.4.8)\n",
            "Requirement already satisfied: idna<3,>=2.5 in /usr/local/lib/python3.7/dist-packages (from requests<3.0.0dev,>=2.18.0->google-api-core==1.21.0->tensorflow-quantum) (2.10)\n",
            "Requirement already satisfied: chardet<4,>=3.0.2 in /usr/local/lib/python3.7/dist-packages (from requests<3.0.0dev,>=2.18.0->google-api-core==1.21.0->tensorflow-quantum) (3.0.4)\n",
            "Requirement already satisfied: urllib3!=1.25.0,!=1.25.1,<1.26,>=1.21.1 in /usr/local/lib/python3.7/dist-packages (from requests<3.0.0dev,>=2.18.0->google-api-core==1.21.0->tensorflow-quantum) (1.24.3)\n",
            "Requirement already satisfied: certifi>=2017.4.17 in /usr/local/lib/python3.7/dist-packages (from requests<3.0.0dev,>=2.18.0->google-api-core==1.21.0->tensorflow-quantum) (2021.10.8)\n",
            "Installing collected packages: typing-extensions, googleapis-common-protos, google-auth, sympy, google-api-core, duet, backports.cached-property, cirq-core, cirq-google, tensorflow-quantum\n",
            "  Attempting uninstall: typing-extensions\n",
            "    Found existing installation: typing-extensions 4.1.1\n",
            "    Uninstalling typing-extensions-4.1.1:\n",
            "      Successfully uninstalled typing-extensions-4.1.1\n",
            "  Attempting uninstall: googleapis-common-protos\n",
            "    Found existing installation: googleapis-common-protos 1.56.0\n",
            "    Uninstalling googleapis-common-protos-1.56.0:\n",
            "      Successfully uninstalled googleapis-common-protos-1.56.0\n",
            "  Attempting uninstall: google-auth\n",
            "    Found existing installation: google-auth 1.35.0\n",
            "    Uninstalling google-auth-1.35.0:\n",
            "      Successfully uninstalled google-auth-1.35.0\n",
            "  Attempting uninstall: sympy\n",
            "    Found existing installation: sympy 1.7.1\n",
            "    Uninstalling sympy-1.7.1:\n",
            "      Successfully uninstalled sympy-1.7.1\n",
            "  Attempting uninstall: google-api-core\n",
            "    Found existing installation: google-api-core 1.31.5\n",
            "    Uninstalling google-api-core-1.31.5:\n",
            "      Successfully uninstalled google-api-core-1.31.5\n",
            "\u001b[31mERROR: pip's dependency resolver does not currently take into account all the packages that are installed. This behaviour is the source of the following dependency conflicts.\n",
            "pydata-google-auth 1.4.0 requires google-auth<3.0dev,>=1.25.0; python_version >= \"3.6\", but you have google-auth 1.18.0 which is incompatible.\n",
            "google-cloud-bigquery-storage 1.1.1 requires google-api-core[grpc]!=2.0.*,!=2.1.*,!=2.2.*,!=2.3.0,<3.0.0dev,>=1.31.5, but you have google-api-core 1.21.0 which is incompatible.\u001b[0m\n",
            "Successfully installed backports.cached-property-1.0.1 cirq-core-0.14.1 cirq-google-0.14.1 duet-0.2.6 google-api-core-1.21.0 google-auth-1.18.0 googleapis-common-protos-1.52.0 sympy-1.8 tensorflow-quantum-0.6.1 typing-extensions-3.10.0.0\n"
          ]
        },
        {
          "data": {
            "application/vnd.colab-display-data+json": {
              "pip_warning": {
                "packages": [
                  "google"
                ]
              }
            }
          },
          "metadata": {},
          "output_type": "display_data"
        }
      ],
      "source": [
        "!pip install tensorflow-quantum"
      ]
    },
    {
      "cell_type": "code",
      "execution_count": null,
      "metadata": {
        "colab": {
          "base_uri": "https://localhost:8080/"
        },
        "id": "ZHbzh_wlsYM2",
        "outputId": "838e474f-fc42-4c26-9150-e97664ae1328"
      },
      "outputs": [
        {
          "data": {
            "text/plain": [
              "<module 'pkg_resources' from '/usr/local/lib/python3.7/dist-packages/pkg_resources/__init__.py'>"
            ]
          },
          "execution_count": 41,
          "metadata": {},
          "output_type": "execute_result"
        }
      ],
      "source": [
        "# Update package resources to account for version changes.\n",
        "import importlib, pkg_resources\n",
        "importlib.reload(pkg_resources)"
      ]
    },
    {
      "cell_type": "code",
      "execution_count": null,
      "metadata": {
        "id": "sUccqRpKVu7P"
      },
      "outputs": [],
      "source": [
        "import collections\n",
        "import itertools\n",
        "import random\n",
        "import copy\n",
        "\n",
        "import cirq\n",
        "import sympy\n",
        "import numpy as np\n",
        "import tensorflow_quantum as tfq\n",
        "import tensorflow as tf\n",
        "\n",
        "# visualization tools\n",
        "%matplotlib inline\n",
        "import matplotlib.pyplot as plt\n",
        "from cirq.contrib.svg import SVGCircuit"
      ]
    },
    {
      "cell_type": "markdown",
      "metadata": {
        "id": "1MwdfkvOEiiC"
      },
      "source": [
        "# Data"
      ]
    },
    {
      "cell_type": "code",
      "execution_count": null,
      "metadata": {
        "id": "mLomYPFpEkAW"
      },
      "outputs": [],
      "source": [
        "def generate_data(qubits):\n",
        "    \"\"\"Generate training and testing data.\"\"\"\n",
        "    n_rounds = 20  # Produces n_rounds * n_qubits datapoints.\n",
        "    excitations = []\n",
        "    labels = []\n",
        "    for n in range(n_rounds):\n",
        "        for bit in qubits:\n",
        "            rng = np.random.uniform(-np.pi, np.pi)\n",
        "            excitations.append(cirq.Circuit(cirq.rx(rng)(bit)))\n",
        "            labels.append(1 if (-np.pi / 2) <= rng <= (np.pi / 2) else -1)\n",
        "\n",
        "    split_ind = int(len(excitations) * 0.7)\n",
        "    train_excitations = excitations[:split_ind]\n",
        "    test_excitations = excitations[split_ind:]\n",
        "\n",
        "    train_labels = labels[:split_ind]\n",
        "    test_labels = labels[split_ind:]\n",
        "    return tfq.convert_to_tensor(train_excitations), np.array(train_labels), \\\n",
        "        tfq.convert_to_tensor(test_excitations), np.array(test_labels)"
      ]
    },
    {
      "cell_type": "code",
      "execution_count": null,
      "metadata": {
        "colab": {
          "base_uri": "https://localhost:8080/"
        },
        "id": "iExEbJ2aEq2_",
        "outputId": "f7bc7387-51ea-416b-bcf0-a77b65e26121"
      },
      "outputs": [
        {
          "name": "stdout",
          "output_type": "stream",
          "text": [
            "Input: (0, 0): ───X^-0.767─── Output: -1\n",
            "Input: (0, 1): ───X^(8/9)─── Output: -1\n"
          ]
        }
      ],
      "source": [
        "# Generates sample data on the specified qubit in the simulated quantum computing processor( e.g. Bristlecone, Sycamore)\n",
        "sample_points, sample_labels, _, __ = generate_data(cirq.GridQubit.rect(1, 4))\n",
        "print('Input:', tfq.from_tensor(sample_points)[0], 'Output:', sample_labels[0])\n",
        "print('Input:', tfq.from_tensor(sample_points)[1], 'Output:', sample_labels[1])"
      ]
    },
    {
      "cell_type": "markdown",
      "metadata": {
        "id": "f3b4TyJ9KqjG"
      },
      "source": [
        "# Layer Generation"
      ]
    },
    {
      "cell_type": "markdown",
      "metadata": {
        "id": "W-gkS-raGkzG"
      },
      "source": [
        "## Circuit Layers Generation"
      ]
    },
    {
      "cell_type": "code",
      "execution_count": null,
      "metadata": {
        "id": "jD8rEynbGoMr"
      },
      "outputs": [],
      "source": [
        "def create_layer(qubits, layer_id):\n",
        "    symbols = [sympy.Symbol(layer_id + '-' + str(i)) for i in range(len(qubits))]\n",
        "    gate_set = [cirq.rx, cirq.ry, cirq.rz]\n",
        "\n",
        "    gates = []\n",
        "    symbol_gates = []\n",
        "    for i, q in enumerate(qubits):\n",
        "        chosen_gate = random.choice(gate_set)\n",
        "        gates.append(chosen_gate(0)(q))\n",
        "        symbol_gates.append(chosen_gate(symbols[i])(q))\n",
        "\n",
        "    for control, target in zip(qubits, qubits[1:]):\n",
        "        gates.append(cirq.CZ(control, target))\n",
        "        symbol_gates.append(cirq.CZ(control, target))\n",
        "\n",
        "    return gates, symbol_gates, symbols"
      ]
    },
    {
      "cell_type": "markdown",
      "metadata": {
        "id": "X18FEc0xKM1x"
      },
      "source": [
        "## Define Layers"
      ]
    },
    {
      "cell_type": "markdown",
      "metadata": {
        "id": "HN5yWquHKWML"
      },
      "source": [
        "### The Cluster State"
      ]
    },
    {
      "cell_type": "code",
      "execution_count": null,
      "metadata": {
        "id": "d8OEQLMmKUc7"
      },
      "outputs": [],
      "source": [
        "def cluster_state_circuit(qubits):\n",
        "    \"\"\"Return a cluster state on the qubits in `qubits`.\"\"\"\n",
        "    circuit = cirq.Circuit()\n",
        "    circuit.append(cirq.H.on_each(qubits))\n",
        "    for this_bit, next_bit in zip(qubits, qubits[1:] + [qubits[0]]):\n",
        "        circuit.append(cirq.CZ(this_bit, next_bit))\n",
        "    return circuit"
      ]
    },
    {
      "cell_type": "code",
      "execution_count": null,
      "metadata": {
        "colab": {
          "base_uri": "https://localhost:8080/",
          "height": 221
        },
        "id": "bLl-V_WZK_w8",
        "outputId": "0c5d450e-5ed3-4ad0-f4dc-dc2ed5710bea"
      },
      "outputs": [
        {
          "data": {
            "image/svg+xml": "<svg xmlns=\"http://www.w3.org/2000/svg\" width=\"409.51773437500003\" height=\"200.0\"><line x1=\"34.7588671875\" x2=\"379.51773437500003\" y1=\"25.0\" y2=\"25.0\" stroke=\"#1967d2\" stroke-width=\"1\" /><line x1=\"34.7588671875\" x2=\"379.51773437500003\" y1=\"75.0\" y2=\"75.0\" stroke=\"#1967d2\" stroke-width=\"1\" /><line x1=\"34.7588671875\" x2=\"379.51773437500003\" y1=\"125.0\" y2=\"125.0\" stroke=\"#1967d2\" stroke-width=\"1\" /><line x1=\"34.7588671875\" x2=\"379.51773437500003\" y1=\"175.0\" y2=\"175.0\" stroke=\"#1967d2\" stroke-width=\"1\" /><line x1=\"159.517734375\" x2=\"159.517734375\" y1=\"25.0\" y2=\"75.0\" stroke=\"black\" stroke-width=\"3\" /><line x1=\"219.517734375\" x2=\"219.517734375\" y1=\"75.0\" y2=\"125.0\" stroke=\"black\" stroke-width=\"3\" /><line x1=\"279.51773437500003\" x2=\"279.51773437500003\" y1=\"125.0\" y2=\"175.0\" stroke=\"black\" stroke-width=\"3\" /><line x1=\"339.51773437500003\" x2=\"339.51773437500003\" y1=\"25.0\" y2=\"175.0\" stroke=\"black\" stroke-width=\"3\" /><rect x=\"10.0\" y=\"5.0\" width=\"49.517734375\" height=\"40\" stroke=\"black\" fill=\"white\" stroke-width=\"0\" /><text x=\"34.7588671875\" y=\"25.0\" dominant-baseline=\"middle\" text-anchor=\"middle\" font-size=\"14px\" font-family=\"Arial\">(0, 0): </text><rect x=\"10.0\" y=\"55.0\" width=\"49.517734375\" height=\"40\" stroke=\"black\" fill=\"white\" stroke-width=\"0\" /><text x=\"34.7588671875\" y=\"75.0\" dominant-baseline=\"middle\" text-anchor=\"middle\" font-size=\"14px\" font-family=\"Arial\">(0, 1): </text><rect x=\"10.0\" y=\"105.0\" width=\"49.517734375\" height=\"40\" stroke=\"black\" fill=\"white\" stroke-width=\"0\" /><text x=\"34.7588671875\" y=\"125.0\" dominant-baseline=\"middle\" text-anchor=\"middle\" font-size=\"14px\" font-family=\"Arial\">(0, 2): </text><rect x=\"10.0\" y=\"155.0\" width=\"49.517734375\" height=\"40\" stroke=\"black\" fill=\"white\" stroke-width=\"0\" /><text x=\"34.7588671875\" y=\"175.0\" dominant-baseline=\"middle\" text-anchor=\"middle\" font-size=\"14px\" font-family=\"Arial\">(0, 3): </text><rect x=\"79.517734375\" y=\"5.0\" width=\"40\" height=\"40\" stroke=\"black\" fill=\"white\" stroke-width=\"1\" /><text x=\"99.517734375\" y=\"25.0\" dominant-baseline=\"middle\" text-anchor=\"middle\" font-size=\"18px\" font-family=\"Arial\">H</text><rect x=\"79.517734375\" y=\"55.0\" width=\"40\" height=\"40\" stroke=\"black\" fill=\"white\" stroke-width=\"1\" /><text x=\"99.517734375\" y=\"75.0\" dominant-baseline=\"middle\" text-anchor=\"middle\" font-size=\"18px\" font-family=\"Arial\">H</text><rect x=\"79.517734375\" y=\"105.0\" width=\"40\" height=\"40\" stroke=\"black\" fill=\"white\" stroke-width=\"1\" /><text x=\"99.517734375\" y=\"125.0\" dominant-baseline=\"middle\" text-anchor=\"middle\" font-size=\"18px\" font-family=\"Arial\">H</text><rect x=\"79.517734375\" y=\"155.0\" width=\"40\" height=\"40\" stroke=\"black\" fill=\"white\" stroke-width=\"1\" /><text x=\"99.517734375\" y=\"175.0\" dominant-baseline=\"middle\" text-anchor=\"middle\" font-size=\"18px\" font-family=\"Arial\">H</text><circle cx=\"159.517734375\" cy=\"25.0\" r=\"10.0\" /><circle cx=\"159.517734375\" cy=\"75.0\" r=\"10.0\" /><circle cx=\"219.517734375\" cy=\"75.0\" r=\"10.0\" /><circle cx=\"219.517734375\" cy=\"125.0\" r=\"10.0\" /><circle cx=\"279.51773437500003\" cy=\"125.0\" r=\"10.0\" /><circle cx=\"279.51773437500003\" cy=\"175.0\" r=\"10.0\" /><circle cx=\"339.51773437500003\" cy=\"175.0\" r=\"10.0\" /><circle cx=\"339.51773437500003\" cy=\"25.0\" r=\"10.0\" /></svg>",
            "text/plain": [
              "<cirq.contrib.svg.svg.SVGCircuit at 0x7efd7c465e50>"
            ]
          },
          "execution_count": 47,
          "metadata": {},
          "output_type": "execute_result"
        }
      ],
      "source": [
        "SVGCircuit(cluster_state_circuit(cirq.GridQubit.rect(1, 4)))"
      ]
    },
    {
      "cell_type": "markdown",
      "metadata": {
        "id": "8VappCpoLD5Y"
      },
      "source": [
        "### QCNN Layers"
      ]
    },
    {
      "cell_type": "markdown",
      "metadata": {
        "id": "DoslVmJILPur"
      },
      "source": [
        "#### Single Qubit Unitary Circuit"
      ]
    },
    {
      "cell_type": "code",
      "execution_count": null,
      "metadata": {
        "id": "SMxc0iGiLHzv"
      },
      "outputs": [],
      "source": [
        "def one_qubit_unitary(qubit):\n",
        "    \"\"\"Make a Cirq circuit enacting a rotation of the bloch sphere about the X,\n",
        "    Y and Z axis.\n",
        "    \"\"\"\n",
        "    return cirq.Circuit(\n",
        "        cirq.X(qubit),\n",
        "        cirq.Y(qubit),\n",
        "        cirq.Z(qubit))"
      ]
    },
    {
      "cell_type": "code",
      "execution_count": null,
      "metadata": {
        "colab": {
          "base_uri": "https://localhost:8080/",
          "height": 71
        },
        "id": "Hnm1ckzdLXPS",
        "outputId": "0783feac-29ff-4264-c13b-85ea2330dfc2"
      },
      "outputs": [
        {
          "data": {
            "image/svg+xml": "<svg xmlns=\"http://www.w3.org/2000/svg\" width=\"289.51773437500003\" height=\"50.0\"><line x1=\"34.7588671875\" x2=\"259.51773437500003\" y1=\"25.0\" y2=\"25.0\" stroke=\"#1967d2\" stroke-width=\"1\" /><rect x=\"10.0\" y=\"5.0\" width=\"49.517734375\" height=\"40\" stroke=\"black\" fill=\"white\" stroke-width=\"0\" /><text x=\"34.7588671875\" y=\"25.0\" dominant-baseline=\"middle\" text-anchor=\"middle\" font-size=\"14px\" font-family=\"Arial\">(0, 0): </text><rect x=\"79.517734375\" y=\"5.0\" width=\"40\" height=\"40\" stroke=\"black\" fill=\"white\" stroke-width=\"1\" /><text x=\"99.517734375\" y=\"25.0\" dominant-baseline=\"middle\" text-anchor=\"middle\" font-size=\"18px\" font-family=\"Arial\">X</text><rect x=\"139.517734375\" y=\"5.0\" width=\"40\" height=\"40\" stroke=\"black\" fill=\"white\" stroke-width=\"1\" /><text x=\"159.517734375\" y=\"25.0\" dominant-baseline=\"middle\" text-anchor=\"middle\" font-size=\"18px\" font-family=\"Arial\">Y</text><rect x=\"199.517734375\" y=\"5.0\" width=\"40\" height=\"40\" stroke=\"black\" fill=\"white\" stroke-width=\"1\" /><text x=\"219.517734375\" y=\"25.0\" dominant-baseline=\"middle\" text-anchor=\"middle\" font-size=\"18px\" font-family=\"Arial\">Z</text></svg>",
            "text/plain": [
              "<cirq.contrib.svg.svg.SVGCircuit at 0x7efe8bb333d0>"
            ]
          },
          "execution_count": 49,
          "metadata": {},
          "output_type": "execute_result"
        }
      ],
      "source": [
        "SVGCircuit(one_qubit_unitary(cirq.GridQubit(0, 0)))"
      ]
    },
    {
      "cell_type": "markdown",
      "metadata": {
        "id": "Is3G4q_QLZdU"
      },
      "source": [
        "#### Two Qubit Unitary Circuit"
      ]
    },
    {
      "cell_type": "code",
      "execution_count": null,
      "metadata": {
        "id": "o-w4P3a1LfVM"
      },
      "outputs": [],
      "source": [
        "def two_qubit_unitary(qubits):\n",
        "    \"\"\"Make a Cirq circuit that creates an arbitrary two qubit unitary.\"\"\"\n",
        "    circuit = cirq.Circuit()\n",
        "    circuit += one_qubit_unitary(qubits[0])\n",
        "    circuit += one_qubit_unitary(qubits[1])\n",
        "    circuit += [cirq.ZZ(*qubits)]\n",
        "    circuit += [cirq.YY(*qubits)]\n",
        "    circuit += [cirq.XX(*qubits)]\n",
        "    circuit += one_qubit_unitary(qubits[0])\n",
        "    circuit += one_qubit_unitary(qubits[1])\n",
        "    return circuit"
      ]
    },
    {
      "cell_type": "code",
      "execution_count": null,
      "metadata": {
        "colab": {
          "base_uri": "https://localhost:8080/",
          "height": 121
        },
        "id": "iIdoiV8WLvWO",
        "outputId": "9bf627b3-ee1d-4a59-d9c3-3d3e9fcbe113"
      },
      "outputs": [
        {
          "data": {
            "image/svg+xml": "<svg xmlns=\"http://www.w3.org/2000/svg\" width=\"1009.517734375\" height=\"100.0\"><line x1=\"34.7588671875\" x2=\"979.517734375\" y1=\"25.0\" y2=\"25.0\" stroke=\"#1967d2\" stroke-width=\"1\" /><line x1=\"34.7588671875\" x2=\"979.517734375\" y1=\"75.0\" y2=\"75.0\" stroke=\"#1967d2\" stroke-width=\"1\" /><line x1=\"459.51773437500003\" x2=\"459.51773437500003\" y1=\"25.0\" y2=\"75.0\" stroke=\"black\" stroke-width=\"3\" /><line x1=\"519.517734375\" x2=\"519.517734375\" y1=\"25.0\" y2=\"75.0\" stroke=\"black\" stroke-width=\"3\" /><line x1=\"579.517734375\" x2=\"579.517734375\" y1=\"25.0\" y2=\"75.0\" stroke=\"black\" stroke-width=\"3\" /><rect x=\"10.0\" y=\"5.0\" width=\"49.517734375\" height=\"40\" stroke=\"black\" fill=\"white\" stroke-width=\"0\" /><text x=\"34.7588671875\" y=\"25.0\" dominant-baseline=\"middle\" text-anchor=\"middle\" font-size=\"14px\" font-family=\"Arial\">(0, 0): </text><rect x=\"10.0\" y=\"55.0\" width=\"49.517734375\" height=\"40\" stroke=\"black\" fill=\"white\" stroke-width=\"0\" /><text x=\"34.7588671875\" y=\"75.0\" dominant-baseline=\"middle\" text-anchor=\"middle\" font-size=\"14px\" font-family=\"Arial\">(0, 1): </text><rect x=\"79.517734375\" y=\"5.0\" width=\"40\" height=\"40\" stroke=\"black\" fill=\"white\" stroke-width=\"1\" /><text x=\"99.517734375\" y=\"25.0\" dominant-baseline=\"middle\" text-anchor=\"middle\" font-size=\"18px\" font-family=\"Arial\">X</text><rect x=\"139.517734375\" y=\"5.0\" width=\"40\" height=\"40\" stroke=\"black\" fill=\"white\" stroke-width=\"1\" /><text x=\"159.517734375\" y=\"25.0\" dominant-baseline=\"middle\" text-anchor=\"middle\" font-size=\"18px\" font-family=\"Arial\">Y</text><rect x=\"199.517734375\" y=\"5.0\" width=\"40\" height=\"40\" stroke=\"black\" fill=\"white\" stroke-width=\"1\" /><text x=\"219.517734375\" y=\"25.0\" dominant-baseline=\"middle\" text-anchor=\"middle\" font-size=\"18px\" font-family=\"Arial\">Z</text><rect x=\"259.51773437500003\" y=\"55.0\" width=\"40\" height=\"40\" stroke=\"black\" fill=\"white\" stroke-width=\"1\" /><text x=\"279.51773437500003\" y=\"75.0\" dominant-baseline=\"middle\" text-anchor=\"middle\" font-size=\"18px\" font-family=\"Arial\">X</text><rect x=\"319.51773437500003\" y=\"55.0\" width=\"40\" height=\"40\" stroke=\"black\" fill=\"white\" stroke-width=\"1\" /><text x=\"339.51773437500003\" y=\"75.0\" dominant-baseline=\"middle\" text-anchor=\"middle\" font-size=\"18px\" font-family=\"Arial\">Y</text><rect x=\"379.51773437500003\" y=\"55.0\" width=\"40\" height=\"40\" stroke=\"black\" fill=\"white\" stroke-width=\"1\" /><text x=\"399.51773437500003\" y=\"75.0\" dominant-baseline=\"middle\" text-anchor=\"middle\" font-size=\"18px\" font-family=\"Arial\">Z</text><rect x=\"439.51773437500003\" y=\"5.0\" width=\"40\" height=\"40\" stroke=\"black\" fill=\"white\" stroke-width=\"1\" /><text x=\"459.51773437500003\" y=\"25.0\" dominant-baseline=\"middle\" text-anchor=\"middle\" font-size=\"14px\" font-family=\"Arial\">ZZ</text><rect x=\"439.51773437500003\" y=\"55.0\" width=\"40\" height=\"40\" stroke=\"black\" fill=\"white\" stroke-width=\"1\" /><text x=\"459.51773437500003\" y=\"75.0\" dominant-baseline=\"middle\" text-anchor=\"middle\" font-size=\"14px\" font-family=\"Arial\">ZZ</text><rect x=\"499.51773437500003\" y=\"5.0\" width=\"40\" height=\"40\" stroke=\"black\" fill=\"white\" stroke-width=\"1\" /><text x=\"519.517734375\" y=\"25.0\" dominant-baseline=\"middle\" text-anchor=\"middle\" font-size=\"14px\" font-family=\"Arial\">YY</text><rect x=\"499.51773437500003\" y=\"55.0\" width=\"40\" height=\"40\" stroke=\"black\" fill=\"white\" stroke-width=\"1\" /><text x=\"519.517734375\" y=\"75.0\" dominant-baseline=\"middle\" text-anchor=\"middle\" font-size=\"14px\" font-family=\"Arial\">YY</text><rect x=\"559.517734375\" y=\"5.0\" width=\"40\" height=\"40\" stroke=\"black\" fill=\"white\" stroke-width=\"1\" /><text x=\"579.517734375\" y=\"25.0\" dominant-baseline=\"middle\" text-anchor=\"middle\" font-size=\"14px\" font-family=\"Arial\">XX</text><rect x=\"559.517734375\" y=\"55.0\" width=\"40\" height=\"40\" stroke=\"black\" fill=\"white\" stroke-width=\"1\" /><text x=\"579.517734375\" y=\"75.0\" dominant-baseline=\"middle\" text-anchor=\"middle\" font-size=\"14px\" font-family=\"Arial\">XX</text><rect x=\"619.517734375\" y=\"5.0\" width=\"40\" height=\"40\" stroke=\"black\" fill=\"white\" stroke-width=\"1\" /><text x=\"639.517734375\" y=\"25.0\" dominant-baseline=\"middle\" text-anchor=\"middle\" font-size=\"18px\" font-family=\"Arial\">X</text><rect x=\"679.517734375\" y=\"5.0\" width=\"40\" height=\"40\" stroke=\"black\" fill=\"white\" stroke-width=\"1\" /><text x=\"699.517734375\" y=\"25.0\" dominant-baseline=\"middle\" text-anchor=\"middle\" font-size=\"18px\" font-family=\"Arial\">Y</text><rect x=\"739.517734375\" y=\"5.0\" width=\"40\" height=\"40\" stroke=\"black\" fill=\"white\" stroke-width=\"1\" /><text x=\"759.517734375\" y=\"25.0\" dominant-baseline=\"middle\" text-anchor=\"middle\" font-size=\"18px\" font-family=\"Arial\">Z</text><rect x=\"799.517734375\" y=\"55.0\" width=\"40\" height=\"40\" stroke=\"black\" fill=\"white\" stroke-width=\"1\" /><text x=\"819.517734375\" y=\"75.0\" dominant-baseline=\"middle\" text-anchor=\"middle\" font-size=\"18px\" font-family=\"Arial\">X</text><rect x=\"859.517734375\" y=\"55.0\" width=\"40\" height=\"40\" stroke=\"black\" fill=\"white\" stroke-width=\"1\" /><text x=\"879.517734375\" y=\"75.0\" dominant-baseline=\"middle\" text-anchor=\"middle\" font-size=\"18px\" font-family=\"Arial\">Y</text><rect x=\"919.517734375\" y=\"55.0\" width=\"40\" height=\"40\" stroke=\"black\" fill=\"white\" stroke-width=\"1\" /><text x=\"939.517734375\" y=\"75.0\" dominant-baseline=\"middle\" text-anchor=\"middle\" font-size=\"18px\" font-family=\"Arial\">Z</text></svg>",
            "text/plain": [
              "<cirq.contrib.svg.svg.SVGCircuit at 0x7efd7c604990>"
            ]
          },
          "execution_count": 51,
          "metadata": {},
          "output_type": "execute_result"
        }
      ],
      "source": [
        "SVGCircuit(two_qubit_unitary(cirq.GridQubit.rect(1, 2)))"
      ]
    },
    {
      "cell_type": "markdown",
      "metadata": {
        "id": "sdS1Q7QwLn7o"
      },
      "source": [
        "#### Two Qubit Pooling Circuit"
      ]
    },
    {
      "cell_type": "code",
      "execution_count": null,
      "metadata": {
        "id": "DFBMedWuLtzW"
      },
      "outputs": [],
      "source": [
        "def two_qubit_pool(source_qubit, sink_qubit):\n",
        "    \"\"\"Make a Cirq circuit to do a parameterized 'pooling' operation, which\n",
        "    attempts to reduce entanglement down from two qubits to just one.\"\"\"\n",
        "    pool_circuit = cirq.Circuit()\n",
        "    sink_basis_selector = one_qubit_unitary(sink_qubit)\n",
        "    source_basis_selector = one_qubit_unitary(source_qubit)\n",
        "    pool_circuit.append(sink_basis_selector)\n",
        "    pool_circuit.append(source_basis_selector)\n",
        "    pool_circuit.append(cirq.CNOT(control=source_qubit, target=sink_qubit))\n",
        "    pool_circuit.append(sink_basis_selector**-1)\n",
        "    return pool_circuit"
      ]
    },
    {
      "cell_type": "code",
      "execution_count": null,
      "metadata": {
        "colab": {
          "base_uri": "https://localhost:8080/",
          "height": 121
        },
        "id": "vWSXvAIZLv-G",
        "outputId": "c5d3bd15-b12e-487d-d572-28539c8cb00b"
      },
      "outputs": [
        {
          "data": {
            "image/svg+xml": "<svg xmlns=\"http://www.w3.org/2000/svg\" width=\"709.517734375\" height=\"100.0\"><line x1=\"34.7588671875\" x2=\"679.517734375\" y1=\"25.0\" y2=\"25.0\" stroke=\"#1967d2\" stroke-width=\"1\" /><line x1=\"34.7588671875\" x2=\"679.517734375\" y1=\"75.0\" y2=\"75.0\" stroke=\"#1967d2\" stroke-width=\"1\" /><line x1=\"459.51773437500003\" x2=\"459.51773437500003\" y1=\"25.0\" y2=\"75.0\" stroke=\"black\" stroke-width=\"3\" /><rect x=\"10.0\" y=\"5.0\" width=\"49.517734375\" height=\"40\" stroke=\"black\" fill=\"white\" stroke-width=\"0\" /><text x=\"34.7588671875\" y=\"25.0\" dominant-baseline=\"middle\" text-anchor=\"middle\" font-size=\"14px\" font-family=\"Arial\">(0, 0): </text><rect x=\"10.0\" y=\"55.0\" width=\"49.517734375\" height=\"40\" stroke=\"black\" fill=\"white\" stroke-width=\"0\" /><text x=\"34.7588671875\" y=\"75.0\" dominant-baseline=\"middle\" text-anchor=\"middle\" font-size=\"14px\" font-family=\"Arial\">(0, 1): </text><rect x=\"79.517734375\" y=\"55.0\" width=\"40\" height=\"40\" stroke=\"black\" fill=\"white\" stroke-width=\"1\" /><text x=\"99.517734375\" y=\"75.0\" dominant-baseline=\"middle\" text-anchor=\"middle\" font-size=\"18px\" font-family=\"Arial\">X</text><rect x=\"139.517734375\" y=\"55.0\" width=\"40\" height=\"40\" stroke=\"black\" fill=\"white\" stroke-width=\"1\" /><text x=\"159.517734375\" y=\"75.0\" dominant-baseline=\"middle\" text-anchor=\"middle\" font-size=\"18px\" font-family=\"Arial\">Y</text><rect x=\"199.517734375\" y=\"55.0\" width=\"40\" height=\"40\" stroke=\"black\" fill=\"white\" stroke-width=\"1\" /><text x=\"219.517734375\" y=\"75.0\" dominant-baseline=\"middle\" text-anchor=\"middle\" font-size=\"18px\" font-family=\"Arial\">Z</text><rect x=\"259.51773437500003\" y=\"5.0\" width=\"40\" height=\"40\" stroke=\"black\" fill=\"white\" stroke-width=\"1\" /><text x=\"279.51773437500003\" y=\"25.0\" dominant-baseline=\"middle\" text-anchor=\"middle\" font-size=\"18px\" font-family=\"Arial\">X</text><rect x=\"319.51773437500003\" y=\"5.0\" width=\"40\" height=\"40\" stroke=\"black\" fill=\"white\" stroke-width=\"1\" /><text x=\"339.51773437500003\" y=\"25.0\" dominant-baseline=\"middle\" text-anchor=\"middle\" font-size=\"18px\" font-family=\"Arial\">Y</text><rect x=\"379.51773437500003\" y=\"5.0\" width=\"40\" height=\"40\" stroke=\"black\" fill=\"white\" stroke-width=\"1\" /><text x=\"399.51773437500003\" y=\"25.0\" dominant-baseline=\"middle\" text-anchor=\"middle\" font-size=\"18px\" font-family=\"Arial\">Z</text><circle cx=\"459.51773437500003\" cy=\"25.0\" r=\"10.0\" /><rect x=\"439.51773437500003\" y=\"55.0\" width=\"40\" height=\"40\" stroke=\"black\" fill=\"white\" stroke-width=\"1\" /><text x=\"459.51773437500003\" y=\"75.0\" dominant-baseline=\"middle\" text-anchor=\"middle\" font-size=\"18px\" font-family=\"Arial\">X</text><rect x=\"499.51773437500003\" y=\"55.0\" width=\"40\" height=\"40\" stroke=\"black\" fill=\"white\" stroke-width=\"1\" /><text x=\"519.517734375\" y=\"75.0\" dominant-baseline=\"middle\" text-anchor=\"middle\" font-size=\"18px\" font-family=\"Arial\">Z</text><rect x=\"559.517734375\" y=\"55.0\" width=\"40\" height=\"40\" stroke=\"black\" fill=\"white\" stroke-width=\"1\" /><text x=\"579.517734375\" y=\"75.0\" dominant-baseline=\"middle\" text-anchor=\"middle\" font-size=\"18px\" font-family=\"Arial\">Y</text><rect x=\"619.517734375\" y=\"55.0\" width=\"40\" height=\"40\" stroke=\"black\" fill=\"white\" stroke-width=\"1\" /><text x=\"639.517734375\" y=\"75.0\" dominant-baseline=\"middle\" text-anchor=\"middle\" font-size=\"18px\" font-family=\"Arial\">X</text></svg>",
            "text/plain": [
              "<cirq.contrib.svg.svg.SVGCircuit at 0x7efd7c465090>"
            ]
          },
          "execution_count": 53,
          "metadata": {},
          "output_type": "execute_result"
        }
      ],
      "source": [
        "SVGCircuit(two_qubit_pool(*cirq.GridQubit.rect(1, 2)))"
      ]
    },
    {
      "cell_type": "markdown",
      "metadata": {
        "id": "6_gJFx85MF2O"
      },
      "source": [
        "#### 1D Quantum Convolution\n",
        "\n",
        "As in the [Cong and Lukin paper](https://arxiv.org/abs/1810.03787), define the 1D quantum convolution as the application of a two-qubit parameterized unitary to every pair of adjacent qubits with a stride of one."
      ]
    },
    {
      "cell_type": "code",
      "execution_count": null,
      "metadata": {
        "id": "MkC6nbe4MaSi"
      },
      "outputs": [],
      "source": [
        "def quantum_conv_circuit(qubits):\n",
        "    \"\"\"Quantum Convolution Layer following the above diagram.\n",
        "    Return a Cirq circuit with the cascade of `two_qubit_unitary` applied\n",
        "    to all pairs of qubits in `bits` as in the diagram above.\n",
        "    \"\"\"\n",
        "    circuit = cirq.Circuit()\n",
        "    for first, second in zip(qubits[0::2], qubits[1::2]):\n",
        "        circuit += two_qubit_unitary([first, second])\n",
        "    for first, second in zip(qubits[1::2], qubits[2::2] + [qubits[0]]):\n",
        "        circuit += two_qubit_unitary([first, second])\n",
        "    return circuit"
      ]
    },
    {
      "cell_type": "code",
      "execution_count": null,
      "metadata": {
        "colab": {
          "base_uri": "https://localhost:8080/",
          "height": 441
        },
        "id": "qoPi6Zz5MbyP",
        "outputId": "ef571dc7-4bf0-4561-de58-f9f811072580"
      },
      "outputs": [
        {
          "data": {
            "image/svg+xml": "<svg xmlns=\"http://www.w3.org/2000/svg\" width=\"7309.517734375\" height=\"400.0\"><line x1=\"34.7588671875\" x2=\"7279.517734375\" y1=\"25.0\" y2=\"25.0\" stroke=\"#1967d2\" stroke-width=\"1\" /><line x1=\"34.7588671875\" x2=\"7279.517734375\" y1=\"75.0\" y2=\"75.0\" stroke=\"#1967d2\" stroke-width=\"1\" /><line x1=\"34.7588671875\" x2=\"7279.517734375\" y1=\"125.0\" y2=\"125.0\" stroke=\"#1967d2\" stroke-width=\"1\" /><line x1=\"34.7588671875\" x2=\"7279.517734375\" y1=\"175.0\" y2=\"175.0\" stroke=\"#1967d2\" stroke-width=\"1\" /><line x1=\"34.7588671875\" x2=\"7279.517734375\" y1=\"225.0\" y2=\"225.0\" stroke=\"#1967d2\" stroke-width=\"1\" /><line x1=\"34.7588671875\" x2=\"7279.517734375\" y1=\"275.0\" y2=\"275.0\" stroke=\"#1967d2\" stroke-width=\"1\" /><line x1=\"34.7588671875\" x2=\"7279.517734375\" y1=\"325.0\" y2=\"325.0\" stroke=\"#1967d2\" stroke-width=\"1\" /><line x1=\"34.7588671875\" x2=\"7279.517734375\" y1=\"375.0\" y2=\"375.0\" stroke=\"#1967d2\" stroke-width=\"1\" /><line x1=\"459.51773437500003\" x2=\"459.51773437500003\" y1=\"25.0\" y2=\"75.0\" stroke=\"black\" stroke-width=\"3\" /><line x1=\"519.517734375\" x2=\"519.517734375\" y1=\"25.0\" y2=\"75.0\" stroke=\"black\" stroke-width=\"3\" /><line x1=\"579.517734375\" x2=\"579.517734375\" y1=\"25.0\" y2=\"75.0\" stroke=\"black\" stroke-width=\"3\" /><line x1=\"1359.5177343750001\" x2=\"1359.5177343750001\" y1=\"125.0\" y2=\"175.0\" stroke=\"black\" stroke-width=\"3\" /><line x1=\"1419.5177343750001\" x2=\"1419.5177343750001\" y1=\"125.0\" y2=\"175.0\" stroke=\"black\" stroke-width=\"3\" /><line x1=\"1479.5177343750001\" x2=\"1479.5177343750001\" y1=\"125.0\" y2=\"175.0\" stroke=\"black\" stroke-width=\"3\" /><line x1=\"2259.517734375\" x2=\"2259.517734375\" y1=\"225.0\" y2=\"275.0\" stroke=\"black\" stroke-width=\"3\" /><line x1=\"2319.517734375\" x2=\"2319.517734375\" y1=\"225.0\" y2=\"275.0\" stroke=\"black\" stroke-width=\"3\" /><line x1=\"2379.517734375\" x2=\"2379.517734375\" y1=\"225.0\" y2=\"275.0\" stroke=\"black\" stroke-width=\"3\" /><line x1=\"3159.517734375\" x2=\"3159.517734375\" y1=\"325.0\" y2=\"375.0\" stroke=\"black\" stroke-width=\"3\" /><line x1=\"3219.517734375\" x2=\"3219.517734375\" y1=\"325.0\" y2=\"375.0\" stroke=\"black\" stroke-width=\"3\" /><line x1=\"3279.517734375\" x2=\"3279.517734375\" y1=\"325.0\" y2=\"375.0\" stroke=\"black\" stroke-width=\"3\" /><line x1=\"4059.517734375\" x2=\"4059.517734375\" y1=\"75.0\" y2=\"125.0\" stroke=\"black\" stroke-width=\"3\" /><line x1=\"4119.517734375\" x2=\"4119.517734375\" y1=\"75.0\" y2=\"125.0\" stroke=\"black\" stroke-width=\"3\" /><line x1=\"4179.517734375\" x2=\"4179.517734375\" y1=\"75.0\" y2=\"125.0\" stroke=\"black\" stroke-width=\"3\" /><line x1=\"4959.517734375\" x2=\"4959.517734375\" y1=\"175.0\" y2=\"225.0\" stroke=\"black\" stroke-width=\"3\" /><line x1=\"5019.517734375\" x2=\"5019.517734375\" y1=\"175.0\" y2=\"225.0\" stroke=\"black\" stroke-width=\"3\" /><line x1=\"5079.517734375\" x2=\"5079.517734375\" y1=\"175.0\" y2=\"225.0\" stroke=\"black\" stroke-width=\"3\" /><line x1=\"5859.517734375\" x2=\"5859.517734375\" y1=\"275.0\" y2=\"325.0\" stroke=\"black\" stroke-width=\"3\" /><line x1=\"5919.517734375\" x2=\"5919.517734375\" y1=\"275.0\" y2=\"325.0\" stroke=\"black\" stroke-width=\"3\" /><line x1=\"5979.517734375\" x2=\"5979.517734375\" y1=\"275.0\" y2=\"325.0\" stroke=\"black\" stroke-width=\"3\" /><line x1=\"6759.517734375\" x2=\"6759.517734375\" y1=\"25.0\" y2=\"375.0\" stroke=\"black\" stroke-width=\"3\" /><line x1=\"6819.517734375\" x2=\"6819.517734375\" y1=\"25.0\" y2=\"375.0\" stroke=\"black\" stroke-width=\"3\" /><line x1=\"6879.517734375\" x2=\"6879.517734375\" y1=\"25.0\" y2=\"375.0\" stroke=\"black\" stroke-width=\"3\" /><rect x=\"10.0\" y=\"5.0\" width=\"49.517734375\" height=\"40\" stroke=\"black\" fill=\"white\" stroke-width=\"0\" /><text x=\"34.7588671875\" y=\"25.0\" dominant-baseline=\"middle\" text-anchor=\"middle\" font-size=\"14px\" font-family=\"Arial\">(0, 0): </text><rect x=\"10.0\" y=\"55.0\" width=\"49.517734375\" height=\"40\" stroke=\"black\" fill=\"white\" stroke-width=\"0\" /><text x=\"34.7588671875\" y=\"75.0\" dominant-baseline=\"middle\" text-anchor=\"middle\" font-size=\"14px\" font-family=\"Arial\">(0, 1): </text><rect x=\"10.0\" y=\"105.0\" width=\"49.517734375\" height=\"40\" stroke=\"black\" fill=\"white\" stroke-width=\"0\" /><text x=\"34.7588671875\" y=\"125.0\" dominant-baseline=\"middle\" text-anchor=\"middle\" font-size=\"14px\" font-family=\"Arial\">(0, 2): </text><rect x=\"10.0\" y=\"155.0\" width=\"49.517734375\" height=\"40\" stroke=\"black\" fill=\"white\" stroke-width=\"0\" /><text x=\"34.7588671875\" y=\"175.0\" dominant-baseline=\"middle\" text-anchor=\"middle\" font-size=\"14px\" font-family=\"Arial\">(0, 3): </text><rect x=\"10.0\" y=\"205.0\" width=\"49.517734375\" height=\"40\" stroke=\"black\" fill=\"white\" stroke-width=\"0\" /><text x=\"34.7588671875\" y=\"225.0\" dominant-baseline=\"middle\" text-anchor=\"middle\" font-size=\"14px\" font-family=\"Arial\">(0, 4): </text><rect x=\"10.0\" y=\"255.0\" width=\"49.517734375\" height=\"40\" stroke=\"black\" fill=\"white\" stroke-width=\"0\" /><text x=\"34.7588671875\" y=\"275.0\" dominant-baseline=\"middle\" text-anchor=\"middle\" font-size=\"14px\" font-family=\"Arial\">(0, 5): </text><rect x=\"10.0\" y=\"305.0\" width=\"49.517734375\" height=\"40\" stroke=\"black\" fill=\"white\" stroke-width=\"0\" /><text x=\"34.7588671875\" y=\"325.0\" dominant-baseline=\"middle\" text-anchor=\"middle\" font-size=\"14px\" font-family=\"Arial\">(0, 6): </text><rect x=\"10.0\" y=\"355.0\" width=\"49.517734375\" height=\"40\" stroke=\"black\" fill=\"white\" stroke-width=\"0\" /><text x=\"34.7588671875\" y=\"375.0\" dominant-baseline=\"middle\" text-anchor=\"middle\" font-size=\"14px\" font-family=\"Arial\">(0, 7): </text><rect x=\"79.517734375\" y=\"5.0\" width=\"40\" height=\"40\" stroke=\"black\" fill=\"white\" stroke-width=\"1\" /><text x=\"99.517734375\" y=\"25.0\" dominant-baseline=\"middle\" text-anchor=\"middle\" font-size=\"18px\" font-family=\"Arial\">X</text><rect x=\"139.517734375\" y=\"5.0\" width=\"40\" height=\"40\" stroke=\"black\" fill=\"white\" stroke-width=\"1\" /><text x=\"159.517734375\" y=\"25.0\" dominant-baseline=\"middle\" text-anchor=\"middle\" font-size=\"18px\" font-family=\"Arial\">Y</text><rect x=\"199.517734375\" y=\"5.0\" width=\"40\" height=\"40\" stroke=\"black\" fill=\"white\" stroke-width=\"1\" /><text x=\"219.517734375\" y=\"25.0\" dominant-baseline=\"middle\" text-anchor=\"middle\" font-size=\"18px\" font-family=\"Arial\">Z</text><rect x=\"259.51773437500003\" y=\"55.0\" width=\"40\" height=\"40\" stroke=\"black\" fill=\"white\" stroke-width=\"1\" /><text x=\"279.51773437500003\" y=\"75.0\" dominant-baseline=\"middle\" text-anchor=\"middle\" font-size=\"18px\" font-family=\"Arial\">X</text><rect x=\"319.51773437500003\" y=\"55.0\" width=\"40\" height=\"40\" stroke=\"black\" fill=\"white\" stroke-width=\"1\" /><text x=\"339.51773437500003\" y=\"75.0\" dominant-baseline=\"middle\" text-anchor=\"middle\" font-size=\"18px\" font-family=\"Arial\">Y</text><rect x=\"379.51773437500003\" y=\"55.0\" width=\"40\" height=\"40\" stroke=\"black\" fill=\"white\" stroke-width=\"1\" /><text x=\"399.51773437500003\" y=\"75.0\" dominant-baseline=\"middle\" text-anchor=\"middle\" font-size=\"18px\" font-family=\"Arial\">Z</text><rect x=\"439.51773437500003\" y=\"5.0\" width=\"40\" height=\"40\" stroke=\"black\" fill=\"white\" stroke-width=\"1\" /><text x=\"459.51773437500003\" y=\"25.0\" dominant-baseline=\"middle\" text-anchor=\"middle\" font-size=\"14px\" font-family=\"Arial\">ZZ</text><rect x=\"439.51773437500003\" y=\"55.0\" width=\"40\" height=\"40\" stroke=\"black\" fill=\"white\" stroke-width=\"1\" /><text x=\"459.51773437500003\" y=\"75.0\" dominant-baseline=\"middle\" text-anchor=\"middle\" font-size=\"14px\" font-family=\"Arial\">ZZ</text><rect x=\"499.51773437500003\" y=\"5.0\" width=\"40\" height=\"40\" stroke=\"black\" fill=\"white\" stroke-width=\"1\" /><text x=\"519.517734375\" y=\"25.0\" dominant-baseline=\"middle\" text-anchor=\"middle\" font-size=\"14px\" font-family=\"Arial\">YY</text><rect x=\"499.51773437500003\" y=\"55.0\" width=\"40\" height=\"40\" stroke=\"black\" fill=\"white\" stroke-width=\"1\" /><text x=\"519.517734375\" y=\"75.0\" dominant-baseline=\"middle\" text-anchor=\"middle\" font-size=\"14px\" font-family=\"Arial\">YY</text><rect x=\"559.517734375\" y=\"5.0\" width=\"40\" height=\"40\" stroke=\"black\" fill=\"white\" stroke-width=\"1\" /><text x=\"579.517734375\" y=\"25.0\" dominant-baseline=\"middle\" text-anchor=\"middle\" font-size=\"14px\" font-family=\"Arial\">XX</text><rect x=\"559.517734375\" y=\"55.0\" width=\"40\" height=\"40\" stroke=\"black\" fill=\"white\" stroke-width=\"1\" /><text x=\"579.517734375\" y=\"75.0\" dominant-baseline=\"middle\" text-anchor=\"middle\" font-size=\"14px\" font-family=\"Arial\">XX</text><rect x=\"619.517734375\" y=\"5.0\" width=\"40\" height=\"40\" stroke=\"black\" fill=\"white\" stroke-width=\"1\" /><text x=\"639.517734375\" y=\"25.0\" dominant-baseline=\"middle\" text-anchor=\"middle\" font-size=\"18px\" font-family=\"Arial\">X</text><rect x=\"679.517734375\" y=\"5.0\" width=\"40\" height=\"40\" stroke=\"black\" fill=\"white\" stroke-width=\"1\" /><text x=\"699.517734375\" y=\"25.0\" dominant-baseline=\"middle\" text-anchor=\"middle\" font-size=\"18px\" font-family=\"Arial\">Y</text><rect x=\"739.517734375\" y=\"5.0\" width=\"40\" height=\"40\" stroke=\"black\" fill=\"white\" stroke-width=\"1\" /><text x=\"759.517734375\" y=\"25.0\" dominant-baseline=\"middle\" text-anchor=\"middle\" font-size=\"18px\" font-family=\"Arial\">Z</text><rect x=\"799.517734375\" y=\"55.0\" width=\"40\" height=\"40\" stroke=\"black\" fill=\"white\" stroke-width=\"1\" /><text x=\"819.517734375\" y=\"75.0\" dominant-baseline=\"middle\" text-anchor=\"middle\" font-size=\"18px\" font-family=\"Arial\">X</text><rect x=\"859.517734375\" y=\"55.0\" width=\"40\" height=\"40\" stroke=\"black\" fill=\"white\" stroke-width=\"1\" /><text x=\"879.517734375\" y=\"75.0\" dominant-baseline=\"middle\" text-anchor=\"middle\" font-size=\"18px\" font-family=\"Arial\">Y</text><rect x=\"919.517734375\" y=\"55.0\" width=\"40\" height=\"40\" stroke=\"black\" fill=\"white\" stroke-width=\"1\" /><text x=\"939.517734375\" y=\"75.0\" dominant-baseline=\"middle\" text-anchor=\"middle\" font-size=\"18px\" font-family=\"Arial\">Z</text><rect x=\"979.517734375\" y=\"105.0\" width=\"40\" height=\"40\" stroke=\"black\" fill=\"white\" stroke-width=\"1\" /><text x=\"999.517734375\" y=\"125.0\" dominant-baseline=\"middle\" text-anchor=\"middle\" font-size=\"18px\" font-family=\"Arial\">X</text><rect x=\"1039.5177343750001\" y=\"105.0\" width=\"40\" height=\"40\" stroke=\"black\" fill=\"white\" stroke-width=\"1\" /><text x=\"1059.5177343750001\" y=\"125.0\" dominant-baseline=\"middle\" text-anchor=\"middle\" font-size=\"18px\" font-family=\"Arial\">Y</text><rect x=\"1099.5177343750001\" y=\"105.0\" width=\"40\" height=\"40\" stroke=\"black\" fill=\"white\" stroke-width=\"1\" /><text x=\"1119.5177343750001\" y=\"125.0\" dominant-baseline=\"middle\" text-anchor=\"middle\" font-size=\"18px\" font-family=\"Arial\">Z</text><rect x=\"1159.5177343750001\" y=\"155.0\" width=\"40\" height=\"40\" stroke=\"black\" fill=\"white\" stroke-width=\"1\" /><text x=\"1179.5177343750001\" y=\"175.0\" dominant-baseline=\"middle\" text-anchor=\"middle\" font-size=\"18px\" font-family=\"Arial\">X</text><rect x=\"1219.5177343750001\" y=\"155.0\" width=\"40\" height=\"40\" stroke=\"black\" fill=\"white\" stroke-width=\"1\" /><text x=\"1239.5177343750001\" y=\"175.0\" dominant-baseline=\"middle\" text-anchor=\"middle\" font-size=\"18px\" font-family=\"Arial\">Y</text><rect x=\"1279.5177343750001\" y=\"155.0\" width=\"40\" height=\"40\" stroke=\"black\" fill=\"white\" stroke-width=\"1\" /><text x=\"1299.5177343750001\" y=\"175.0\" dominant-baseline=\"middle\" text-anchor=\"middle\" font-size=\"18px\" font-family=\"Arial\">Z</text><rect x=\"1339.5177343750001\" y=\"105.0\" width=\"40\" height=\"40\" stroke=\"black\" fill=\"white\" stroke-width=\"1\" /><text x=\"1359.5177343750001\" y=\"125.0\" dominant-baseline=\"middle\" text-anchor=\"middle\" font-size=\"14px\" font-family=\"Arial\">ZZ</text><rect x=\"1339.5177343750001\" y=\"155.0\" width=\"40\" height=\"40\" stroke=\"black\" fill=\"white\" stroke-width=\"1\" /><text x=\"1359.5177343750001\" y=\"175.0\" dominant-baseline=\"middle\" text-anchor=\"middle\" font-size=\"14px\" font-family=\"Arial\">ZZ</text><rect x=\"1399.5177343750001\" y=\"105.0\" width=\"40\" height=\"40\" stroke=\"black\" fill=\"white\" stroke-width=\"1\" /><text x=\"1419.5177343750001\" y=\"125.0\" dominant-baseline=\"middle\" text-anchor=\"middle\" font-size=\"14px\" font-family=\"Arial\">YY</text><rect x=\"1399.5177343750001\" y=\"155.0\" width=\"40\" height=\"40\" stroke=\"black\" fill=\"white\" stroke-width=\"1\" /><text x=\"1419.5177343750001\" y=\"175.0\" dominant-baseline=\"middle\" text-anchor=\"middle\" font-size=\"14px\" font-family=\"Arial\">YY</text><rect x=\"1459.5177343750001\" y=\"105.0\" width=\"40\" height=\"40\" stroke=\"black\" fill=\"white\" stroke-width=\"1\" /><text x=\"1479.5177343750001\" y=\"125.0\" dominant-baseline=\"middle\" text-anchor=\"middle\" font-size=\"14px\" font-family=\"Arial\">XX</text><rect x=\"1459.5177343750001\" y=\"155.0\" width=\"40\" height=\"40\" stroke=\"black\" fill=\"white\" stroke-width=\"1\" /><text x=\"1479.5177343750001\" y=\"175.0\" dominant-baseline=\"middle\" text-anchor=\"middle\" font-size=\"14px\" font-family=\"Arial\">XX</text><rect x=\"1519.5177343750001\" y=\"105.0\" width=\"40\" height=\"40\" stroke=\"black\" fill=\"white\" stroke-width=\"1\" /><text x=\"1539.5177343750001\" y=\"125.0\" dominant-baseline=\"middle\" text-anchor=\"middle\" font-size=\"18px\" font-family=\"Arial\">X</text><rect x=\"1579.5177343750001\" y=\"105.0\" width=\"40\" height=\"40\" stroke=\"black\" fill=\"white\" stroke-width=\"1\" /><text x=\"1599.5177343750001\" y=\"125.0\" dominant-baseline=\"middle\" text-anchor=\"middle\" font-size=\"18px\" font-family=\"Arial\">Y</text><rect x=\"1639.5177343750001\" y=\"105.0\" width=\"40\" height=\"40\" stroke=\"black\" fill=\"white\" stroke-width=\"1\" /><text x=\"1659.5177343750001\" y=\"125.0\" dominant-baseline=\"middle\" text-anchor=\"middle\" font-size=\"18px\" font-family=\"Arial\">Z</text><rect x=\"1699.5177343750001\" y=\"155.0\" width=\"40\" height=\"40\" stroke=\"black\" fill=\"white\" stroke-width=\"1\" /><text x=\"1719.5177343750001\" y=\"175.0\" dominant-baseline=\"middle\" text-anchor=\"middle\" font-size=\"18px\" font-family=\"Arial\">X</text><rect x=\"1759.5177343750001\" y=\"155.0\" width=\"40\" height=\"40\" stroke=\"black\" fill=\"white\" stroke-width=\"1\" /><text x=\"1779.5177343750001\" y=\"175.0\" dominant-baseline=\"middle\" text-anchor=\"middle\" font-size=\"18px\" font-family=\"Arial\">Y</text><rect x=\"1819.5177343750001\" y=\"155.0\" width=\"40\" height=\"40\" stroke=\"black\" fill=\"white\" stroke-width=\"1\" /><text x=\"1839.5177343750001\" y=\"175.0\" dominant-baseline=\"middle\" text-anchor=\"middle\" font-size=\"18px\" font-family=\"Arial\">Z</text><rect x=\"1879.5177343750001\" y=\"205.0\" width=\"40\" height=\"40\" stroke=\"black\" fill=\"white\" stroke-width=\"1\" /><text x=\"1899.5177343750001\" y=\"225.0\" dominant-baseline=\"middle\" text-anchor=\"middle\" font-size=\"18px\" font-family=\"Arial\">X</text><rect x=\"1939.5177343750001\" y=\"205.0\" width=\"40\" height=\"40\" stroke=\"black\" fill=\"white\" stroke-width=\"1\" /><text x=\"1959.5177343750001\" y=\"225.0\" dominant-baseline=\"middle\" text-anchor=\"middle\" font-size=\"18px\" font-family=\"Arial\">Y</text><rect x=\"1999.5177343750001\" y=\"205.0\" width=\"40\" height=\"40\" stroke=\"black\" fill=\"white\" stroke-width=\"1\" /><text x=\"2019.5177343750001\" y=\"225.0\" dominant-baseline=\"middle\" text-anchor=\"middle\" font-size=\"18px\" font-family=\"Arial\">Z</text><rect x=\"2059.517734375\" y=\"255.0\" width=\"40\" height=\"40\" stroke=\"black\" fill=\"white\" stroke-width=\"1\" /><text x=\"2079.517734375\" y=\"275.0\" dominant-baseline=\"middle\" text-anchor=\"middle\" font-size=\"18px\" font-family=\"Arial\">X</text><rect x=\"2119.517734375\" y=\"255.0\" width=\"40\" height=\"40\" stroke=\"black\" fill=\"white\" stroke-width=\"1\" /><text x=\"2139.517734375\" y=\"275.0\" dominant-baseline=\"middle\" text-anchor=\"middle\" font-size=\"18px\" font-family=\"Arial\">Y</text><rect x=\"2179.517734375\" y=\"255.0\" width=\"40\" height=\"40\" stroke=\"black\" fill=\"white\" stroke-width=\"1\" /><text x=\"2199.517734375\" y=\"275.0\" dominant-baseline=\"middle\" text-anchor=\"middle\" font-size=\"18px\" font-family=\"Arial\">Z</text><rect x=\"2239.517734375\" y=\"205.0\" width=\"40\" height=\"40\" stroke=\"black\" fill=\"white\" stroke-width=\"1\" /><text x=\"2259.517734375\" y=\"225.0\" dominant-baseline=\"middle\" text-anchor=\"middle\" font-size=\"14px\" font-family=\"Arial\">ZZ</text><rect x=\"2239.517734375\" y=\"255.0\" width=\"40\" height=\"40\" stroke=\"black\" fill=\"white\" stroke-width=\"1\" /><text x=\"2259.517734375\" y=\"275.0\" dominant-baseline=\"middle\" text-anchor=\"middle\" font-size=\"14px\" font-family=\"Arial\">ZZ</text><rect x=\"2299.517734375\" y=\"205.0\" width=\"40\" height=\"40\" stroke=\"black\" fill=\"white\" stroke-width=\"1\" /><text x=\"2319.517734375\" y=\"225.0\" dominant-baseline=\"middle\" text-anchor=\"middle\" font-size=\"14px\" font-family=\"Arial\">YY</text><rect x=\"2299.517734375\" y=\"255.0\" width=\"40\" height=\"40\" stroke=\"black\" fill=\"white\" stroke-width=\"1\" /><text x=\"2319.517734375\" y=\"275.0\" dominant-baseline=\"middle\" text-anchor=\"middle\" font-size=\"14px\" font-family=\"Arial\">YY</text><rect x=\"2359.517734375\" y=\"205.0\" width=\"40\" height=\"40\" stroke=\"black\" fill=\"white\" stroke-width=\"1\" /><text x=\"2379.517734375\" y=\"225.0\" dominant-baseline=\"middle\" text-anchor=\"middle\" font-size=\"14px\" font-family=\"Arial\">XX</text><rect x=\"2359.517734375\" y=\"255.0\" width=\"40\" height=\"40\" stroke=\"black\" fill=\"white\" stroke-width=\"1\" /><text x=\"2379.517734375\" y=\"275.0\" dominant-baseline=\"middle\" text-anchor=\"middle\" font-size=\"14px\" font-family=\"Arial\">XX</text><rect x=\"2419.517734375\" y=\"205.0\" width=\"40\" height=\"40\" stroke=\"black\" fill=\"white\" stroke-width=\"1\" /><text x=\"2439.517734375\" y=\"225.0\" dominant-baseline=\"middle\" text-anchor=\"middle\" font-size=\"18px\" font-family=\"Arial\">X</text><rect x=\"2479.517734375\" y=\"205.0\" width=\"40\" height=\"40\" stroke=\"black\" fill=\"white\" stroke-width=\"1\" /><text x=\"2499.517734375\" y=\"225.0\" dominant-baseline=\"middle\" text-anchor=\"middle\" font-size=\"18px\" font-family=\"Arial\">Y</text><rect x=\"2539.517734375\" y=\"205.0\" width=\"40\" height=\"40\" stroke=\"black\" fill=\"white\" stroke-width=\"1\" /><text x=\"2559.517734375\" y=\"225.0\" dominant-baseline=\"middle\" text-anchor=\"middle\" font-size=\"18px\" font-family=\"Arial\">Z</text><rect x=\"2599.517734375\" y=\"255.0\" width=\"40\" height=\"40\" stroke=\"black\" fill=\"white\" stroke-width=\"1\" /><text x=\"2619.517734375\" y=\"275.0\" dominant-baseline=\"middle\" text-anchor=\"middle\" font-size=\"18px\" font-family=\"Arial\">X</text><rect x=\"2659.517734375\" y=\"255.0\" width=\"40\" height=\"40\" stroke=\"black\" fill=\"white\" stroke-width=\"1\" /><text x=\"2679.517734375\" y=\"275.0\" dominant-baseline=\"middle\" text-anchor=\"middle\" font-size=\"18px\" font-family=\"Arial\">Y</text><rect x=\"2719.517734375\" y=\"255.0\" width=\"40\" height=\"40\" stroke=\"black\" fill=\"white\" stroke-width=\"1\" /><text x=\"2739.517734375\" y=\"275.0\" dominant-baseline=\"middle\" text-anchor=\"middle\" font-size=\"18px\" font-family=\"Arial\">Z</text><rect x=\"2779.517734375\" y=\"305.0\" width=\"40\" height=\"40\" stroke=\"black\" fill=\"white\" stroke-width=\"1\" /><text x=\"2799.517734375\" y=\"325.0\" dominant-baseline=\"middle\" text-anchor=\"middle\" font-size=\"18px\" font-family=\"Arial\">X</text><rect x=\"2839.517734375\" y=\"305.0\" width=\"40\" height=\"40\" stroke=\"black\" fill=\"white\" stroke-width=\"1\" /><text x=\"2859.517734375\" y=\"325.0\" dominant-baseline=\"middle\" text-anchor=\"middle\" font-size=\"18px\" font-family=\"Arial\">Y</text><rect x=\"2899.517734375\" y=\"305.0\" width=\"40\" height=\"40\" stroke=\"black\" fill=\"white\" stroke-width=\"1\" /><text x=\"2919.517734375\" y=\"325.0\" dominant-baseline=\"middle\" text-anchor=\"middle\" font-size=\"18px\" font-family=\"Arial\">Z</text><rect x=\"2959.517734375\" y=\"355.0\" width=\"40\" height=\"40\" stroke=\"black\" fill=\"white\" stroke-width=\"1\" /><text x=\"2979.517734375\" y=\"375.0\" dominant-baseline=\"middle\" text-anchor=\"middle\" font-size=\"18px\" font-family=\"Arial\">X</text><rect x=\"3019.517734375\" y=\"355.0\" width=\"40\" height=\"40\" stroke=\"black\" fill=\"white\" stroke-width=\"1\" /><text x=\"3039.517734375\" y=\"375.0\" dominant-baseline=\"middle\" text-anchor=\"middle\" font-size=\"18px\" font-family=\"Arial\">Y</text><rect x=\"3079.517734375\" y=\"355.0\" width=\"40\" height=\"40\" stroke=\"black\" fill=\"white\" stroke-width=\"1\" /><text x=\"3099.517734375\" y=\"375.0\" dominant-baseline=\"middle\" text-anchor=\"middle\" font-size=\"18px\" font-family=\"Arial\">Z</text><rect x=\"3139.517734375\" y=\"305.0\" width=\"40\" height=\"40\" stroke=\"black\" fill=\"white\" stroke-width=\"1\" /><text x=\"3159.517734375\" y=\"325.0\" dominant-baseline=\"middle\" text-anchor=\"middle\" font-size=\"14px\" font-family=\"Arial\">ZZ</text><rect x=\"3139.517734375\" y=\"355.0\" width=\"40\" height=\"40\" stroke=\"black\" fill=\"white\" stroke-width=\"1\" /><text x=\"3159.517734375\" y=\"375.0\" dominant-baseline=\"middle\" text-anchor=\"middle\" font-size=\"14px\" font-family=\"Arial\">ZZ</text><rect x=\"3199.517734375\" y=\"305.0\" width=\"40\" height=\"40\" stroke=\"black\" fill=\"white\" stroke-width=\"1\" /><text x=\"3219.517734375\" y=\"325.0\" dominant-baseline=\"middle\" text-anchor=\"middle\" font-size=\"14px\" font-family=\"Arial\">YY</text><rect x=\"3199.517734375\" y=\"355.0\" width=\"40\" height=\"40\" stroke=\"black\" fill=\"white\" stroke-width=\"1\" /><text x=\"3219.517734375\" y=\"375.0\" dominant-baseline=\"middle\" text-anchor=\"middle\" font-size=\"14px\" font-family=\"Arial\">YY</text><rect x=\"3259.517734375\" y=\"305.0\" width=\"40\" height=\"40\" stroke=\"black\" fill=\"white\" stroke-width=\"1\" /><text x=\"3279.517734375\" y=\"325.0\" dominant-baseline=\"middle\" text-anchor=\"middle\" font-size=\"14px\" font-family=\"Arial\">XX</text><rect x=\"3259.517734375\" y=\"355.0\" width=\"40\" height=\"40\" stroke=\"black\" fill=\"white\" stroke-width=\"1\" /><text x=\"3279.517734375\" y=\"375.0\" dominant-baseline=\"middle\" text-anchor=\"middle\" font-size=\"14px\" font-family=\"Arial\">XX</text><rect x=\"3319.517734375\" y=\"305.0\" width=\"40\" height=\"40\" stroke=\"black\" fill=\"white\" stroke-width=\"1\" /><text x=\"3339.517734375\" y=\"325.0\" dominant-baseline=\"middle\" text-anchor=\"middle\" font-size=\"18px\" font-family=\"Arial\">X</text><rect x=\"3379.517734375\" y=\"305.0\" width=\"40\" height=\"40\" stroke=\"black\" fill=\"white\" stroke-width=\"1\" /><text x=\"3399.517734375\" y=\"325.0\" dominant-baseline=\"middle\" text-anchor=\"middle\" font-size=\"18px\" font-family=\"Arial\">Y</text><rect x=\"3439.517734375\" y=\"305.0\" width=\"40\" height=\"40\" stroke=\"black\" fill=\"white\" stroke-width=\"1\" /><text x=\"3459.517734375\" y=\"325.0\" dominant-baseline=\"middle\" text-anchor=\"middle\" font-size=\"18px\" font-family=\"Arial\">Z</text><rect x=\"3499.517734375\" y=\"355.0\" width=\"40\" height=\"40\" stroke=\"black\" fill=\"white\" stroke-width=\"1\" /><text x=\"3519.517734375\" y=\"375.0\" dominant-baseline=\"middle\" text-anchor=\"middle\" font-size=\"18px\" font-family=\"Arial\">X</text><rect x=\"3559.517734375\" y=\"355.0\" width=\"40\" height=\"40\" stroke=\"black\" fill=\"white\" stroke-width=\"1\" /><text x=\"3579.517734375\" y=\"375.0\" dominant-baseline=\"middle\" text-anchor=\"middle\" font-size=\"18px\" font-family=\"Arial\">Y</text><rect x=\"3619.517734375\" y=\"355.0\" width=\"40\" height=\"40\" stroke=\"black\" fill=\"white\" stroke-width=\"1\" /><text x=\"3639.517734375\" y=\"375.0\" dominant-baseline=\"middle\" text-anchor=\"middle\" font-size=\"18px\" font-family=\"Arial\">Z</text><rect x=\"3679.517734375\" y=\"55.0\" width=\"40\" height=\"40\" stroke=\"black\" fill=\"white\" stroke-width=\"1\" /><text x=\"3699.517734375\" y=\"75.0\" dominant-baseline=\"middle\" text-anchor=\"middle\" font-size=\"18px\" font-family=\"Arial\">X</text><rect x=\"3739.517734375\" y=\"55.0\" width=\"40\" height=\"40\" stroke=\"black\" fill=\"white\" stroke-width=\"1\" /><text x=\"3759.517734375\" y=\"75.0\" dominant-baseline=\"middle\" text-anchor=\"middle\" font-size=\"18px\" font-family=\"Arial\">Y</text><rect x=\"3799.517734375\" y=\"55.0\" width=\"40\" height=\"40\" stroke=\"black\" fill=\"white\" stroke-width=\"1\" /><text x=\"3819.517734375\" y=\"75.0\" dominant-baseline=\"middle\" text-anchor=\"middle\" font-size=\"18px\" font-family=\"Arial\">Z</text><rect x=\"3859.517734375\" y=\"105.0\" width=\"40\" height=\"40\" stroke=\"black\" fill=\"white\" stroke-width=\"1\" /><text x=\"3879.517734375\" y=\"125.0\" dominant-baseline=\"middle\" text-anchor=\"middle\" font-size=\"18px\" font-family=\"Arial\">X</text><rect x=\"3919.517734375\" y=\"105.0\" width=\"40\" height=\"40\" stroke=\"black\" fill=\"white\" stroke-width=\"1\" /><text x=\"3939.517734375\" y=\"125.0\" dominant-baseline=\"middle\" text-anchor=\"middle\" font-size=\"18px\" font-family=\"Arial\">Y</text><rect x=\"3979.517734375\" y=\"105.0\" width=\"40\" height=\"40\" stroke=\"black\" fill=\"white\" stroke-width=\"1\" /><text x=\"3999.517734375\" y=\"125.0\" dominant-baseline=\"middle\" text-anchor=\"middle\" font-size=\"18px\" font-family=\"Arial\">Z</text><rect x=\"4039.517734375\" y=\"55.0\" width=\"40\" height=\"40\" stroke=\"black\" fill=\"white\" stroke-width=\"1\" /><text x=\"4059.517734375\" y=\"75.0\" dominant-baseline=\"middle\" text-anchor=\"middle\" font-size=\"14px\" font-family=\"Arial\">ZZ</text><rect x=\"4039.517734375\" y=\"105.0\" width=\"40\" height=\"40\" stroke=\"black\" fill=\"white\" stroke-width=\"1\" /><text x=\"4059.517734375\" y=\"125.0\" dominant-baseline=\"middle\" text-anchor=\"middle\" font-size=\"14px\" font-family=\"Arial\">ZZ</text><rect x=\"4099.517734375\" y=\"55.0\" width=\"40\" height=\"40\" stroke=\"black\" fill=\"white\" stroke-width=\"1\" /><text x=\"4119.517734375\" y=\"75.0\" dominant-baseline=\"middle\" text-anchor=\"middle\" font-size=\"14px\" font-family=\"Arial\">YY</text><rect x=\"4099.517734375\" y=\"105.0\" width=\"40\" height=\"40\" stroke=\"black\" fill=\"white\" stroke-width=\"1\" /><text x=\"4119.517734375\" y=\"125.0\" dominant-baseline=\"middle\" text-anchor=\"middle\" font-size=\"14px\" font-family=\"Arial\">YY</text><rect x=\"4159.517734375\" y=\"55.0\" width=\"40\" height=\"40\" stroke=\"black\" fill=\"white\" stroke-width=\"1\" /><text x=\"4179.517734375\" y=\"75.0\" dominant-baseline=\"middle\" text-anchor=\"middle\" font-size=\"14px\" font-family=\"Arial\">XX</text><rect x=\"4159.517734375\" y=\"105.0\" width=\"40\" height=\"40\" stroke=\"black\" fill=\"white\" stroke-width=\"1\" /><text x=\"4179.517734375\" y=\"125.0\" dominant-baseline=\"middle\" text-anchor=\"middle\" font-size=\"14px\" font-family=\"Arial\">XX</text><rect x=\"4219.517734375\" y=\"55.0\" width=\"40\" height=\"40\" stroke=\"black\" fill=\"white\" stroke-width=\"1\" /><text x=\"4239.517734375\" y=\"75.0\" dominant-baseline=\"middle\" text-anchor=\"middle\" font-size=\"18px\" font-family=\"Arial\">X</text><rect x=\"4279.517734375\" y=\"55.0\" width=\"40\" height=\"40\" stroke=\"black\" fill=\"white\" stroke-width=\"1\" /><text x=\"4299.517734375\" y=\"75.0\" dominant-baseline=\"middle\" text-anchor=\"middle\" font-size=\"18px\" font-family=\"Arial\">Y</text><rect x=\"4339.517734375\" y=\"55.0\" width=\"40\" height=\"40\" stroke=\"black\" fill=\"white\" stroke-width=\"1\" /><text x=\"4359.517734375\" y=\"75.0\" dominant-baseline=\"middle\" text-anchor=\"middle\" font-size=\"18px\" font-family=\"Arial\">Z</text><rect x=\"4399.517734375\" y=\"105.0\" width=\"40\" height=\"40\" stroke=\"black\" fill=\"white\" stroke-width=\"1\" /><text x=\"4419.517734375\" y=\"125.0\" dominant-baseline=\"middle\" text-anchor=\"middle\" font-size=\"18px\" font-family=\"Arial\">X</text><rect x=\"4459.517734375\" y=\"105.0\" width=\"40\" height=\"40\" stroke=\"black\" fill=\"white\" stroke-width=\"1\" /><text x=\"4479.517734375\" y=\"125.0\" dominant-baseline=\"middle\" text-anchor=\"middle\" font-size=\"18px\" font-family=\"Arial\">Y</text><rect x=\"4519.517734375\" y=\"105.0\" width=\"40\" height=\"40\" stroke=\"black\" fill=\"white\" stroke-width=\"1\" /><text x=\"4539.517734375\" y=\"125.0\" dominant-baseline=\"middle\" text-anchor=\"middle\" font-size=\"18px\" font-family=\"Arial\">Z</text><rect x=\"4579.517734375\" y=\"155.0\" width=\"40\" height=\"40\" stroke=\"black\" fill=\"white\" stroke-width=\"1\" /><text x=\"4599.517734375\" y=\"175.0\" dominant-baseline=\"middle\" text-anchor=\"middle\" font-size=\"18px\" font-family=\"Arial\">X</text><rect x=\"4639.517734375\" y=\"155.0\" width=\"40\" height=\"40\" stroke=\"black\" fill=\"white\" stroke-width=\"1\" /><text x=\"4659.517734375\" y=\"175.0\" dominant-baseline=\"middle\" text-anchor=\"middle\" font-size=\"18px\" font-family=\"Arial\">Y</text><rect x=\"4699.517734375\" y=\"155.0\" width=\"40\" height=\"40\" stroke=\"black\" fill=\"white\" stroke-width=\"1\" /><text x=\"4719.517734375\" y=\"175.0\" dominant-baseline=\"middle\" text-anchor=\"middle\" font-size=\"18px\" font-family=\"Arial\">Z</text><rect x=\"4759.517734375\" y=\"205.0\" width=\"40\" height=\"40\" stroke=\"black\" fill=\"white\" stroke-width=\"1\" /><text x=\"4779.517734375\" y=\"225.0\" dominant-baseline=\"middle\" text-anchor=\"middle\" font-size=\"18px\" font-family=\"Arial\">X</text><rect x=\"4819.517734375\" y=\"205.0\" width=\"40\" height=\"40\" stroke=\"black\" fill=\"white\" stroke-width=\"1\" /><text x=\"4839.517734375\" y=\"225.0\" dominant-baseline=\"middle\" text-anchor=\"middle\" font-size=\"18px\" font-family=\"Arial\">Y</text><rect x=\"4879.517734375\" y=\"205.0\" width=\"40\" height=\"40\" stroke=\"black\" fill=\"white\" stroke-width=\"1\" /><text x=\"4899.517734375\" y=\"225.0\" dominant-baseline=\"middle\" text-anchor=\"middle\" font-size=\"18px\" font-family=\"Arial\">Z</text><rect x=\"4939.517734375\" y=\"155.0\" width=\"40\" height=\"40\" stroke=\"black\" fill=\"white\" stroke-width=\"1\" /><text x=\"4959.517734375\" y=\"175.0\" dominant-baseline=\"middle\" text-anchor=\"middle\" font-size=\"14px\" font-family=\"Arial\">ZZ</text><rect x=\"4939.517734375\" y=\"205.0\" width=\"40\" height=\"40\" stroke=\"black\" fill=\"white\" stroke-width=\"1\" /><text x=\"4959.517734375\" y=\"225.0\" dominant-baseline=\"middle\" text-anchor=\"middle\" font-size=\"14px\" font-family=\"Arial\">ZZ</text><rect x=\"4999.517734375\" y=\"155.0\" width=\"40\" height=\"40\" stroke=\"black\" fill=\"white\" stroke-width=\"1\" /><text x=\"5019.517734375\" y=\"175.0\" dominant-baseline=\"middle\" text-anchor=\"middle\" font-size=\"14px\" font-family=\"Arial\">YY</text><rect x=\"4999.517734375\" y=\"205.0\" width=\"40\" height=\"40\" stroke=\"black\" fill=\"white\" stroke-width=\"1\" /><text x=\"5019.517734375\" y=\"225.0\" dominant-baseline=\"middle\" text-anchor=\"middle\" font-size=\"14px\" font-family=\"Arial\">YY</text><rect x=\"5059.517734375\" y=\"155.0\" width=\"40\" height=\"40\" stroke=\"black\" fill=\"white\" stroke-width=\"1\" /><text x=\"5079.517734375\" y=\"175.0\" dominant-baseline=\"middle\" text-anchor=\"middle\" font-size=\"14px\" font-family=\"Arial\">XX</text><rect x=\"5059.517734375\" y=\"205.0\" width=\"40\" height=\"40\" stroke=\"black\" fill=\"white\" stroke-width=\"1\" /><text x=\"5079.517734375\" y=\"225.0\" dominant-baseline=\"middle\" text-anchor=\"middle\" font-size=\"14px\" font-family=\"Arial\">XX</text><rect x=\"5119.517734375\" y=\"155.0\" width=\"40\" height=\"40\" stroke=\"black\" fill=\"white\" stroke-width=\"1\" /><text x=\"5139.517734375\" y=\"175.0\" dominant-baseline=\"middle\" text-anchor=\"middle\" font-size=\"18px\" font-family=\"Arial\">X</text><rect x=\"5179.517734375\" y=\"155.0\" width=\"40\" height=\"40\" stroke=\"black\" fill=\"white\" stroke-width=\"1\" /><text x=\"5199.517734375\" y=\"175.0\" dominant-baseline=\"middle\" text-anchor=\"middle\" font-size=\"18px\" font-family=\"Arial\">Y</text><rect x=\"5239.517734375\" y=\"155.0\" width=\"40\" height=\"40\" stroke=\"black\" fill=\"white\" stroke-width=\"1\" /><text x=\"5259.517734375\" y=\"175.0\" dominant-baseline=\"middle\" text-anchor=\"middle\" font-size=\"18px\" font-family=\"Arial\">Z</text><rect x=\"5299.517734375\" y=\"205.0\" width=\"40\" height=\"40\" stroke=\"black\" fill=\"white\" stroke-width=\"1\" /><text x=\"5319.517734375\" y=\"225.0\" dominant-baseline=\"middle\" text-anchor=\"middle\" font-size=\"18px\" font-family=\"Arial\">X</text><rect x=\"5359.517734375\" y=\"205.0\" width=\"40\" height=\"40\" stroke=\"black\" fill=\"white\" stroke-width=\"1\" /><text x=\"5379.517734375\" y=\"225.0\" dominant-baseline=\"middle\" text-anchor=\"middle\" font-size=\"18px\" font-family=\"Arial\">Y</text><rect x=\"5419.517734375\" y=\"205.0\" width=\"40\" height=\"40\" stroke=\"black\" fill=\"white\" stroke-width=\"1\" /><text x=\"5439.517734375\" y=\"225.0\" dominant-baseline=\"middle\" text-anchor=\"middle\" font-size=\"18px\" font-family=\"Arial\">Z</text><rect x=\"5479.517734375\" y=\"255.0\" width=\"40\" height=\"40\" stroke=\"black\" fill=\"white\" stroke-width=\"1\" /><text x=\"5499.517734375\" y=\"275.0\" dominant-baseline=\"middle\" text-anchor=\"middle\" font-size=\"18px\" font-family=\"Arial\">X</text><rect x=\"5539.517734375\" y=\"255.0\" width=\"40\" height=\"40\" stroke=\"black\" fill=\"white\" stroke-width=\"1\" /><text x=\"5559.517734375\" y=\"275.0\" dominant-baseline=\"middle\" text-anchor=\"middle\" font-size=\"18px\" font-family=\"Arial\">Y</text><rect x=\"5599.517734375\" y=\"255.0\" width=\"40\" height=\"40\" stroke=\"black\" fill=\"white\" stroke-width=\"1\" /><text x=\"5619.517734375\" y=\"275.0\" dominant-baseline=\"middle\" text-anchor=\"middle\" font-size=\"18px\" font-family=\"Arial\">Z</text><rect x=\"5659.517734375\" y=\"305.0\" width=\"40\" height=\"40\" stroke=\"black\" fill=\"white\" stroke-width=\"1\" /><text x=\"5679.517734375\" y=\"325.0\" dominant-baseline=\"middle\" text-anchor=\"middle\" font-size=\"18px\" font-family=\"Arial\">X</text><rect x=\"5719.517734375\" y=\"305.0\" width=\"40\" height=\"40\" stroke=\"black\" fill=\"white\" stroke-width=\"1\" /><text x=\"5739.517734375\" y=\"325.0\" dominant-baseline=\"middle\" text-anchor=\"middle\" font-size=\"18px\" font-family=\"Arial\">Y</text><rect x=\"5779.517734375\" y=\"305.0\" width=\"40\" height=\"40\" stroke=\"black\" fill=\"white\" stroke-width=\"1\" /><text x=\"5799.517734375\" y=\"325.0\" dominant-baseline=\"middle\" text-anchor=\"middle\" font-size=\"18px\" font-family=\"Arial\">Z</text><rect x=\"5839.517734375\" y=\"255.0\" width=\"40\" height=\"40\" stroke=\"black\" fill=\"white\" stroke-width=\"1\" /><text x=\"5859.517734375\" y=\"275.0\" dominant-baseline=\"middle\" text-anchor=\"middle\" font-size=\"14px\" font-family=\"Arial\">ZZ</text><rect x=\"5839.517734375\" y=\"305.0\" width=\"40\" height=\"40\" stroke=\"black\" fill=\"white\" stroke-width=\"1\" /><text x=\"5859.517734375\" y=\"325.0\" dominant-baseline=\"middle\" text-anchor=\"middle\" font-size=\"14px\" font-family=\"Arial\">ZZ</text><rect x=\"5899.517734375\" y=\"255.0\" width=\"40\" height=\"40\" stroke=\"black\" fill=\"white\" stroke-width=\"1\" /><text x=\"5919.517734375\" y=\"275.0\" dominant-baseline=\"middle\" text-anchor=\"middle\" font-size=\"14px\" font-family=\"Arial\">YY</text><rect x=\"5899.517734375\" y=\"305.0\" width=\"40\" height=\"40\" stroke=\"black\" fill=\"white\" stroke-width=\"1\" /><text x=\"5919.517734375\" y=\"325.0\" dominant-baseline=\"middle\" text-anchor=\"middle\" font-size=\"14px\" font-family=\"Arial\">YY</text><rect x=\"5959.517734375\" y=\"255.0\" width=\"40\" height=\"40\" stroke=\"black\" fill=\"white\" stroke-width=\"1\" /><text x=\"5979.517734375\" y=\"275.0\" dominant-baseline=\"middle\" text-anchor=\"middle\" font-size=\"14px\" font-family=\"Arial\">XX</text><rect x=\"5959.517734375\" y=\"305.0\" width=\"40\" height=\"40\" stroke=\"black\" fill=\"white\" stroke-width=\"1\" /><text x=\"5979.517734375\" y=\"325.0\" dominant-baseline=\"middle\" text-anchor=\"middle\" font-size=\"14px\" font-family=\"Arial\">XX</text><rect x=\"6019.517734375\" y=\"255.0\" width=\"40\" height=\"40\" stroke=\"black\" fill=\"white\" stroke-width=\"1\" /><text x=\"6039.517734375\" y=\"275.0\" dominant-baseline=\"middle\" text-anchor=\"middle\" font-size=\"18px\" font-family=\"Arial\">X</text><rect x=\"6079.517734375\" y=\"255.0\" width=\"40\" height=\"40\" stroke=\"black\" fill=\"white\" stroke-width=\"1\" /><text x=\"6099.517734375\" y=\"275.0\" dominant-baseline=\"middle\" text-anchor=\"middle\" font-size=\"18px\" font-family=\"Arial\">Y</text><rect x=\"6139.517734375\" y=\"255.0\" width=\"40\" height=\"40\" stroke=\"black\" fill=\"white\" stroke-width=\"1\" /><text x=\"6159.517734375\" y=\"275.0\" dominant-baseline=\"middle\" text-anchor=\"middle\" font-size=\"18px\" font-family=\"Arial\">Z</text><rect x=\"6199.517734375\" y=\"305.0\" width=\"40\" height=\"40\" stroke=\"black\" fill=\"white\" stroke-width=\"1\" /><text x=\"6219.517734375\" y=\"325.0\" dominant-baseline=\"middle\" text-anchor=\"middle\" font-size=\"18px\" font-family=\"Arial\">X</text><rect x=\"6259.517734375\" y=\"305.0\" width=\"40\" height=\"40\" stroke=\"black\" fill=\"white\" stroke-width=\"1\" /><text x=\"6279.517734375\" y=\"325.0\" dominant-baseline=\"middle\" text-anchor=\"middle\" font-size=\"18px\" font-family=\"Arial\">Y</text><rect x=\"6319.517734375\" y=\"305.0\" width=\"40\" height=\"40\" stroke=\"black\" fill=\"white\" stroke-width=\"1\" /><text x=\"6339.517734375\" y=\"325.0\" dominant-baseline=\"middle\" text-anchor=\"middle\" font-size=\"18px\" font-family=\"Arial\">Z</text><rect x=\"6379.517734375\" y=\"355.0\" width=\"40\" height=\"40\" stroke=\"black\" fill=\"white\" stroke-width=\"1\" /><text x=\"6399.517734375\" y=\"375.0\" dominant-baseline=\"middle\" text-anchor=\"middle\" font-size=\"18px\" font-family=\"Arial\">X</text><rect x=\"6439.517734375\" y=\"355.0\" width=\"40\" height=\"40\" stroke=\"black\" fill=\"white\" stroke-width=\"1\" /><text x=\"6459.517734375\" y=\"375.0\" dominant-baseline=\"middle\" text-anchor=\"middle\" font-size=\"18px\" font-family=\"Arial\">Y</text><rect x=\"6499.517734375\" y=\"355.0\" width=\"40\" height=\"40\" stroke=\"black\" fill=\"white\" stroke-width=\"1\" /><text x=\"6519.517734375\" y=\"375.0\" dominant-baseline=\"middle\" text-anchor=\"middle\" font-size=\"18px\" font-family=\"Arial\">Z</text><rect x=\"6559.517734375\" y=\"5.0\" width=\"40\" height=\"40\" stroke=\"black\" fill=\"white\" stroke-width=\"1\" /><text x=\"6579.517734375\" y=\"25.0\" dominant-baseline=\"middle\" text-anchor=\"middle\" font-size=\"18px\" font-family=\"Arial\">X</text><rect x=\"6619.517734375\" y=\"5.0\" width=\"40\" height=\"40\" stroke=\"black\" fill=\"white\" stroke-width=\"1\" /><text x=\"6639.517734375\" y=\"25.0\" dominant-baseline=\"middle\" text-anchor=\"middle\" font-size=\"18px\" font-family=\"Arial\">Y</text><rect x=\"6679.517734375\" y=\"5.0\" width=\"40\" height=\"40\" stroke=\"black\" fill=\"white\" stroke-width=\"1\" /><text x=\"6699.517734375\" y=\"25.0\" dominant-baseline=\"middle\" text-anchor=\"middle\" font-size=\"18px\" font-family=\"Arial\">Z</text><rect x=\"6739.517734375\" y=\"355.0\" width=\"40\" height=\"40\" stroke=\"black\" fill=\"white\" stroke-width=\"1\" /><text x=\"6759.517734375\" y=\"375.0\" dominant-baseline=\"middle\" text-anchor=\"middle\" font-size=\"14px\" font-family=\"Arial\">ZZ</text><rect x=\"6739.517734375\" y=\"5.0\" width=\"40\" height=\"40\" stroke=\"black\" fill=\"white\" stroke-width=\"1\" /><text x=\"6759.517734375\" y=\"25.0\" dominant-baseline=\"middle\" text-anchor=\"middle\" font-size=\"14px\" font-family=\"Arial\">ZZ</text><rect x=\"6799.517734375\" y=\"355.0\" width=\"40\" height=\"40\" stroke=\"black\" fill=\"white\" stroke-width=\"1\" /><text x=\"6819.517734375\" y=\"375.0\" dominant-baseline=\"middle\" text-anchor=\"middle\" font-size=\"14px\" font-family=\"Arial\">YY</text><rect x=\"6799.517734375\" y=\"5.0\" width=\"40\" height=\"40\" stroke=\"black\" fill=\"white\" stroke-width=\"1\" /><text x=\"6819.517734375\" y=\"25.0\" dominant-baseline=\"middle\" text-anchor=\"middle\" font-size=\"14px\" font-family=\"Arial\">YY</text><rect x=\"6859.517734375\" y=\"355.0\" width=\"40\" height=\"40\" stroke=\"black\" fill=\"white\" stroke-width=\"1\" /><text x=\"6879.517734375\" y=\"375.0\" dominant-baseline=\"middle\" text-anchor=\"middle\" font-size=\"14px\" font-family=\"Arial\">XX</text><rect x=\"6859.517734375\" y=\"5.0\" width=\"40\" height=\"40\" stroke=\"black\" fill=\"white\" stroke-width=\"1\" /><text x=\"6879.517734375\" y=\"25.0\" dominant-baseline=\"middle\" text-anchor=\"middle\" font-size=\"14px\" font-family=\"Arial\">XX</text><rect x=\"6919.517734375\" y=\"355.0\" width=\"40\" height=\"40\" stroke=\"black\" fill=\"white\" stroke-width=\"1\" /><text x=\"6939.517734375\" y=\"375.0\" dominant-baseline=\"middle\" text-anchor=\"middle\" font-size=\"18px\" font-family=\"Arial\">X</text><rect x=\"6979.517734375\" y=\"355.0\" width=\"40\" height=\"40\" stroke=\"black\" fill=\"white\" stroke-width=\"1\" /><text x=\"6999.517734375\" y=\"375.0\" dominant-baseline=\"middle\" text-anchor=\"middle\" font-size=\"18px\" font-family=\"Arial\">Y</text><rect x=\"7039.517734375\" y=\"355.0\" width=\"40\" height=\"40\" stroke=\"black\" fill=\"white\" stroke-width=\"1\" /><text x=\"7059.517734375\" y=\"375.0\" dominant-baseline=\"middle\" text-anchor=\"middle\" font-size=\"18px\" font-family=\"Arial\">Z</text><rect x=\"7099.517734375\" y=\"5.0\" width=\"40\" height=\"40\" stroke=\"black\" fill=\"white\" stroke-width=\"1\" /><text x=\"7119.517734375\" y=\"25.0\" dominant-baseline=\"middle\" text-anchor=\"middle\" font-size=\"18px\" font-family=\"Arial\">X</text><rect x=\"7159.517734375\" y=\"5.0\" width=\"40\" height=\"40\" stroke=\"black\" fill=\"white\" stroke-width=\"1\" /><text x=\"7179.517734375\" y=\"25.0\" dominant-baseline=\"middle\" text-anchor=\"middle\" font-size=\"18px\" font-family=\"Arial\">Y</text><rect x=\"7219.517734375\" y=\"5.0\" width=\"40\" height=\"40\" stroke=\"black\" fill=\"white\" stroke-width=\"1\" /><text x=\"7239.517734375\" y=\"25.0\" dominant-baseline=\"middle\" text-anchor=\"middle\" font-size=\"18px\" font-family=\"Arial\">Z</text></svg>",
            "text/plain": [
              "<cirq.contrib.svg.svg.SVGCircuit at 0x7efe8c5ffad0>"
            ]
          },
          "execution_count": 55,
          "metadata": {},
          "output_type": "execute_result"
        }
      ],
      "source": [
        "SVGCircuit(\n",
        "    quantum_conv_circuit(cirq.GridQubit.rect(1, 8)))"
      ]
    },
    {
      "cell_type": "markdown",
      "metadata": {
        "id": "QAoHlu4dMlT5"
      },
      "source": [
        "#### Quantum Pooling\n",
        "\n",
        "\n",
        "A quantum pooling layer pools from $N$ qubits to $\\frac{N}{2}$ qubits using the two-qubit pool defined above."
      ]
    },
    {
      "cell_type": "code",
      "execution_count": null,
      "metadata": {
        "id": "a3-xsGtwM9bF"
      },
      "outputs": [],
      "source": [
        "def quantum_pool_circuit(source_qubits, sink_qubits):\n",
        "    \"\"\"A layer that specifies a quantum pooling operation.\n",
        "    A Quantum pool tries to learn to pool the relevant information from two\n",
        "    qubits onto 1.\n",
        "    \"\"\"\n",
        "    circuit = cirq.Circuit()\n",
        "    for source, sink in zip(source_qubits, sink_qubits):\n",
        "        circuit += two_qubit_pool(source, sink)\n",
        "    return circuit"
      ]
    },
    {
      "cell_type": "code",
      "execution_count": null,
      "metadata": {
        "colab": {
          "base_uri": "https://localhost:8080/",
          "height": 441
        },
        "id": "CWXiJhNXM-VN",
        "outputId": "f693492e-5cd3-43c0-feb0-e11c8cc97048"
      },
      "outputs": [
        {
          "data": {
            "image/svg+xml": "<svg xmlns=\"http://www.w3.org/2000/svg\" width=\"2509.517734375\" height=\"400.0\"><line x1=\"34.7588671875\" x2=\"2479.517734375\" y1=\"25.0\" y2=\"25.0\" stroke=\"#1967d2\" stroke-width=\"1\" /><line x1=\"34.7588671875\" x2=\"2479.517734375\" y1=\"75.0\" y2=\"75.0\" stroke=\"#1967d2\" stroke-width=\"1\" /><line x1=\"34.7588671875\" x2=\"2479.517734375\" y1=\"125.0\" y2=\"125.0\" stroke=\"#1967d2\" stroke-width=\"1\" /><line x1=\"34.7588671875\" x2=\"2479.517734375\" y1=\"175.0\" y2=\"175.0\" stroke=\"#1967d2\" stroke-width=\"1\" /><line x1=\"34.7588671875\" x2=\"2479.517734375\" y1=\"225.0\" y2=\"225.0\" stroke=\"#1967d2\" stroke-width=\"1\" /><line x1=\"34.7588671875\" x2=\"2479.517734375\" y1=\"275.0\" y2=\"275.0\" stroke=\"#1967d2\" stroke-width=\"1\" /><line x1=\"34.7588671875\" x2=\"2479.517734375\" y1=\"325.0\" y2=\"325.0\" stroke=\"#1967d2\" stroke-width=\"1\" /><line x1=\"34.7588671875\" x2=\"2479.517734375\" y1=\"375.0\" y2=\"375.0\" stroke=\"#1967d2\" stroke-width=\"1\" /><line x1=\"459.51773437500003\" x2=\"459.51773437500003\" y1=\"25.0\" y2=\"225.0\" stroke=\"black\" stroke-width=\"3\" /><line x1=\"1059.5177343750001\" x2=\"1059.5177343750001\" y1=\"75.0\" y2=\"275.0\" stroke=\"black\" stroke-width=\"3\" /><line x1=\"1659.5177343750001\" x2=\"1659.5177343750001\" y1=\"125.0\" y2=\"325.0\" stroke=\"black\" stroke-width=\"3\" /><line x1=\"2259.517734375\" x2=\"2259.517734375\" y1=\"175.0\" y2=\"375.0\" stroke=\"black\" stroke-width=\"3\" /><rect x=\"10.0\" y=\"5.0\" width=\"49.517734375\" height=\"40\" stroke=\"black\" fill=\"white\" stroke-width=\"0\" /><text x=\"34.7588671875\" y=\"25.0\" dominant-baseline=\"middle\" text-anchor=\"middle\" font-size=\"14px\" font-family=\"Arial\">(0, 0): </text><rect x=\"10.0\" y=\"55.0\" width=\"49.517734375\" height=\"40\" stroke=\"black\" fill=\"white\" stroke-width=\"0\" /><text x=\"34.7588671875\" y=\"75.0\" dominant-baseline=\"middle\" text-anchor=\"middle\" font-size=\"14px\" font-family=\"Arial\">(0, 1): </text><rect x=\"10.0\" y=\"105.0\" width=\"49.517734375\" height=\"40\" stroke=\"black\" fill=\"white\" stroke-width=\"0\" /><text x=\"34.7588671875\" y=\"125.0\" dominant-baseline=\"middle\" text-anchor=\"middle\" font-size=\"14px\" font-family=\"Arial\">(0, 2): </text><rect x=\"10.0\" y=\"155.0\" width=\"49.517734375\" height=\"40\" stroke=\"black\" fill=\"white\" stroke-width=\"0\" /><text x=\"34.7588671875\" y=\"175.0\" dominant-baseline=\"middle\" text-anchor=\"middle\" font-size=\"14px\" font-family=\"Arial\">(0, 3): </text><rect x=\"10.0\" y=\"205.0\" width=\"49.517734375\" height=\"40\" stroke=\"black\" fill=\"white\" stroke-width=\"0\" /><text x=\"34.7588671875\" y=\"225.0\" dominant-baseline=\"middle\" text-anchor=\"middle\" font-size=\"14px\" font-family=\"Arial\">(0, 4): </text><rect x=\"10.0\" y=\"255.0\" width=\"49.517734375\" height=\"40\" stroke=\"black\" fill=\"white\" stroke-width=\"0\" /><text x=\"34.7588671875\" y=\"275.0\" dominant-baseline=\"middle\" text-anchor=\"middle\" font-size=\"14px\" font-family=\"Arial\">(0, 5): </text><rect x=\"10.0\" y=\"305.0\" width=\"49.517734375\" height=\"40\" stroke=\"black\" fill=\"white\" stroke-width=\"0\" /><text x=\"34.7588671875\" y=\"325.0\" dominant-baseline=\"middle\" text-anchor=\"middle\" font-size=\"14px\" font-family=\"Arial\">(0, 6): </text><rect x=\"10.0\" y=\"355.0\" width=\"49.517734375\" height=\"40\" stroke=\"black\" fill=\"white\" stroke-width=\"0\" /><text x=\"34.7588671875\" y=\"375.0\" dominant-baseline=\"middle\" text-anchor=\"middle\" font-size=\"14px\" font-family=\"Arial\">(0, 7): </text><rect x=\"79.517734375\" y=\"205.0\" width=\"40\" height=\"40\" stroke=\"black\" fill=\"white\" stroke-width=\"1\" /><text x=\"99.517734375\" y=\"225.0\" dominant-baseline=\"middle\" text-anchor=\"middle\" font-size=\"18px\" font-family=\"Arial\">X</text><rect x=\"139.517734375\" y=\"205.0\" width=\"40\" height=\"40\" stroke=\"black\" fill=\"white\" stroke-width=\"1\" /><text x=\"159.517734375\" y=\"225.0\" dominant-baseline=\"middle\" text-anchor=\"middle\" font-size=\"18px\" font-family=\"Arial\">Y</text><rect x=\"199.517734375\" y=\"205.0\" width=\"40\" height=\"40\" stroke=\"black\" fill=\"white\" stroke-width=\"1\" /><text x=\"219.517734375\" y=\"225.0\" dominant-baseline=\"middle\" text-anchor=\"middle\" font-size=\"18px\" font-family=\"Arial\">Z</text><rect x=\"259.51773437500003\" y=\"5.0\" width=\"40\" height=\"40\" stroke=\"black\" fill=\"white\" stroke-width=\"1\" /><text x=\"279.51773437500003\" y=\"25.0\" dominant-baseline=\"middle\" text-anchor=\"middle\" font-size=\"18px\" font-family=\"Arial\">X</text><rect x=\"319.51773437500003\" y=\"5.0\" width=\"40\" height=\"40\" stroke=\"black\" fill=\"white\" stroke-width=\"1\" /><text x=\"339.51773437500003\" y=\"25.0\" dominant-baseline=\"middle\" text-anchor=\"middle\" font-size=\"18px\" font-family=\"Arial\">Y</text><rect x=\"379.51773437500003\" y=\"5.0\" width=\"40\" height=\"40\" stroke=\"black\" fill=\"white\" stroke-width=\"1\" /><text x=\"399.51773437500003\" y=\"25.0\" dominant-baseline=\"middle\" text-anchor=\"middle\" font-size=\"18px\" font-family=\"Arial\">Z</text><circle cx=\"459.51773437500003\" cy=\"25.0\" r=\"10.0\" /><rect x=\"439.51773437500003\" y=\"205.0\" width=\"40\" height=\"40\" stroke=\"black\" fill=\"white\" stroke-width=\"1\" /><text x=\"459.51773437500003\" y=\"225.0\" dominant-baseline=\"middle\" text-anchor=\"middle\" font-size=\"18px\" font-family=\"Arial\">X</text><rect x=\"499.51773437500003\" y=\"205.0\" width=\"40\" height=\"40\" stroke=\"black\" fill=\"white\" stroke-width=\"1\" /><text x=\"519.517734375\" y=\"225.0\" dominant-baseline=\"middle\" text-anchor=\"middle\" font-size=\"18px\" font-family=\"Arial\">Z</text><rect x=\"559.517734375\" y=\"205.0\" width=\"40\" height=\"40\" stroke=\"black\" fill=\"white\" stroke-width=\"1\" /><text x=\"579.517734375\" y=\"225.0\" dominant-baseline=\"middle\" text-anchor=\"middle\" font-size=\"18px\" font-family=\"Arial\">Y</text><rect x=\"619.517734375\" y=\"205.0\" width=\"40\" height=\"40\" stroke=\"black\" fill=\"white\" stroke-width=\"1\" /><text x=\"639.517734375\" y=\"225.0\" dominant-baseline=\"middle\" text-anchor=\"middle\" font-size=\"18px\" font-family=\"Arial\">X</text><rect x=\"679.517734375\" y=\"255.0\" width=\"40\" height=\"40\" stroke=\"black\" fill=\"white\" stroke-width=\"1\" /><text x=\"699.517734375\" y=\"275.0\" dominant-baseline=\"middle\" text-anchor=\"middle\" font-size=\"18px\" font-family=\"Arial\">X</text><rect x=\"739.517734375\" y=\"255.0\" width=\"40\" height=\"40\" stroke=\"black\" fill=\"white\" stroke-width=\"1\" /><text x=\"759.517734375\" y=\"275.0\" dominant-baseline=\"middle\" text-anchor=\"middle\" font-size=\"18px\" font-family=\"Arial\">Y</text><rect x=\"799.517734375\" y=\"255.0\" width=\"40\" height=\"40\" stroke=\"black\" fill=\"white\" stroke-width=\"1\" /><text x=\"819.517734375\" y=\"275.0\" dominant-baseline=\"middle\" text-anchor=\"middle\" font-size=\"18px\" font-family=\"Arial\">Z</text><rect x=\"859.517734375\" y=\"55.0\" width=\"40\" height=\"40\" stroke=\"black\" fill=\"white\" stroke-width=\"1\" /><text x=\"879.517734375\" y=\"75.0\" dominant-baseline=\"middle\" text-anchor=\"middle\" font-size=\"18px\" font-family=\"Arial\">X</text><rect x=\"919.517734375\" y=\"55.0\" width=\"40\" height=\"40\" stroke=\"black\" fill=\"white\" stroke-width=\"1\" /><text x=\"939.517734375\" y=\"75.0\" dominant-baseline=\"middle\" text-anchor=\"middle\" font-size=\"18px\" font-family=\"Arial\">Y</text><rect x=\"979.517734375\" y=\"55.0\" width=\"40\" height=\"40\" stroke=\"black\" fill=\"white\" stroke-width=\"1\" /><text x=\"999.517734375\" y=\"75.0\" dominant-baseline=\"middle\" text-anchor=\"middle\" font-size=\"18px\" font-family=\"Arial\">Z</text><circle cx=\"1059.5177343750001\" cy=\"75.0\" r=\"10.0\" /><rect x=\"1039.5177343750001\" y=\"255.0\" width=\"40\" height=\"40\" stroke=\"black\" fill=\"white\" stroke-width=\"1\" /><text x=\"1059.5177343750001\" y=\"275.0\" dominant-baseline=\"middle\" text-anchor=\"middle\" font-size=\"18px\" font-family=\"Arial\">X</text><rect x=\"1099.5177343750001\" y=\"255.0\" width=\"40\" height=\"40\" stroke=\"black\" fill=\"white\" stroke-width=\"1\" /><text x=\"1119.5177343750001\" y=\"275.0\" dominant-baseline=\"middle\" text-anchor=\"middle\" font-size=\"18px\" font-family=\"Arial\">Z</text><rect x=\"1159.5177343750001\" y=\"255.0\" width=\"40\" height=\"40\" stroke=\"black\" fill=\"white\" stroke-width=\"1\" /><text x=\"1179.5177343750001\" y=\"275.0\" dominant-baseline=\"middle\" text-anchor=\"middle\" font-size=\"18px\" font-family=\"Arial\">Y</text><rect x=\"1219.5177343750001\" y=\"255.0\" width=\"40\" height=\"40\" stroke=\"black\" fill=\"white\" stroke-width=\"1\" /><text x=\"1239.5177343750001\" y=\"275.0\" dominant-baseline=\"middle\" text-anchor=\"middle\" font-size=\"18px\" font-family=\"Arial\">X</text><rect x=\"1279.5177343750001\" y=\"305.0\" width=\"40\" height=\"40\" stroke=\"black\" fill=\"white\" stroke-width=\"1\" /><text x=\"1299.5177343750001\" y=\"325.0\" dominant-baseline=\"middle\" text-anchor=\"middle\" font-size=\"18px\" font-family=\"Arial\">X</text><rect x=\"1339.5177343750001\" y=\"305.0\" width=\"40\" height=\"40\" stroke=\"black\" fill=\"white\" stroke-width=\"1\" /><text x=\"1359.5177343750001\" y=\"325.0\" dominant-baseline=\"middle\" text-anchor=\"middle\" font-size=\"18px\" font-family=\"Arial\">Y</text><rect x=\"1399.5177343750001\" y=\"305.0\" width=\"40\" height=\"40\" stroke=\"black\" fill=\"white\" stroke-width=\"1\" /><text x=\"1419.5177343750001\" y=\"325.0\" dominant-baseline=\"middle\" text-anchor=\"middle\" font-size=\"18px\" font-family=\"Arial\">Z</text><rect x=\"1459.5177343750001\" y=\"105.0\" width=\"40\" height=\"40\" stroke=\"black\" fill=\"white\" stroke-width=\"1\" /><text x=\"1479.5177343750001\" y=\"125.0\" dominant-baseline=\"middle\" text-anchor=\"middle\" font-size=\"18px\" font-family=\"Arial\">X</text><rect x=\"1519.5177343750001\" y=\"105.0\" width=\"40\" height=\"40\" stroke=\"black\" fill=\"white\" stroke-width=\"1\" /><text x=\"1539.5177343750001\" y=\"125.0\" dominant-baseline=\"middle\" text-anchor=\"middle\" font-size=\"18px\" font-family=\"Arial\">Y</text><rect x=\"1579.5177343750001\" y=\"105.0\" width=\"40\" height=\"40\" stroke=\"black\" fill=\"white\" stroke-width=\"1\" /><text x=\"1599.5177343750001\" y=\"125.0\" dominant-baseline=\"middle\" text-anchor=\"middle\" font-size=\"18px\" font-family=\"Arial\">Z</text><circle cx=\"1659.5177343750001\" cy=\"125.0\" r=\"10.0\" /><rect x=\"1639.5177343750001\" y=\"305.0\" width=\"40\" height=\"40\" stroke=\"black\" fill=\"white\" stroke-width=\"1\" /><text x=\"1659.5177343750001\" y=\"325.0\" dominant-baseline=\"middle\" text-anchor=\"middle\" font-size=\"18px\" font-family=\"Arial\">X</text><rect x=\"1699.5177343750001\" y=\"305.0\" width=\"40\" height=\"40\" stroke=\"black\" fill=\"white\" stroke-width=\"1\" /><text x=\"1719.5177343750001\" y=\"325.0\" dominant-baseline=\"middle\" text-anchor=\"middle\" font-size=\"18px\" font-family=\"Arial\">Z</text><rect x=\"1759.5177343750001\" y=\"305.0\" width=\"40\" height=\"40\" stroke=\"black\" fill=\"white\" stroke-width=\"1\" /><text x=\"1779.5177343750001\" y=\"325.0\" dominant-baseline=\"middle\" text-anchor=\"middle\" font-size=\"18px\" font-family=\"Arial\">Y</text><rect x=\"1819.5177343750001\" y=\"305.0\" width=\"40\" height=\"40\" stroke=\"black\" fill=\"white\" stroke-width=\"1\" /><text x=\"1839.5177343750001\" y=\"325.0\" dominant-baseline=\"middle\" text-anchor=\"middle\" font-size=\"18px\" font-family=\"Arial\">X</text><rect x=\"1879.5177343750001\" y=\"355.0\" width=\"40\" height=\"40\" stroke=\"black\" fill=\"white\" stroke-width=\"1\" /><text x=\"1899.5177343750001\" y=\"375.0\" dominant-baseline=\"middle\" text-anchor=\"middle\" font-size=\"18px\" font-family=\"Arial\">X</text><rect x=\"1939.5177343750001\" y=\"355.0\" width=\"40\" height=\"40\" stroke=\"black\" fill=\"white\" stroke-width=\"1\" /><text x=\"1959.5177343750001\" y=\"375.0\" dominant-baseline=\"middle\" text-anchor=\"middle\" font-size=\"18px\" font-family=\"Arial\">Y</text><rect x=\"1999.5177343750001\" y=\"355.0\" width=\"40\" height=\"40\" stroke=\"black\" fill=\"white\" stroke-width=\"1\" /><text x=\"2019.5177343750001\" y=\"375.0\" dominant-baseline=\"middle\" text-anchor=\"middle\" font-size=\"18px\" font-family=\"Arial\">Z</text><rect x=\"2059.517734375\" y=\"155.0\" width=\"40\" height=\"40\" stroke=\"black\" fill=\"white\" stroke-width=\"1\" /><text x=\"2079.517734375\" y=\"175.0\" dominant-baseline=\"middle\" text-anchor=\"middle\" font-size=\"18px\" font-family=\"Arial\">X</text><rect x=\"2119.517734375\" y=\"155.0\" width=\"40\" height=\"40\" stroke=\"black\" fill=\"white\" stroke-width=\"1\" /><text x=\"2139.517734375\" y=\"175.0\" dominant-baseline=\"middle\" text-anchor=\"middle\" font-size=\"18px\" font-family=\"Arial\">Y</text><rect x=\"2179.517734375\" y=\"155.0\" width=\"40\" height=\"40\" stroke=\"black\" fill=\"white\" stroke-width=\"1\" /><text x=\"2199.517734375\" y=\"175.0\" dominant-baseline=\"middle\" text-anchor=\"middle\" font-size=\"18px\" font-family=\"Arial\">Z</text><circle cx=\"2259.517734375\" cy=\"175.0\" r=\"10.0\" /><rect x=\"2239.517734375\" y=\"355.0\" width=\"40\" height=\"40\" stroke=\"black\" fill=\"white\" stroke-width=\"1\" /><text x=\"2259.517734375\" y=\"375.0\" dominant-baseline=\"middle\" text-anchor=\"middle\" font-size=\"18px\" font-family=\"Arial\">X</text><rect x=\"2299.517734375\" y=\"355.0\" width=\"40\" height=\"40\" stroke=\"black\" fill=\"white\" stroke-width=\"1\" /><text x=\"2319.517734375\" y=\"375.0\" dominant-baseline=\"middle\" text-anchor=\"middle\" font-size=\"18px\" font-family=\"Arial\">Z</text><rect x=\"2359.517734375\" y=\"355.0\" width=\"40\" height=\"40\" stroke=\"black\" fill=\"white\" stroke-width=\"1\" /><text x=\"2379.517734375\" y=\"375.0\" dominant-baseline=\"middle\" text-anchor=\"middle\" font-size=\"18px\" font-family=\"Arial\">Y</text><rect x=\"2419.517734375\" y=\"355.0\" width=\"40\" height=\"40\" stroke=\"black\" fill=\"white\" stroke-width=\"1\" /><text x=\"2439.517734375\" y=\"375.0\" dominant-baseline=\"middle\" text-anchor=\"middle\" font-size=\"18px\" font-family=\"Arial\">X</text></svg>",
            "text/plain": [
              "<cirq.contrib.svg.svg.SVGCircuit at 0x7efe8bf3ad50>"
            ]
          },
          "execution_count": 57,
          "metadata": {},
          "output_type": "execute_result"
        }
      ],
      "source": [
        "test_qubits = cirq.GridQubit.rect(1, 8)\n",
        "\n",
        "SVGCircuit(\n",
        "    quantum_pool_circuit(test_qubits[:4], test_qubits[4:]))"
      ]
    },
    {
      "cell_type": "markdown",
      "metadata": {
        "id": "lufXkXhQNUpu"
      },
      "source": [
        "# QCNN w/ Layerwise Learning Model"
      ]
    },
    {
      "cell_type": "markdown",
      "metadata": {
        "id": "j0q1SfYWG19H"
      },
      "source": [
        "## Phase I\n",
        "Now we will set up our training loop. We specify the number of qubits in the circuit, how many layer addition steps to perform, and how many layers to add in each step. The latter is a hyperparameter of our model that can be tuned for the learning task at hand. There is a trade-off between keeping the trained partitions as small as possible, but at the same time not too small to make significant progress on the learning task. You can play with the hyperparameters below to notice this difference. We are not going to freeze the previous layers in phase one in this implementation, but simply grow the circuit incrementally."
      ]
    },
    {
      "cell_type": "code",
      "execution_count": null,
      "metadata": {
        "colab": {
          "base_uri": "https://localhost:8080/"
        },
        "id": "IvH8Vn3tPJip",
        "outputId": "07b893cf-f62a-4b37-f06e-3631e9ab111e"
      },
      "outputs": [
        {
          "name": "stdout",
          "output_type": "stream",
          "text": [
            "\n",
            "Layer: 0\n",
            "Model: \"sequential_17\"\n",
            "_________________________________________________________________\n",
            " Layer (type)                Output Shape              Param #   \n",
            "=================================================================\n",
            " pqc_37 (PQC)                (None, 1)                 16        \n",
            "                                                                 \n",
            "=================================================================\n",
            "Total params: 16\n",
            "Trainable params: 16\n",
            "Non-trainable params: 0\n",
            "_________________________________________________________________\n",
            "None\n",
            "Epoch 1/10\n",
            "7/7 [==============================] - 16s 2s/step - loss: 1.3164 - custom_accuracy: 0.6964 - val_loss: 1.2751 - val_custom_accuracy: 0.6875\n",
            "Epoch 2/10\n",
            "7/7 [==============================] - 15s 2s/step - loss: 1.2948 - custom_accuracy: 0.6964 - val_loss: 1.2385 - val_custom_accuracy: 0.6875\n",
            "Epoch 3/10\n",
            "7/7 [==============================] - 15s 2s/step - loss: 1.2411 - custom_accuracy: 0.6875 - val_loss: 1.1749 - val_custom_accuracy: 0.6875\n",
            "Epoch 4/10\n",
            "7/7 [==============================] - 15s 2s/step - loss: 1.1744 - custom_accuracy: 0.6786 - val_loss: 1.0905 - val_custom_accuracy: 0.6875\n",
            "Epoch 5/10\n",
            "7/7 [==============================] - 15s 2s/step - loss: 1.0881 - custom_accuracy: 0.6696 - val_loss: 1.0160 - val_custom_accuracy: 0.6667\n",
            "Epoch 6/10\n",
            "7/7 [==============================] - 15s 2s/step - loss: 1.0249 - custom_accuracy: 0.6696 - val_loss: 0.9684 - val_custom_accuracy: 0.6667\n",
            "Epoch 7/10\n",
            "7/7 [==============================] - 15s 2s/step - loss: 0.9833 - custom_accuracy: 0.6607 - val_loss: 0.9456 - val_custom_accuracy: 0.6667\n",
            "Epoch 8/10\n",
            "7/7 [==============================] - 15s 2s/step - loss: 0.9670 - custom_accuracy: 0.6518 - val_loss: 0.9380 - val_custom_accuracy: 0.6667\n",
            "Epoch 9/10\n",
            "7/7 [==============================] - 15s 2s/step - loss: 0.9594 - custom_accuracy: 0.6518 - val_loss: 0.9361 - val_custom_accuracy: 0.6667\n",
            "Epoch 10/10\n",
            "7/7 [==============================] - 15s 2s/step - loss: 0.9592 - custom_accuracy: 0.6518 - val_loss: 0.9352 - val_custom_accuracy: 0.6667\n",
            "\n",
            "Layer: 1\n",
            "Model: \"sequential_18\"\n",
            "_________________________________________________________________\n",
            " Layer (type)                Output Shape              Param #   \n",
            "=================================================================\n",
            " pqc_38 (PQC)                (None, 1)                 32        \n",
            "                                                                 \n",
            "=================================================================\n",
            "Total params: 32\n",
            "Trainable params: 32\n",
            "Non-trainable params: 0\n",
            "_________________________________________________________________\n",
            "None\n",
            "Epoch 1/10\n",
            "7/7 [==============================] - 29s 4s/step - loss: 0.9448 - custom_accuracy: 0.6518 - val_loss: 0.9074 - val_custom_accuracy: 0.6667\n",
            "Epoch 2/10\n",
            "7/7 [==============================] - 28s 4s/step - loss: 0.9192 - custom_accuracy: 0.6518 - val_loss: 0.8840 - val_custom_accuracy: 0.6667\n",
            "Epoch 3/10\n",
            "7/7 [==============================] - 28s 4s/step - loss: 0.8903 - custom_accuracy: 0.6696 - val_loss: 0.8655 - val_custom_accuracy: 0.6667\n",
            "Epoch 4/10\n",
            "7/7 [==============================] - 28s 4s/step - loss: 0.8689 - custom_accuracy: 0.6696 - val_loss: 0.8481 - val_custom_accuracy: 0.6667\n",
            "Epoch 5/10\n",
            "7/7 [==============================] - 27s 4s/step - loss: 0.8474 - custom_accuracy: 0.6696 - val_loss: 0.8321 - val_custom_accuracy: 0.6875\n",
            "Epoch 6/10\n",
            "7/7 [==============================] - 25s 4s/step - loss: 0.8231 - custom_accuracy: 0.6786 - val_loss: 0.8146 - val_custom_accuracy: 0.7292\n",
            "Epoch 7/10\n",
            "7/7 [==============================] - 25s 4s/step - loss: 0.8015 - custom_accuracy: 0.7232 - val_loss: 0.7965 - val_custom_accuracy: 0.7708\n",
            "Epoch 8/10\n",
            "7/7 [==============================] - 26s 4s/step - loss: 0.7809 - custom_accuracy: 0.7946 - val_loss: 0.7785 - val_custom_accuracy: 0.7917\n",
            "Epoch 9/10\n",
            "7/7 [==============================] - 26s 4s/step - loss: 0.7615 - custom_accuracy: 0.8125 - val_loss: 0.7641 - val_custom_accuracy: 0.7917\n",
            "Epoch 10/10\n",
            "7/7 [==============================] - 25s 4s/step - loss: 0.7442 - custom_accuracy: 0.8393 - val_loss: 0.7533 - val_custom_accuracy: 0.7917\n",
            "\n",
            "Layer: 2\n",
            "Model: \"sequential_19\"\n",
            "_________________________________________________________________\n",
            " Layer (type)                Output Shape              Param #   \n",
            "=================================================================\n",
            " pqc_39 (PQC)                (None, 1)                 48        \n",
            "                                                                 \n",
            "=================================================================\n",
            "Total params: 48\n",
            "Trainable params: 48\n",
            "Non-trainable params: 0\n",
            "_________________________________________________________________\n",
            "None\n",
            "Epoch 1/10\n",
            "7/7 [==============================] - 39s 6s/step - loss: 0.7406 - custom_accuracy: 0.8393 - val_loss: 0.7492 - val_custom_accuracy: 0.8125\n",
            "Epoch 2/10\n",
            "7/7 [==============================] - 38s 5s/step - loss: 0.7272 - custom_accuracy: 0.8393 - val_loss: 0.7413 - val_custom_accuracy: 0.8125\n",
            "Epoch 3/10\n",
            "7/7 [==============================] - 38s 6s/step - loss: 0.7203 - custom_accuracy: 0.8393 - val_loss: 0.7351 - val_custom_accuracy: 0.8125\n",
            "Epoch 4/10\n",
            "7/7 [==============================] - 39s 6s/step - loss: 0.7171 - custom_accuracy: 0.8393 - val_loss: 0.7338 - val_custom_accuracy: 0.8125\n",
            "Epoch 5/10\n",
            "7/7 [==============================] - 39s 6s/step - loss: 0.7142 - custom_accuracy: 0.8393 - val_loss: 0.7301 - val_custom_accuracy: 0.8125\n",
            "Epoch 6/10\n",
            "7/7 [==============================] - 38s 6s/step - loss: 0.7109 - custom_accuracy: 0.8393 - val_loss: 0.7304 - val_custom_accuracy: 0.8125\n",
            "Epoch 7/10\n",
            "7/7 [==============================] - 38s 6s/step - loss: 0.7100 - custom_accuracy: 0.8393 - val_loss: 0.7301 - val_custom_accuracy: 0.8125\n",
            "Epoch 8/10\n",
            "7/7 [==============================] - 39s 6s/step - loss: 0.7112 - custom_accuracy: 0.8393 - val_loss: 0.7277 - val_custom_accuracy: 0.8125\n",
            "Epoch 9/10\n",
            "7/7 [==============================] - 39s 6s/step - loss: 0.7091 - custom_accuracy: 0.8304 - val_loss: 0.7283 - val_custom_accuracy: 0.8125\n",
            "Epoch 10/10\n",
            "7/7 [==============================] - 39s 6s/step - loss: 0.7082 - custom_accuracy: 0.8304 - val_loss: 0.7279 - val_custom_accuracy: 0.8125\n",
            "\n",
            "Layer: 3\n",
            "Model: \"sequential_20\"\n",
            "_________________________________________________________________\n",
            " Layer (type)                Output Shape              Param #   \n",
            "=================================================================\n",
            " pqc_40 (PQC)                (None, 1)                 64        \n",
            "                                                                 \n",
            "=================================================================\n",
            "Total params: 64\n",
            "Trainable params: 64\n",
            "Non-trainable params: 0\n",
            "_________________________________________________________________\n",
            "None\n",
            "Epoch 1/10\n",
            "7/7 [==============================] - 54s 8s/step - loss: 0.7170 - custom_accuracy: 0.8304 - val_loss: 0.7334 - val_custom_accuracy: 0.8125\n",
            "Epoch 2/10\n",
            "7/7 [==============================] - 53s 8s/step - loss: 0.7105 - custom_accuracy: 0.8393 - val_loss: 0.7324 - val_custom_accuracy: 0.8125\n",
            "Epoch 3/10\n",
            "7/7 [==============================] - 53s 8s/step - loss: 0.7087 - custom_accuracy: 0.8304 - val_loss: 0.7249 - val_custom_accuracy: 0.8125\n",
            "Epoch 4/10\n",
            "7/7 [==============================] - 53s 8s/step - loss: 0.7023 - custom_accuracy: 0.8304 - val_loss: 0.7211 - val_custom_accuracy: 0.8125\n",
            "Epoch 5/10\n",
            "7/7 [==============================] - 53s 8s/step - loss: 0.7007 - custom_accuracy: 0.8304 - val_loss: 0.7141 - val_custom_accuracy: 0.8125\n",
            "Epoch 6/10\n",
            "7/7 [==============================] - 52s 7s/step - loss: 0.6970 - custom_accuracy: 0.8214 - val_loss: 0.7099 - val_custom_accuracy: 0.8125\n",
            "Epoch 7/10\n",
            "7/7 [==============================] - 53s 8s/step - loss: 0.6953 - custom_accuracy: 0.8214 - val_loss: 0.7105 - val_custom_accuracy: 0.8125\n",
            "Epoch 8/10\n",
            "7/7 [==============================] - 52s 8s/step - loss: 0.6944 - custom_accuracy: 0.8214 - val_loss: 0.7069 - val_custom_accuracy: 0.8125\n",
            "Epoch 9/10\n",
            "7/7 [==============================] - 53s 8s/step - loss: 0.6897 - custom_accuracy: 0.8214 - val_loss: 0.7090 - val_custom_accuracy: 0.8125\n",
            "Epoch 10/10\n",
            "7/7 [==============================] - 53s 8s/step - loss: 0.6917 - custom_accuracy: 0.8214 - val_loss: 0.7065 - val_custom_accuracy: 0.8125\n",
            "\n",
            "Layer: 4\n",
            "Model: \"sequential_21\"\n",
            "_________________________________________________________________\n",
            " Layer (type)                Output Shape              Param #   \n",
            "=================================================================\n",
            " pqc_41 (PQC)                (None, 1)                 80        \n",
            "                                                                 \n",
            "=================================================================\n",
            "Total params: 80\n",
            "Trainable params: 80\n",
            "Non-trainable params: 0\n",
            "_________________________________________________________________\n",
            "None\n",
            "Epoch 1/10\n",
            "7/7 [==============================] - 69s 10s/step - loss: 0.6937 - custom_accuracy: 0.8125 - val_loss: 0.7081 - val_custom_accuracy: 0.8125\n",
            "Epoch 2/10\n",
            "7/7 [==============================] - 68s 10s/step - loss: 0.6949 - custom_accuracy: 0.8214 - val_loss: 0.7051 - val_custom_accuracy: 0.8125\n",
            "Epoch 3/10\n",
            "7/7 [==============================] - 68s 10s/step - loss: 0.6848 - custom_accuracy: 0.8214 - val_loss: 0.7072 - val_custom_accuracy: 0.8125\n",
            "Epoch 4/10\n",
            "7/7 [==============================] - 68s 10s/step - loss: 0.6883 - custom_accuracy: 0.8214 - val_loss: 0.7103 - val_custom_accuracy: 0.8125\n",
            "Epoch 5/10\n",
            "7/7 [==============================] - 67s 10s/step - loss: 0.6838 - custom_accuracy: 0.8214 - val_loss: 0.7039 - val_custom_accuracy: 0.8125\n",
            "Epoch 6/10\n",
            "7/7 [==============================] - 68s 10s/step - loss: 0.6823 - custom_accuracy: 0.8214 - val_loss: 0.7020 - val_custom_accuracy: 0.8125\n",
            "Epoch 7/10\n",
            "7/7 [==============================] - 67s 10s/step - loss: 0.6823 - custom_accuracy: 0.8125 - val_loss: 0.6998 - val_custom_accuracy: 0.8125\n",
            "Epoch 8/10\n",
            "7/7 [==============================] - 68s 10s/step - loss: 0.6806 - custom_accuracy: 0.8214 - val_loss: 0.7005 - val_custom_accuracy: 0.8125\n",
            "Epoch 9/10\n",
            "7/7 [==============================] - 68s 10s/step - loss: 0.6787 - custom_accuracy: 0.8214 - val_loss: 0.6973 - val_custom_accuracy: 0.8125\n",
            "Epoch 10/10\n",
            "7/7 [==============================] - 67s 10s/step - loss: 0.6753 - custom_accuracy: 0.8125 - val_loss: 0.6966 - val_custom_accuracy: 0.8125\n"
          ]
        }
      ],
      "source": [
        "n_qubits = 8\n",
        "n_layer_steps = 5\n",
        "n_layers_to_add = 2\n",
        "\n",
        "\n",
        "# Create our qubits and readout operators in Cirq.\n",
        "cluster_state_bits = cirq.GridQubit.rect(1, n_qubits)\n",
        "readout_operators = cirq.Z(cluster_state_bits[-1])\n",
        "\n",
        "symbols = []\n",
        "layers = []\n",
        "symbol_layers = []\n",
        "weights = []\n",
        "\n",
        "training_history = []\n",
        "acc_phase_1 = []\n",
        "val_acc_phase_1 = []\n",
        "loss_phase_1 = []\n",
        "val_loss_phase_1 = []\n",
        "\n",
        "# Generate some training data.\n",
        "train_excitations, train_labels, test_excitations, test_labels = generate_data(\n",
        "    cluster_state_bits)\n",
        "\n",
        "# Custom accuracy metric.\n",
        "@tf.function\n",
        "def custom_accuracy(y_true, y_pred):\n",
        "    #remove dimensions of size 1 from the shape of the tensor\n",
        "    y_true = tf.squeeze(y_true)\n",
        "    y_pred = tf.map_fn(lambda x: 1.0 if x >= 0 else -1.0, y_pred)\n",
        "    return tf.keras.backend.mean(tf.keras.backend.equal(y_true, y_pred))\n",
        "\n",
        "for layer_id in range(n_layer_steps):\n",
        "  print(\"\\nLayer:\", layer_id)\n",
        "  #Create sequence of alternating convolution and pooling operators which gradually shrink over time.\n",
        "  circuit = cirq.Circuit()\n",
        "  for i in range(n_layers_to_add):\n",
        "    layer, symbol_layer, layer_symbols = create_layer(cluster_state_bits, f'layer_{layer_id}_{i}')\n",
        "    layers.append(layer)\n",
        "    symbol_layers.append(symbol_layer)\n",
        "    symbols.append(layer_symbols)\n",
        "    \n",
        "    # Cirq uses sympy.Symbols to map learnable variables. TensorFlow Quantum\n",
        "    # scans incoming circuits and replaces these with TensorFlow variables.\n",
        "    circuit += quantum_conv_circuit(cluster_state_bits)\n",
        "    circuit += quantum_pool_circuit(cluster_state_bits[:4], cluster_state_bits[4:])\n",
        "    circuit += quantum_conv_circuit(cluster_state_bits[4:])\n",
        "    circuit += quantum_pool_circuit(cluster_state_bits[4:6], cluster_state_bits[6:])\n",
        "    circuit += quantum_conv_circuit(cluster_state_bits[6:])\n",
        "    circuit += quantum_pool_circuit([cluster_state_bits[6]], [cluster_state_bits[7]])\n",
        "      \n",
        "  circuit += symbol_layers\n",
        "\n",
        "  # setup the Keras model\n",
        "  qcnn_ll_model = tf.keras.Sequential()\n",
        "  qcnn_ll_model.add(tf.keras.layers.Input(shape=(), dtype=tf.dtypes.string))\n",
        "  qcnn_ll_model.add(tfq.layers.PQC(\n",
        "      model_circuit = circuit,\n",
        "      operators=readout_operators,\n",
        "      differentiator=tfq.differentiators.ParameterShift(),\n",
        "      initializer=tf.keras.initializers.Zeros))\n",
        "\n",
        "  print(qcnn_ll_model.summary())\n",
        "  #Uses Squared Hinge max margin cost function to penalize misclassification and \n",
        "  #classify those correct ones residing within margin of the decision boundary\n",
        "  qcnn_ll_model.compile(loss=tf.keras.losses.squared_hinge,\n",
        "                optimizer=tf.keras.optimizers.Adam(learning_rate=0.02), \n",
        "                metrics=[custom_accuracy])\n",
        "\n",
        "  # set parameters to 0 for new layers\n",
        "  qcnn_ll_model.set_weights([np.pad(weights, (0, n_qubits*n_layers_to_add))])\n",
        "\n",
        "  qcnn_ll_model_1_history = qcnn_ll_model.fit(\n",
        "      x=train_excitations,\n",
        "      y=train_labels,\n",
        "      batch_size=16,\n",
        "      epochs=10,\n",
        "      verbose=1,\n",
        "      validation_data=(test_excitations, test_labels))\n",
        "  \n",
        "  acc_phase_1 += qcnn_ll_model_1_history.history['custom_accuracy']\n",
        "  val_acc_phase_1 += qcnn_ll_model_1_history.history['val_custom_accuracy']\n",
        "  loss_phase_1 += qcnn_ll_model_1_history.history['loss']\n",
        "  val_loss_phase_1 += qcnn_ll_model_1_history.history['val_loss']\n",
        "\n",
        "\n",
        "  weights = qcnn_ll_model.get_weights()[0]"
      ]
    },
    {
      "cell_type": "code",
      "execution_count": null,
      "metadata": {
        "colab": {
          "base_uri": "https://localhost:8080/",
          "height": 281
        },
        "id": "7GnkfBaIOh0o",
        "outputId": "cc4fe2d7-bb4f-4383-84d4-549249b7dd94"
      },
      "outputs": [
        {
          "data": {
            "image/png": "[encoded data removed]",
            "text/plain": [
              "<Figure size 432x288 with 1 Axes>"
            ]
          },
          "metadata": {},
          "output_type": "display_data"
        }
      ],
      "source": [
        "epochs_phase_1 = range(1, len(acc_phase_1) + 1)\n",
        "\n",
        "plt.plot(epochs_phase_1, acc_phase_1, 'o', color='blue', label='Training acc')\n",
        "plt.plot(epochs_phase_1, val_acc_phase_1, color='blue', label='Validation acc')\n",
        "plt.title('Training and Validation Accuracy')\n",
        "plt.legend(bbox_to_anchor=(1.05, 1), loc=2, borderaxespad=0.)\n",
        "\n",
        "plt.show()"
      ]
    },
    {
      "cell_type": "code",
      "execution_count": null,
      "metadata": {
        "colab": {
          "base_uri": "https://localhost:8080/",
          "height": 281
        },
        "id": "ZYDRdtjBeUmW",
        "outputId": "0bbf65d2-c3b5-46bb-8562-8bf785f7aac0"
      },
      "outputs": [
        {
          "data": {
            "image/png": "[encoded data removed]",
            "text/plain": [
              "<Figure size 432x288 with 1 Axes>"
            ]
          },
          "metadata": {},
          "output_type": "display_data"
        }
      ],
      "source": [
        "plt.plot(epochs_phase_1, loss_phase_1, 'o', color='blue', label='Training loss')\n",
        "plt.plot(epochs_phase_1, val_loss_phase_1, color='blue', label='Validation loss')\n",
        "plt.title('Training and Validation Loss')\n",
        "plt.legend(bbox_to_anchor=(1.05, 1), loc=2, borderaxespad=0.)\n",
        "\n",
        "plt.show()"
      ]
    },
    {
      "cell_type": "code",
      "execution_count": null,
      "metadata": {
        "colab": {
          "base_uri": "https://localhost:8080/",
          "height": 295
        },
        "id": "skZDrpfsBlVp",
        "outputId": "ff2e41fa-7cb2-463e-f8fe-e1be6fcc5da3"
      },
      "outputs": [
        {
          "data": {
            "image/png": "[encoded data removed]",
            "text/plain": [
              "<Figure size 432x288 with 1 Axes>"
            ]
          },
          "metadata": {},
          "output_type": "display_data"
        }
      ],
      "source": [
        "plt.plot(qcnn_ll_model_1_history.history['val_custom_accuracy'], color=\"blue\", label='QCNN LL Phase I')\n",
        "plt.title('Training a Quantum CNN to Detect Excited Cluster States')\n",
        "plt.xlabel('Training Excitations')\n",
        "plt.ylabel('Validation Accuracy')\n",
        "plt.legend(bbox_to_anchor=(1.05, 1), loc=2, borderaxespad=0.)\n",
        "plt.show()"
      ]
    },
    {
      "cell_type": "markdown",
      "source": [
        "## Phase II\n",
        "After our circuit has grown to the specified size, we now use this as a starting point to train larger partitions. This means that we will split the circuit by specifiying a percentage of layers that should be trained as one contiguous set. In the example below, we will split the circuit in half, and then alternatingy train the two halfs for n_sweeps times.\n",
        "\n",
        "To do this with TFQ, we need to keep track of the symbols associated with each gate, and only include the symbols of gates in the circuit configuration which we actually want to train."
      ],
      "metadata": {
        "id": "PgsEOh6ihEZe"
      }
    },
    {
      "cell_type": "code",
      "execution_count": null,
      "metadata": {
        "colab": {
          "background_save": true,
          "base_uri": "https://localhost:8080/"
        },
        "id": "EuBpB7wFE1i8",
        "outputId": "b7f07d66-48d9-4f30-f8a3-45c69b740b84"
      },
      "outputs": [
        {
          "name": "stdout",
          "output_type": "stream",
          "text": [
            "\n",
            "Sweep over partitions\n",
            "\n",
            "Sweep 1, Partition 1\n",
            "\n",
            "Model: \"sequential_22\"\n",
            "_________________________________________________________________\n",
            " Layer (type)                Output Shape              Param #   \n",
            "=================================================================\n",
            " pqc_42 (PQC)                (None, 1)                 40        \n",
            "                                                                 \n",
            "=================================================================\n",
            "Total params: 40\n",
            "Trainable params: 40\n",
            "Non-trainable params: 0\n",
            "_________________________________________________________________\n",
            "None\n",
            "Epoch 1/10\n",
            "1/1 [==============================] - 31s 31s/step - loss: 0.4094 - custom_accuracy: 0.9375 - val_loss: 0.4836 - val_custom_accuracy: 0.8958\n",
            "Epoch 2/10\n",
            "1/1 [==============================] - 29s 29s/step - loss: 0.3902 - custom_accuracy: 0.9464 - val_loss: 0.4782 - val_custom_accuracy: 0.8958\n",
            "Epoch 3/10\n",
            "1/1 [==============================] - 29s 29s/step - loss: 0.3749 - custom_accuracy: 0.9464 - val_loss: 0.4756 - val_custom_accuracy: 0.8958\n",
            "Epoch 4/10\n",
            "1/1 [==============================] - 28s 28s/step - loss: 0.3634 - custom_accuracy: 0.9554 - val_loss: 0.4738 - val_custom_accuracy: 0.8958\n",
            "Epoch 5/10\n",
            "1/1 [==============================] - 29s 29s/step - loss: 0.3544 - custom_accuracy: 0.9554 - val_loss: 0.4720 - val_custom_accuracy: 0.9167\n",
            "Epoch 6/10\n",
            "1/1 [==============================] - 28s 28s/step - loss: 0.3473 - custom_accuracy: 0.9554 - val_loss: 0.4704 - val_custom_accuracy: 0.9167\n",
            "Epoch 7/10\n",
            "1/1 [==============================] - 29s 29s/step - loss: 0.3420 - custom_accuracy: 0.9643 - val_loss: 0.4690 - val_custom_accuracy: 0.9167\n",
            "Epoch 8/10\n",
            "1/1 [==============================] - 29s 29s/step - loss: 0.3382 - custom_accuracy: 0.9643 - val_loss: 0.4678 - val_custom_accuracy: 0.9167\n",
            "Epoch 9/10\n",
            "1/1 [==============================] - 29s 29s/step - loss: 0.3353 - custom_accuracy: 0.9643 - val_loss: 0.4666 - val_custom_accuracy: 0.9167\n",
            "Epoch 10/10\n",
            "1/1 [==============================] - 28s 28s/step - loss: 0.3329 - custom_accuracy: 0.9643 - val_loss: 0.4656 - val_custom_accuracy: 0.8958\n",
            "Sweep 1, Partition 2\n",
            "\n",
            "Model: \"sequential_23\"\n",
            "_________________________________________________________________\n",
            " Layer (type)                Output Shape              Param #   \n",
            "=================================================================\n",
            " pqc_43 (PQC)                (None, 1)                 40        \n",
            "                                                                 \n",
            "=================================================================\n",
            "Total params: 40\n",
            "Trainable params: 40\n",
            "Non-trainable params: 0\n",
            "_________________________________________________________________\n",
            "None\n",
            "Epoch 1/10\n",
            "1/1 [==============================] - 27s 27s/step - loss: 0.3306 - custom_accuracy: 0.9554 - val_loss: 0.4653 - val_custom_accuracy: 0.9167\n",
            "Epoch 2/10\n",
            "1/1 [==============================] - 25s 25s/step - loss: 0.3272 - custom_accuracy: 0.9643 - val_loss: 0.4613 - val_custom_accuracy: 0.9167\n",
            "Epoch 3/10\n",
            "1/1 [==============================] - 24s 24s/step - loss: 0.3240 - custom_accuracy: 0.9643 - val_loss: 0.4568 - val_custom_accuracy: 0.8958\n",
            "Epoch 4/10\n",
            "1/1 [==============================] - 25s 25s/step - loss: 0.3214 - custom_accuracy: 0.9643 - val_loss: 0.4526 - val_custom_accuracy: 0.8958\n",
            "Epoch 5/10\n",
            "1/1 [==============================] - 25s 25s/step - loss: 0.3192 - custom_accuracy: 0.9643 - val_loss: 0.4488 - val_custom_accuracy: 0.8958\n",
            "Epoch 6/10\n",
            "1/1 [==============================] - 25s 25s/step - loss: 0.3166 - custom_accuracy: 0.9643 - val_loss: 0.4452 - val_custom_accuracy: 0.8958\n",
            "Epoch 7/10\n",
            "1/1 [==============================] - 25s 25s/step - loss: 0.3135 - custom_accuracy: 0.9643 - val_loss: 0.4413 - val_custom_accuracy: 0.8958\n",
            "Epoch 8/10\n",
            "1/1 [==============================] - 25s 25s/step - loss: 0.3104 - custom_accuracy: 0.9643 - val_loss: 0.4367 - val_custom_accuracy: 0.8958\n",
            "Epoch 9/10\n",
            "1/1 [==============================] - 25s 25s/step - loss: 0.3073 - custom_accuracy: 0.9643 - val_loss: 0.4311 - val_custom_accuracy: 0.8958\n",
            "Epoch 10/10\n",
            "1/1 [==============================] - 25s 25s/step - loss: 0.3042 - custom_accuracy: 0.9643 - val_loss: 0.4244 - val_custom_accuracy: 0.8958\n",
            "Sweep 2, Partition 1\n",
            "\n",
            "Model: \"sequential_24\"\n",
            "_________________________________________________________________\n",
            " Layer (type)                Output Shape              Param #   \n",
            "=================================================================\n",
            " pqc_44 (PQC)                (None, 1)                 40        \n",
            "                                                                 \n",
            "=================================================================\n",
            "Total params: 40\n",
            "Trainable params: 40\n",
            "Non-trainable params: 0\n",
            "_________________________________________________________________\n",
            "None\n",
            "Epoch 1/10\n",
            "1/1 [==============================] - 25s 25s/step - loss: 0.3008 - custom_accuracy: 0.9643 - val_loss: 0.4141 - val_custom_accuracy: 0.8958\n",
            "Epoch 2/10\n",
            "1/1 [==============================] - 23s 23s/step - loss: 0.2981 - custom_accuracy: 0.9643 - val_loss: 0.4078 - val_custom_accuracy: 0.8958\n",
            "Epoch 3/10\n",
            "1/1 [==============================] - 23s 23s/step - loss: 0.2936 - custom_accuracy: 0.9643 - val_loss: 0.4017 - val_custom_accuracy: 0.8958\n",
            "Epoch 4/10\n",
            "1/1 [==============================] - 23s 23s/step - loss: 0.2901 - custom_accuracy: 0.9643 - val_loss: 0.3945 - val_custom_accuracy: 0.8958\n",
            "Epoch 5/10\n",
            "1/1 [==============================] - 23s 23s/step - loss: 0.2870 - custom_accuracy: 0.9643 - val_loss: 0.3860 - val_custom_accuracy: 0.8958\n",
            "Epoch 6/10\n",
            "1/1 [==============================] - 23s 23s/step - loss: 0.2835 - custom_accuracy: 0.9643 - val_loss: 0.3771 - val_custom_accuracy: 0.8958\n",
            "Epoch 7/10\n",
            "1/1 [==============================] - 23s 23s/step - loss: 0.2803 - custom_accuracy: 0.9643 - val_loss: 0.3682 - val_custom_accuracy: 0.8958\n",
            "Epoch 8/10\n",
            "1/1 [==============================] - 23s 23s/step - loss: 0.2775 - custom_accuracy: 0.9643 - val_loss: 0.3600 - val_custom_accuracy: 0.8958\n",
            "Epoch 9/10\n",
            "1/1 [==============================] - 23s 23s/step - loss: 0.2751 - custom_accuracy: 0.9554 - val_loss: 0.3529 - val_custom_accuracy: 0.8958\n",
            "Epoch 10/10\n",
            "1/1 [==============================] - 23s 23s/step - loss: 0.2727 - custom_accuracy: 0.9554 - val_loss: 0.3472 - val_custom_accuracy: 0.8958\n",
            "Sweep 2, Partition 2\n",
            "\n",
            "Model: \"sequential_25\"\n",
            "_________________________________________________________________\n",
            " Layer (type)                Output Shape              Param #   \n",
            "=================================================================\n",
            " pqc_45 (PQC)                (None, 1)                 40        \n",
            "                                                                 \n",
            "=================================================================\n",
            "Total params: 40\n",
            "Trainable params: 40\n",
            "Non-trainable params: 0\n",
            "_________________________________________________________________\n",
            "None\n",
            "Epoch 1/10\n",
            "1/1 [==============================] - 24s 24s/step - loss: 0.2706 - custom_accuracy: 0.9554 - val_loss: 0.3517 - val_custom_accuracy: 0.8958\n",
            "Epoch 2/10\n",
            "1/1 [==============================] - 22s 22s/step - loss: 0.2699 - custom_accuracy: 0.9554 - val_loss: 0.3443 - val_custom_accuracy: 0.8958\n",
            "Epoch 3/10\n",
            "1/1 [==============================] - 22s 22s/step - loss: 0.2665 - custom_accuracy: 0.9554 - val_loss: 0.3366 - val_custom_accuracy: 0.8958\n",
            "Epoch 4/10\n",
            "1/1 [==============================] - 22s 22s/step - loss: 0.2646 - custom_accuracy: 0.9554 - val_loss: 0.3311 - val_custom_accuracy: 0.8958\n",
            "Epoch 5/10\n",
            "1/1 [==============================] - 22s 22s/step - loss: 0.2630 - custom_accuracy: 0.9554 - val_loss: 0.3276 - val_custom_accuracy: 0.8958\n",
            "Epoch 6/10\n",
            "1/1 [==============================] - 22s 22s/step - loss: 0.2608 - custom_accuracy: 0.9554 - val_loss: 0.3251 - val_custom_accuracy: 0.8958\n",
            "Epoch 7/10\n",
            "1/1 [==============================] - 22s 22s/step - loss: 0.2584 - custom_accuracy: 0.9554 - val_loss: 0.3230 - val_custom_accuracy: 0.8958\n",
            "Epoch 8/10\n",
            "1/1 [==============================] - 22s 22s/step - loss: 0.2563 - custom_accuracy: 0.9643 - val_loss: 0.3202 - val_custom_accuracy: 0.8958\n",
            "Epoch 9/10\n",
            "1/1 [==============================] - 22s 22s/step - loss: 0.2543 - custom_accuracy: 0.9643 - val_loss: 0.3160 - val_custom_accuracy: 0.8958\n",
            "Epoch 10/10\n",
            "1/1 [==============================] - 22s 22s/step - loss: 0.2521 - custom_accuracy: 0.9643 - val_loss: 0.3105 - val_custom_accuracy: 0.8958\n"
          ]
        }
      ],
      "source": [
        "partition_percentage = 0.5\n",
        "partition_size = int(n_layer_steps*n_layers_to_add*partition_percentage)\n",
        "n_partition_weights = partition_size*n_qubits\n",
        "n_sweeps = 2\n",
        "n_partitions = 2\n",
        "readout = cirq.GridQubit(0, n_qubits-1)\n",
        "sweep_count = 0\n",
        "partition_count = 0\n",
        "\n",
        "acc_phase_2 = []\n",
        "val_acc_phase_2 = []\n",
        "loss_phase_2 = []\n",
        "val_loss_phase_2 = []\n",
        "\n",
        "print(\"\\nSweep over partitions\\n\")\n",
        "for sweep in range(n_sweeps):\n",
        "  sweep_count += 1\n",
        "  partition_count = 0\n",
        "  for partition in range(n_partitions):\n",
        "    partition_count += 1\n",
        "    # configure and train partitions\n",
        "    print(f\"Sweep {sweep_count}, Partition {partition_count}\\n\")\n",
        "\n",
        "    trained_weights = weights[:n_partition_weights]\n",
        "    untrained_weights = list(copy.copy(weights[n_partition_weights:][::-1]))\n",
        "    untrained_layers = layers[partition_size:]\n",
        "\n",
        "    trained_circuit = cirq.Circuit()\n",
        "    trained_circuit += symbol_layers[:partition_size]\n",
        "    trained_circuit += untrained_layers\n",
        "    # Cirq uses sympy.Symbols to map learnable variables. TensorFlow Quantum\n",
        "    # scans incoming circuits and replaces these with TensorFlow variables.\n",
        "    trained_circuit += quantum_conv_circuit(cluster_state_bits)\n",
        "    trained_circuit += quantum_pool_circuit(cluster_state_bits[:4], cluster_state_bits[4:])\n",
        "    trained_circuit += quantum_conv_circuit(cluster_state_bits[4:])\n",
        "    trained_circuit += quantum_pool_circuit(cluster_state_bits[4:6], cluster_state_bits[6:])\n",
        "    trained_circuit += quantum_conv_circuit(cluster_state_bits[6:])\n",
        "    trained_circuit += quantum_pool_circuit([cluster_state_bits[6]], [cluster_state_bits[7]])\n",
        "    \n",
        "    qcnn_ll_model = tf.keras.Sequential()\n",
        "    qcnn_ll_model.add(tf.keras.layers.Input(shape=(), dtype=tf.dtypes.string))\n",
        "    qcnn_ll_model.add(\n",
        "        tfq.layers.PQC(\n",
        "            model_circuit=trained_circuit,\n",
        "            operators=readout_operators,\n",
        "            differentiator=tfq.differentiators.ParameterShift(),\n",
        "            initializer=tf.keras.initializers.Zeros))\n",
        "\n",
        "    qcnn_ll_model.compile(loss=tf.keras.losses.squared_hinge,\n",
        "                  optimizer=tf.keras.optimizers.Adam(learning_rate=0.02), \n",
        "                  metrics=[custom_accuracy])\n",
        "\n",
        "    print(qcnn_ll_model.summary())\n",
        "\n",
        "    qcnn_ll_model.set_weights([trained_weights])\n",
        "    qcnn_ll_model_2_history = qcnn_ll_model.fit(\n",
        "        x=train_excitations,\n",
        "        y=train_labels,\n",
        "        batch_size=128,\n",
        "        epochs=10,\n",
        "        verbose=1,\n",
        "        validation_data=(test_excitations, test_labels))\n",
        "\n",
        "    part_weights = qcnn_ll_model.get_weights()[0]\n",
        "\n",
        "    acc_phase_2 += qcnn_ll_model_2_history.history['custom_accuracy']\n",
        "    val_acc_phase_2 += qcnn_ll_model_2_history.history['val_custom_accuracy']\n",
        "    loss_phase_2 += qcnn_ll_model_2_history.history['loss']\n",
        "    val_loss_phase_2 += qcnn_ll_model_2_history.history['val_loss']\n",
        "\n",
        "    weights[:n_partition_weights] = part_weights"
      ]
    },
    {
      "cell_type": "code",
      "execution_count": null,
      "metadata": {
        "colab": {
          "background_save": true
        },
        "id": "LORxTIit3Zqd",
        "outputId": "c9dfd3f9-0255-4af2-f0e5-04673868aaff"
      },
      "outputs": [
        {
          "data": {
            "image/png": "[encoded data removed]",
            "text/plain": [
              "<Figure size 432x288 with 1 Axes>"
            ]
          },
          "metadata": {},
          "output_type": "display_data"
        }
      ],
      "source": [
        "epochs_phase_2 = range(1, len(acc_phase_2) + 1)\n",
        "\n",
        "plt.plot(epochs_phase_2, acc_phase_2, 'o', color='orange', label='Training acc')\n",
        "plt.plot(epochs_phase_2, val_acc_phase_2, color='orange', label='Validation acc')\n",
        "plt.title('Training and Validation Accuracy')\n",
        "plt.legend(bbox_to_anchor=(1.05, 1), loc=2, borderaxespad=0.)\n",
        "\n",
        "plt.show()"
      ]
    },
    {
      "cell_type": "code",
      "execution_count": null,
      "metadata": {
        "colab": {
          "background_save": true
        },
        "id": "pjaLZ_cl3ar5",
        "outputId": "625aa4d4-ff88-4133-d678-d6c6fedb4c8c"
      },
      "outputs": [
        {
          "data": {
            "image/png": "[encoded data removed]",
            "text/plain": [
              "<Figure size 432x288 with 1 Axes>"
            ]
          },
          "metadata": {},
          "output_type": "display_data"
        }
      ],
      "source": [
        "plt.plot(epochs_phase_2, loss_phase_2, 'o', color='orange', label='Training loss')\n",
        "plt.plot(epochs_phase_2, val_loss_phase_2, color='orange', label='Validation loss')\n",
        "plt.title('Training and Validation Loss')\n",
        "plt.legend(bbox_to_anchor=(1.05, 1), loc=2, borderaxespad=0.)\n",
        "\n",
        "plt.show()"
      ]
    },
    {
      "cell_type": "code",
      "execution_count": null,
      "metadata": {
        "colab": {
          "background_save": true
        },
        "id": "hDPzLjq6xRFv",
        "outputId": "d0a7de39-4fc4-4782-94aa-1c8ce82f180e"
      },
      "outputs": [
        {
          "data": {
            "image/png": "[encoded data removed]",
            "text/plain": [
              "<Figure size 432x288 with 1 Axes>"
            ]
          },
          "metadata": {},
          "output_type": "display_data"
        }
      ],
      "source": [
        "plt.plot(qcnn_ll_model_1_history.history['val_custom_accuracy'], color='blue', label='QCNN LL Phase I')\n",
        "plt.plot(qcnn_ll_model_2_history.history['val_custom_accuracy'], color='orange', label='QCNN LL Phase II')\n",
        "plt.title('Training a Quantum CNN to Detect Excited Cluster States')\n",
        "plt.xlabel('Training Excitations')\n",
        "plt.ylabel('Validation Accuracy')\n",
        "plt.legend(bbox_to_anchor=(1.05, 1), loc=2, borderaxespad=0.)\n",
        "plt.show()"
      ]
    },
    {
      "cell_type": "markdown",
      "metadata": {
        "id": "zIetP-vNHRCJ"
      },
      "source": [
        "## Phase III\n",
        "Make final adjustments to partition %s and sweeps."
      ]
    },
    {
      "cell_type": "code",
      "execution_count": null,
      "metadata": {
        "colab": {
          "background_save": true,
          "base_uri": "https://localhost:8080/"
        },
        "id": "LzRTyU1YHQXl",
        "outputId": "d0b611c7-64bd-4970-f0ad-c01015807b9b"
      },
      "outputs": [
        {
          "name": "stdout",
          "output_type": "stream",
          "text": [
            "\n",
            "Sweep over partitions\n",
            "\n",
            "Sweep 1, Partition 1\n",
            "\n",
            "Model: \"sequential_26\"\n",
            "_________________________________________________________________\n",
            " Layer (type)                Output Shape              Param #   \n",
            "=================================================================\n",
            " pqc_46 (PQC)                (None, 1)                 16        \n",
            "                                                                 \n",
            "=================================================================\n",
            "Total params: 16\n",
            "Trainable params: 16\n",
            "Non-trainable params: 0\n",
            "_________________________________________________________________\n",
            "None\n",
            "Epoch 1/10\n",
            "1/1 [==============================] - 11s 11s/step - loss: 0.5362 - custom_accuracy: 0.9375 - val_loss: 0.4681 - val_custom_accuracy: 0.9583\n",
            "Epoch 2/10\n",
            "1/1 [==============================] - 9s 9s/step - loss: 0.5176 - custom_accuracy: 0.9464 - val_loss: 0.4505 - val_custom_accuracy: 0.9583\n",
            "Epoch 3/10\n",
            "1/1 [==============================] - 10s 10s/step - loss: 0.4998 - custom_accuracy: 0.9464 - val_loss: 0.4328 - val_custom_accuracy: 0.9583\n",
            "Epoch 4/10\n",
            "1/1 [==============================] - 9s 9s/step - loss: 0.4825 - custom_accuracy: 0.9464 - val_loss: 0.4152 - val_custom_accuracy: 0.9583\n",
            "Epoch 5/10\n",
            "1/1 [==============================] - 10s 10s/step - loss: 0.4657 - custom_accuracy: 0.9554 - val_loss: 0.3982 - val_custom_accuracy: 0.9583\n",
            "Epoch 6/10\n",
            "1/1 [==============================] - 10s 10s/step - loss: 0.4494 - custom_accuracy: 0.9554 - val_loss: 0.3819 - val_custom_accuracy: 0.9583\n",
            "Epoch 7/10\n",
            "1/1 [==============================] - 9s 9s/step - loss: 0.4338 - custom_accuracy: 0.9643 - val_loss: 0.3666 - val_custom_accuracy: 0.9583\n",
            "Epoch 8/10\n",
            "1/1 [==============================] - 9s 9s/step - loss: 0.4189 - custom_accuracy: 0.9643 - val_loss: 0.3523 - val_custom_accuracy: 0.9583\n",
            "Epoch 9/10\n",
            "1/1 [==============================] - 10s 10s/step - loss: 0.4047 - custom_accuracy: 0.9643 - val_loss: 0.3388 - val_custom_accuracy: 0.9583\n",
            "Epoch 10/10\n",
            "1/1 [==============================] - 10s 10s/step - loss: 0.3911 - custom_accuracy: 0.9732 - val_loss: 0.3262 - val_custom_accuracy: 0.9583\n",
            "Sweep 1, Partition 2\n",
            "\n",
            "Model: \"sequential_27\"\n",
            "_________________________________________________________________\n",
            " Layer (type)                Output Shape              Param #   \n",
            "=================================================================\n",
            " pqc_47 (PQC)                (None, 1)                 16        \n",
            "                                                                 \n",
            "=================================================================\n",
            "Total params: 16\n",
            "Trainable params: 16\n",
            "Non-trainable params: 0\n",
            "_________________________________________________________________\n",
            "None\n",
            "Epoch 1/10\n",
            "1/1 [==============================] - 10s 10s/step - loss: 0.3783 - custom_accuracy: 0.9732 - val_loss: 0.3148 - val_custom_accuracy: 0.9583\n",
            "Epoch 2/10\n",
            "1/1 [==============================] - 10s 10s/step - loss: 0.3659 - custom_accuracy: 0.9732 - val_loss: 0.3021 - val_custom_accuracy: 0.9583\n",
            "Epoch 3/10\n",
            "1/1 [==============================] - 10s 10s/step - loss: 0.3538 - custom_accuracy: 0.9732 - val_loss: 0.2904 - val_custom_accuracy: 0.9583\n",
            "Epoch 4/10\n",
            "1/1 [==============================] - 10s 10s/step - loss: 0.3426 - custom_accuracy: 0.9732 - val_loss: 0.2800 - val_custom_accuracy: 0.9583\n",
            "Epoch 5/10\n",
            "1/1 [==============================] - 10s 10s/step - loss: 0.3321 - custom_accuracy: 0.9732 - val_loss: 0.2705 - val_custom_accuracy: 0.9583\n",
            "Epoch 6/10\n",
            "1/1 [==============================] - 9s 9s/step - loss: 0.3223 - custom_accuracy: 0.9732 - val_loss: 0.2619 - val_custom_accuracy: 0.9583\n",
            "Epoch 7/10\n",
            "1/1 [==============================] - 10s 10s/step - loss: 0.3131 - custom_accuracy: 0.9732 - val_loss: 0.2541 - val_custom_accuracy: 0.9583\n",
            "Epoch 8/10\n",
            "1/1 [==============================] - 10s 10s/step - loss: 0.3046 - custom_accuracy: 0.9732 - val_loss: 0.2468 - val_custom_accuracy: 0.9583\n",
            "Epoch 9/10\n",
            "1/1 [==============================] - 9s 9s/step - loss: 0.2968 - custom_accuracy: 0.9732 - val_loss: 0.2398 - val_custom_accuracy: 0.9583\n",
            "Epoch 10/10\n",
            "1/1 [==============================] - 9s 9s/step - loss: 0.2895 - custom_accuracy: 0.9732 - val_loss: 0.2332 - val_custom_accuracy: 0.9583\n",
            "Sweep 2, Partition 1\n",
            "\n",
            "Model: \"sequential_28\"\n",
            "_________________________________________________________________\n",
            " Layer (type)                Output Shape              Param #   \n",
            "=================================================================\n",
            " pqc_48 (PQC)                (None, 1)                 16        \n",
            "                                                                 \n",
            "=================================================================\n",
            "Total params: 16\n",
            "Trainable params: 16\n",
            "Non-trainable params: 0\n",
            "_________________________________________________________________\n",
            "None\n",
            "Epoch 1/10\n",
            "1/1 [==============================] - 11s 11s/step - loss: 0.2827 - custom_accuracy: 0.9732 - val_loss: 0.2258 - val_custom_accuracy: 0.9792\n",
            "Epoch 2/10\n",
            "1/1 [==============================] - 10s 10s/step - loss: 0.2759 - custom_accuracy: 0.9732 - val_loss: 0.2201 - val_custom_accuracy: 0.9792\n",
            "Epoch 3/10\n",
            "1/1 [==============================] - 10s 10s/step - loss: 0.2694 - custom_accuracy: 0.9732 - val_loss: 0.2151 - val_custom_accuracy: 0.9792\n",
            "Epoch 4/10\n",
            "1/1 [==============================] - 9s 9s/step - loss: 0.2635 - custom_accuracy: 0.9821 - val_loss: 0.2103 - val_custom_accuracy: 0.9792\n",
            "Epoch 5/10\n",
            "1/1 [==============================] - 10s 10s/step - loss: 0.2580 - custom_accuracy: 0.9821 - val_loss: 0.2054 - val_custom_accuracy: 0.9792\n",
            "Epoch 6/10\n",
            "1/1 [==============================] - 10s 10s/step - loss: 0.2527 - custom_accuracy: 0.9821 - val_loss: 0.2005 - val_custom_accuracy: 0.9792\n",
            "Epoch 7/10\n",
            "1/1 [==============================] - 10s 10s/step - loss: 0.2476 - custom_accuracy: 0.9821 - val_loss: 0.1959 - val_custom_accuracy: 0.9792\n",
            "Epoch 8/10\n",
            "1/1 [==============================] - 10s 10s/step - loss: 0.2429 - custom_accuracy: 0.9821 - val_loss: 0.1919 - val_custom_accuracy: 0.9792\n",
            "Epoch 9/10\n",
            "1/1 [==============================] - 9s 9s/step - loss: 0.2385 - custom_accuracy: 0.9821 - val_loss: 0.1883 - val_custom_accuracy: 0.9792\n",
            "Epoch 10/10\n",
            "1/1 [==============================] - 10s 10s/step - loss: 0.2345 - custom_accuracy: 0.9821 - val_loss: 0.1851 - val_custom_accuracy: 0.9792\n",
            "Sweep 2, Partition 2\n",
            "\n",
            "Model: \"sequential_29\"\n",
            "_________________________________________________________________\n",
            " Layer (type)                Output Shape              Param #   \n",
            "=================================================================\n",
            " pqc_49 (PQC)                (None, 1)                 16        \n",
            "                                                                 \n",
            "=================================================================\n",
            "Total params: 16\n",
            "Trainable params: 16\n",
            "Non-trainable params: 0\n",
            "_________________________________________________________________\n",
            "None\n",
            "Epoch 1/10\n",
            "1/1 [==============================] - 11s 11s/step - loss: 0.2307 - custom_accuracy: 0.9911 - val_loss: 0.1832 - val_custom_accuracy: 0.9792\n",
            "Epoch 2/10\n",
            "1/1 [==============================] - 10s 10s/step - loss: 0.2272 - custom_accuracy: 0.9911 - val_loss: 0.1795 - val_custom_accuracy: 0.9792\n",
            "Epoch 3/10\n",
            "1/1 [==============================] - 9s 9s/step - loss: 0.2234 - custom_accuracy: 0.9911 - val_loss: 0.1762 - val_custom_accuracy: 0.9792\n",
            "Epoch 4/10\n",
            "1/1 [==============================] - 10s 10s/step - loss: 0.2202 - custom_accuracy: 0.9911 - val_loss: 0.1737 - val_custom_accuracy: 0.9792\n",
            "Epoch 5/10\n",
            "1/1 [==============================] - 10s 10s/step - loss: 0.2173 - custom_accuracy: 0.9911 - val_loss: 0.1717 - val_custom_accuracy: 0.9792\n",
            "Epoch 6/10\n",
            "1/1 [==============================] - 10s 10s/step - loss: 0.2146 - custom_accuracy: 0.9911 - val_loss: 0.1700 - val_custom_accuracy: 0.9792\n",
            "Epoch 7/10\n",
            "1/1 [==============================] - 10s 10s/step - loss: 0.2120 - custom_accuracy: 0.9911 - val_loss: 0.1687 - val_custom_accuracy: 0.9792\n",
            "Epoch 8/10\n",
            "1/1 [==============================] - 10s 10s/step - loss: 0.2098 - custom_accuracy: 0.9911 - val_loss: 0.1676 - val_custom_accuracy: 0.9792\n",
            "Epoch 9/10\n",
            "1/1 [==============================] - 10s 10s/step - loss: 0.2078 - custom_accuracy: 0.9911 - val_loss: 0.1664 - val_custom_accuracy: 0.9792\n",
            "Epoch 10/10\n",
            "1/1 [==============================] - 10s 10s/step - loss: 0.2061 - custom_accuracy: 0.9911 - val_loss: 0.1653 - val_custom_accuracy: 0.9792\n",
            "Sweep 3, Partition 1\n",
            "\n",
            "Model: \"sequential_30\"\n",
            "_________________________________________________________________\n",
            " Layer (type)                Output Shape              Param #   \n",
            "=================================================================\n",
            " pqc_50 (PQC)                (None, 1)                 16        \n",
            "                                                                 \n",
            "=================================================================\n",
            "Total params: 16\n",
            "Trainable params: 16\n",
            "Non-trainable params: 0\n",
            "_________________________________________________________________\n",
            "None\n",
            "Epoch 1/10\n",
            "1/1 [==============================] - 10s 10s/step - loss: 0.2045 - custom_accuracy: 0.9911 - val_loss: 0.1634 - val_custom_accuracy: 0.9792\n",
            "Epoch 2/10\n",
            "1/1 [==============================] - 9s 9s/step - loss: 0.2032 - custom_accuracy: 0.9911 - val_loss: 0.1632 - val_custom_accuracy: 0.9792\n",
            "Epoch 3/10\n",
            "1/1 [==============================] - 10s 10s/step - loss: 0.2017 - custom_accuracy: 0.9911 - val_loss: 0.1634 - val_custom_accuracy: 0.9792\n",
            "Epoch 4/10\n",
            "1/1 [==============================] - 10s 10s/step - loss: 0.2006 - custom_accuracy: 0.9911 - val_loss: 0.1636 - val_custom_accuracy: 0.9792\n",
            "Epoch 5/10\n",
            "1/1 [==============================] - 10s 10s/step - loss: 0.1998 - custom_accuracy: 0.9911 - val_loss: 0.1634 - val_custom_accuracy: 0.9792\n",
            "Epoch 6/10\n",
            "1/1 [==============================] - 9s 9s/step - loss: 0.1991 - custom_accuracy: 1.0000 - val_loss: 0.1632 - val_custom_accuracy: 0.9792\n",
            "Epoch 7/10\n",
            "1/1 [==============================] - 9s 9s/step - loss: 0.1985 - custom_accuracy: 1.0000 - val_loss: 0.1631 - val_custom_accuracy: 0.9792\n",
            "Epoch 8/10\n",
            "1/1 [==============================] - 10s 10s/step - loss: 0.1982 - custom_accuracy: 1.0000 - val_loss: 0.1633 - val_custom_accuracy: 0.9792\n",
            "Epoch 9/10\n",
            "1/1 [==============================] - 10s 10s/step - loss: 0.1980 - custom_accuracy: 1.0000 - val_loss: 0.1637 - val_custom_accuracy: 1.0000\n",
            "Epoch 10/10\n",
            "1/1 [==============================] - 10s 10s/step - loss: 0.1980 - custom_accuracy: 1.0000 - val_loss: 0.1643 - val_custom_accuracy: 1.0000\n",
            "Sweep 3, Partition 2\n",
            "\n",
            "Model: \"sequential_31\"\n",
            "_________________________________________________________________\n",
            " Layer (type)                Output Shape              Param #   \n",
            "=================================================================\n",
            " pqc_51 (PQC)                (None, 1)                 16        \n",
            "                                                                 \n",
            "=================================================================\n",
            "Total params: 16\n",
            "Trainable params: 16\n",
            "Non-trainable params: 0\n",
            "_________________________________________________________________\n",
            "None\n",
            "Epoch 1/10\n",
            "1/1 [==============================] - 11s 11s/step - loss: 0.1979 - custom_accuracy: 1.0000 - val_loss: 0.1650 - val_custom_accuracy: 1.0000\n",
            "Epoch 2/10\n",
            "1/1 [==============================] - 10s 10s/step - loss: 0.1982 - custom_accuracy: 1.0000 - val_loss: 0.1641 - val_custom_accuracy: 1.0000\n",
            "Epoch 3/10\n",
            "1/1 [==============================] - 9s 9s/step - loss: 0.1979 - custom_accuracy: 1.0000 - val_loss: 0.1637 - val_custom_accuracy: 1.0000\n",
            "Epoch 4/10\n",
            "1/1 [==============================] - 10s 10s/step - loss: 0.1979 - custom_accuracy: 1.0000 - val_loss: 0.1637 - val_custom_accuracy: 1.0000\n",
            "Epoch 5/10\n",
            "1/1 [==============================] - 9s 9s/step - loss: 0.1980 - custom_accuracy: 1.0000 - val_loss: 0.1640 - val_custom_accuracy: 1.0000\n",
            "Epoch 6/10\n",
            "1/1 [==============================] - 9s 9s/step - loss: 0.1980 - custom_accuracy: 1.0000 - val_loss: 0.1642 - val_custom_accuracy: 1.0000\n",
            "Epoch 7/10\n",
            "1/1 [==============================] - 10s 10s/step - loss: 0.1979 - custom_accuracy: 1.0000 - val_loss: 0.1645 - val_custom_accuracy: 1.0000\n",
            "Epoch 8/10\n",
            "1/1 [==============================] - 10s 10s/step - loss: 0.1979 - custom_accuracy: 1.0000 - val_loss: 0.1646 - val_custom_accuracy: 1.0000\n",
            "Epoch 9/10\n",
            "1/1 [==============================] - 10s 10s/step - loss: 0.1979 - custom_accuracy: 1.0000 - val_loss: 0.1645 - val_custom_accuracy: 1.0000\n",
            "Epoch 10/10\n",
            "1/1 [==============================] - 10s 10s/step - loss: 0.1979 - custom_accuracy: 1.0000 - val_loss: 0.1642 - val_custom_accuracy: 1.0000\n",
            "Sweep 4, Partition 1\n",
            "\n",
            "Model: \"sequential_32\"\n",
            "_________________________________________________________________\n",
            " Layer (type)                Output Shape              Param #   \n",
            "=================================================================\n",
            " pqc_52 (PQC)                (None, 1)                 16        \n",
            "                                                                 \n",
            "=================================================================\n",
            "Total params: 16\n",
            "Trainable params: 16\n",
            "Non-trainable params: 0\n",
            "_________________________________________________________________\n",
            "None\n",
            "Epoch 1/10\n",
            "1/1 [==============================] - 11s 11s/step - loss: 0.1979 - custom_accuracy: 1.0000 - val_loss: 0.1640 - val_custom_accuracy: 1.0000\n",
            "Epoch 2/10\n",
            "1/1 [==============================] - 10s 10s/step - loss: 0.1982 - custom_accuracy: 1.0000 - val_loss: 0.1640 - val_custom_accuracy: 1.0000\n",
            "Epoch 3/10\n",
            "1/1 [==============================] - 10s 10s/step - loss: 0.1979 - custom_accuracy: 1.0000 - val_loss: 0.1643 - val_custom_accuracy: 1.0000\n",
            "Epoch 4/10\n",
            "1/1 [==============================] - 10s 10s/step - loss: 0.1979 - custom_accuracy: 1.0000 - val_loss: 0.1645 - val_custom_accuracy: 1.0000\n",
            "Epoch 5/10\n",
            "1/1 [==============================] - 10s 10s/step - loss: 0.1980 - custom_accuracy: 1.0000 - val_loss: 0.1644 - val_custom_accuracy: 1.0000\n",
            "Epoch 6/10\n",
            "1/1 [==============================] - 9s 9s/step - loss: 0.1979 - custom_accuracy: 1.0000 - val_loss: 0.1642 - val_custom_accuracy: 1.0000\n",
            "Epoch 7/10\n",
            "1/1 [==============================] - 10s 10s/step - loss: 0.1979 - custom_accuracy: 1.0000 - val_loss: 0.1640 - val_custom_accuracy: 1.0000\n",
            "Epoch 8/10\n",
            "1/1 [==============================] - 10s 10s/step - loss: 0.1979 - custom_accuracy: 1.0000 - val_loss: 0.1640 - val_custom_accuracy: 1.0000\n",
            "Epoch 9/10\n",
            "1/1 [==============================] - 10s 10s/step - loss: 0.1979 - custom_accuracy: 1.0000 - val_loss: 0.1640 - val_custom_accuracy: 1.0000\n",
            "Epoch 10/10\n",
            "1/1 [==============================] - 10s 10s/step - loss: 0.1979 - custom_accuracy: 1.0000 - val_loss: 0.1640 - val_custom_accuracy: 1.0000\n",
            "Sweep 4, Partition 2\n",
            "\n",
            "Model: \"sequential_33\"\n",
            "_________________________________________________________________\n",
            " Layer (type)                Output Shape              Param #   \n",
            "=================================================================\n",
            " pqc_53 (PQC)                (None, 1)                 16        \n",
            "                                                                 \n",
            "=================================================================\n",
            "Total params: 16\n",
            "Trainable params: 16\n",
            "Non-trainable params: 0\n",
            "_________________________________________________________________\n",
            "None\n",
            "Epoch 1/10\n",
            "1/1 [==============================] - 11s 11s/step - loss: 0.1979 - custom_accuracy: 1.0000 - val_loss: 0.1648 - val_custom_accuracy: 0.9792\n",
            "Epoch 2/10\n",
            "1/1 [==============================] - 10s 10s/step - loss: 0.1982 - custom_accuracy: 1.0000 - val_loss: 0.1643 - val_custom_accuracy: 1.0000\n",
            "Epoch 3/10\n",
            "1/1 [==============================] - 10s 10s/step - loss: 0.1979 - custom_accuracy: 1.0000 - val_loss: 0.1641 - val_custom_accuracy: 1.0000\n",
            "Epoch 4/10\n",
            "1/1 [==============================] - 10s 10s/step - loss: 0.1979 - custom_accuracy: 1.0000 - val_loss: 0.1641 - val_custom_accuracy: 1.0000\n",
            "Epoch 5/10\n",
            "1/1 [==============================] - 10s 10s/step - loss: 0.1980 - custom_accuracy: 1.0000 - val_loss: 0.1640 - val_custom_accuracy: 1.0000\n",
            "Epoch 6/10\n",
            "1/1 [==============================] - 10s 10s/step - loss: 0.1980 - custom_accuracy: 1.0000 - val_loss: 0.1641 - val_custom_accuracy: 1.0000\n",
            "Epoch 7/10\n",
            "1/1 [==============================] - 10s 10s/step - loss: 0.1979 - custom_accuracy: 1.0000 - val_loss: 0.1642 - val_custom_accuracy: 1.0000\n",
            "Epoch 8/10\n",
            "1/1 [==============================] - 10s 10s/step - loss: 0.1979 - custom_accuracy: 1.0000 - val_loss: 0.1644 - val_custom_accuracy: 1.0000\n",
            "Epoch 9/10\n",
            "1/1 [==============================] - 10s 10s/step - loss: 0.1979 - custom_accuracy: 1.0000 - val_loss: 0.1644 - val_custom_accuracy: 1.0000\n",
            "Epoch 10/10\n",
            "1/1 [==============================] - 10s 10s/step - loss: 0.1979 - custom_accuracy: 1.0000 - val_loss: 0.1642 - val_custom_accuracy: 1.0000\n"
          ]
        }
      ],
      "source": [
        "partition_percentage = 0.25\n",
        "partition_size = int(n_layer_steps*n_layers_to_add*partition_percentage)\n",
        "n_partition_weights = partition_size*n_qubits\n",
        "n_sweeps = 4\n",
        "sweep_count = 0\n",
        "partition_count = 0\n",
        "\n",
        "acc_phase_3 = []\n",
        "val_acc_phase_3 = []\n",
        "loss_phase_3 = []\n",
        "val_loss_phase_3 = []\n",
        "\n",
        "print(\"\\nSweep over partitions\\n\")\n",
        "for sweep in range(n_sweeps):\n",
        "  sweep_count += 1\n",
        "  partition_count = 0\n",
        "  for partition in range(n_partitions):\n",
        "    partition_count += 1\n",
        "    # configure and train partitions\n",
        "    print(f\"Sweep {sweep_count}, Partition {partition_count}\\n\")\n",
        "\n",
        "    trained_weights = weights[:n_partition_weights]\n",
        "    untrained_weights = list(copy.copy(weights[n_partition_weights:][::-1]))\n",
        "    untrained_layers = layers[partition_size:]\n",
        "\n",
        "    trained_circuit = cirq.Circuit()\n",
        "    trained_circuit += symbol_layers[:partition_size]\n",
        "    trained_circuit += untrained_layers\n",
        "    # Cirq uses sympy.Symbols to map learnable variables. TensorFlow Quantum\n",
        "    # scans incoming circuits and replaces these with TensorFlow variables.\n",
        "    trained_circuit += quantum_conv_circuit(cluster_state_bits)\n",
        "    trained_circuit += quantum_pool_circuit(cluster_state_bits[:4], cluster_state_bits[4:])\n",
        "    trained_circuit += quantum_conv_circuit(cluster_state_bits[4:])\n",
        "    trained_circuit += quantum_pool_circuit(cluster_state_bits[4:6], cluster_state_bits[6:])\n",
        "    trained_circuit += quantum_conv_circuit(cluster_state_bits[6:])\n",
        "    trained_circuit += quantum_pool_circuit([cluster_state_bits[6]], [cluster_state_bits[7]])\n",
        "    \n",
        "    qcnn_ll_model = tf.keras.Sequential()\n",
        "    qcnn_ll_model.add(tf.keras.layers.Input(shape=(), dtype=tf.dtypes.string))\n",
        "    qcnn_ll_model.add(\n",
        "        tfq.layers.PQC(\n",
        "            model_circuit=trained_circuit,\n",
        "            operators=readout_operators,\n",
        "            differentiator=tfq.differentiators.ParameterShift(),\n",
        "            initializer=tf.keras.initializers.Zeros))\n",
        "\n",
        "    qcnn_ll_model.compile(loss=tf.keras.losses.squared_hinge,\n",
        "                  optimizer=tf.keras.optimizers.Adam(learning_rate=0.02), \n",
        "                  metrics=[custom_accuracy])\n",
        "\n",
        "    print(qcnn_ll_model.summary())\n",
        "\n",
        "    qcnn_ll_model.set_weights([trained_weights])\n",
        "    qcnn_ll_model_3_history = qcnn_ll_model.fit(\n",
        "        x=train_excitations,\n",
        "        y=train_labels,\n",
        "        batch_size=128,\n",
        "        epochs=10,\n",
        "        verbose=1,\n",
        "        validation_data=(test_excitations, test_labels))\n",
        "\n",
        "    part_weights = qcnn_ll_model.get_weights()[0]\n",
        "\n",
        "    acc_phase_3 += qcnn_ll_model_3_history.history['custom_accuracy']\n",
        "    val_acc_phase_3 += qcnn_ll_model_3_history.history['val_custom_accuracy']\n",
        "    loss_phase_3 += qcnn_ll_model_3_history.history['loss']\n",
        "    val_loss_phase_3 += qcnn_ll_model_3_history.history['val_loss']\n",
        "\n",
        "    weights[:n_partition_weights] = part_weights"
      ]
    },
    {
      "cell_type": "code",
      "execution_count": null,
      "metadata": {
        "colab": {
          "background_save": true
        },
        "id": "oKIKEPxV44jR",
        "outputId": "65f7f265-767b-4650-9b5c-2a56ee383317"
      },
      "outputs": [
        {
          "data": {
            "image/png": "[encoded data removed]",
            "text/plain": [
              "<Figure size 432x288 with 1 Axes>"
            ]
          },
          "metadata": {},
          "output_type": "display_data"
        }
      ],
      "source": [
        "epochs_phase_3 = range(1, len(acc_phase_3) + 1)\n",
        "\n",
        "plt.plot(epochs_phase_3, acc_phase_3, 'o', color='green', label='Training acc')\n",
        "plt.plot(epochs_phase_3, val_acc_phase_3, color='green', label='Validation acc')\n",
        "plt.title('Training and Validation Accuracy')\n",
        "plt.legend(bbox_to_anchor=(1.05, 1), loc=2, borderaxespad=0.)\n",
        "\n",
        "plt.show()"
      ]
    },
    {
      "cell_type": "code",
      "execution_count": null,
      "metadata": {
        "colab": {
          "background_save": true
        },
        "id": "4udx1fuq48Jb",
        "outputId": "d08e3a7e-2153-4333-b3c2-eccf603707c1"
      },
      "outputs": [
        {
          "data": {
            "image/png": "[encoded data removed]",
            "text/plain": [
              "<Figure size 432x288 with 1 Axes>"
            ]
          },
          "metadata": {},
          "output_type": "display_data"
        }
      ],
      "source": [
        "plt.plot(epochs_phase_3, loss_phase_3, 'o', color='green', label='Training loss')\n",
        "plt.plot(epochs_phase_3, val_loss_phase_3, color='green', label='Validation loss')\n",
        "plt.title('Training and Validation Loss')\n",
        "plt.legend(bbox_to_anchor=(1.05, 1), loc=2, borderaxespad=0.)\n",
        "\n",
        "plt.show()"
      ]
    },
    {
      "cell_type": "code",
      "execution_count": null,
      "metadata": {
        "colab": {
          "background_save": true
        },
        "id": "NjVaGqtnfgU8",
        "outputId": "90628755-ccce-4ec5-bfd0-4a1906648757"
      },
      "outputs": [
        {
          "data": {
            "image/png": "[encoded data removed]",
            "text/plain": [
              "<Figure size 432x288 with 1 Axes>"
            ]
          },
          "metadata": {},
          "output_type": "display_data"
        }
      ],
      "source": [
        "plt.plot(qcnn_ll_model_1_history.history['val_custom_accuracy'], color='blue', label='QCNN LL Phase I')\n",
        "plt.plot(qcnn_ll_model_2_history.history['val_custom_accuracy'], color='orange', label='QCNN LL Phase II')\n",
        "plt.plot(qcnn_ll_model_3_history.history['val_custom_accuracy'], color='green', label='QCNN LL Phase III')\n",
        "plt.title('Training a Quantum CNN to Detect Excited Cluster States')\n",
        "plt.xlabel('Training Layers')\n",
        "plt.ylabel('Validation Accuracy')\n",
        "plt.legend(bbox_to_anchor=(1.05, 1), loc=2, borderaxespad=0.)\n",
        "plt.show()"
      ]
    },
    {
      "cell_type": "markdown",
      "metadata": {
        "id": "5JjSlUymgmfH"
      },
      "source": [
        "# Baseline Models"
      ]
    },
    {
      "cell_type": "markdown",
      "metadata": {
        "id": "r994B-Y5gmfS"
      },
      "source": [
        "## Quantum Classical Hybrid\n",
        "Quantum convolution that feeds the results into a classical neural network.\n",
        "\n",
        "Hybrid model with a single quantum filter.\n",
        "Applies one layer of quantum convolution, reading out on all bits, followed by a densely-connected neural network."
      ]
    },
    {
      "cell_type": "code",
      "execution_count": null,
      "metadata": {
        "colab": {
          "background_save": true
        },
        "id": "Cc-JtK3Ms_Fn",
        "outputId": "5f74cd4b-c6eb-4cf7-fed0-3451eade77fd"
      },
      "outputs": [
        {
          "name": "stdout",
          "output_type": "stream",
          "text": [
            "\n",
            "Layer: 0\n",
            "Model: \"model_10\"\n",
            "_________________________________________________________________\n",
            " Layer (type)                Output Shape              Param #   \n",
            "=================================================================\n",
            " input_45 (InputLayer)       [(None,)]                 0         \n",
            "                                                                 \n",
            " add_circuit_64 (AddCircuit)  (None,)                  0         \n",
            "                                                                 \n",
            " pqc_54 (PQC)                (None, 1)                 16        \n",
            "                                                                 \n",
            " dense_20 (Dense)            (None, 8)                 16        \n",
            "                                                                 \n",
            " dense_21 (Dense)            (None, 1)                 9         \n",
            "                                                                 \n",
            "=================================================================\n",
            "Total params: 41\n",
            "Trainable params: 41\n",
            "Non-trainable params: 0\n",
            "_________________________________________________________________\n",
            "None\n",
            "Epoch 1/10\n",
            "1/1 [==============================] - 2s 2s/step - loss: 1.0000 - custom_accuracy: 0.4643 - val_loss: 0.9687 - val_custom_accuracy: 0.6042\n",
            "Epoch 2/10\n",
            "1/1 [==============================] - 2s 2s/step - loss: 0.9956 - custom_accuracy: 0.5357 - val_loss: 0.9626 - val_custom_accuracy: 0.6042\n",
            "Epoch 3/10\n",
            "1/1 [==============================] - 2s 2s/step - loss: 0.9984 - custom_accuracy: 0.5357 - val_loss: 0.9658 - val_custom_accuracy: 0.6042\n",
            "Epoch 4/10\n",
            "1/1 [==============================] - 2s 2s/step - loss: 0.9966 - custom_accuracy: 0.5357 - val_loss: 0.9736 - val_custom_accuracy: 0.6042\n",
            "Epoch 5/10\n",
            "1/1 [==============================] - 2s 2s/step - loss: 0.9949 - custom_accuracy: 0.5357 - val_loss: 0.9825 - val_custom_accuracy: 0.6042\n",
            "Epoch 6/10\n",
            "1/1 [==============================] - 2s 2s/step - loss: 0.9955 - custom_accuracy: 0.5357 - val_loss: 0.9876 - val_custom_accuracy: 0.6042\n",
            "Epoch 7/10\n",
            "1/1 [==============================] - 2s 2s/step - loss: 0.9964 - custom_accuracy: 0.5357 - val_loss: 0.9871 - val_custom_accuracy: 0.6042\n",
            "Epoch 8/10\n",
            "1/1 [==============================] - 2s 2s/step - loss: 0.9963 - custom_accuracy: 0.5357 - val_loss: 0.9826 - val_custom_accuracy: 0.6042\n",
            "Epoch 9/10\n",
            "1/1 [==============================] - 2s 2s/step - loss: 0.9955 - custom_accuracy: 0.5357 - val_loss: 0.9768 - val_custom_accuracy: 0.6042\n",
            "Epoch 10/10\n",
            "1/1 [==============================] - 2s 2s/step - loss: 0.9949 - custom_accuracy: 0.5357 - val_loss: 0.9719 - val_custom_accuracy: 0.6042\n",
            "\n",
            "Layer: 1\n",
            "Model: \"model_11\"\n",
            "_________________________________________________________________\n",
            " Layer (type)                Output Shape              Param #   \n",
            "=================================================================\n",
            " input_46 (InputLayer)       [(None,)]                 0         \n",
            "                                                                 \n",
            " add_circuit_66 (AddCircuit)  (None,)                  0         \n",
            "                                                                 \n",
            " pqc_55 (PQC)                (None, 1)                 32        \n",
            "                                                                 \n",
            " dense_22 (Dense)            (None, 8)                 16        \n",
            "                                                                 \n",
            " dense_23 (Dense)            (None, 1)                 9         \n",
            "                                                                 \n",
            "=================================================================\n",
            "Total params: 57\n",
            "Trainable params: 57\n",
            "Non-trainable params: 0\n",
            "_________________________________________________________________\n",
            "None\n",
            "Epoch 1/10\n",
            "1/1 [==============================] - 3s 3s/step - loss: 1.0000 - custom_accuracy: 0.5536 - val_loss: 0.9700 - val_custom_accuracy: 0.6042\n",
            "Epoch 2/10\n",
            "1/1 [==============================] - 2s 2s/step - loss: 0.9953 - custom_accuracy: 0.5357 - val_loss: 0.9629 - val_custom_accuracy: 0.6042\n",
            "Epoch 3/10\n",
            "1/1 [==============================] - 2s 2s/step - loss: 0.9982 - custom_accuracy: 0.5357 - val_loss: 0.9653 - val_custom_accuracy: 0.6042\n",
            "Epoch 4/10\n",
            "1/1 [==============================] - 2s 2s/step - loss: 0.9968 - custom_accuracy: 0.5357 - val_loss: 0.9721 - val_custom_accuracy: 0.6042\n",
            "Epoch 5/10\n",
            "1/1 [==============================] - 2s 2s/step - loss: 0.9951 - custom_accuracy: 0.5357 - val_loss: 0.9805 - val_custom_accuracy: 0.6042\n",
            "Epoch 6/10\n",
            "1/1 [==============================] - 2s 2s/step - loss: 0.9952 - custom_accuracy: 0.5357 - val_loss: 0.9864 - val_custom_accuracy: 0.6042\n",
            "Epoch 7/10\n",
            "1/1 [==============================] - 2s 2s/step - loss: 0.9962 - custom_accuracy: 0.5357 - val_loss: 0.9873 - val_custom_accuracy: 0.6042\n",
            "Epoch 8/10\n",
            "1/1 [==============================] - 2s 2s/step - loss: 0.9964 - custom_accuracy: 0.5357 - val_loss: 0.9841 - val_custom_accuracy: 0.6042\n",
            "Epoch 9/10\n",
            "1/1 [==============================] - 2s 2s/step - loss: 0.9957 - custom_accuracy: 0.5357 - val_loss: 0.9790 - val_custom_accuracy: 0.6042\n",
            "Epoch 10/10\n",
            "1/1 [==============================] - 2s 2s/step - loss: 0.9951 - custom_accuracy: 0.5357 - val_loss: 0.9740 - val_custom_accuracy: 0.6042\n",
            "\n",
            "Layer: 2\n",
            "Model: \"model_12\"\n",
            "_________________________________________________________________\n",
            " Layer (type)                Output Shape              Param #   \n",
            "=================================================================\n",
            " input_47 (InputLayer)       [(None,)]                 0         \n",
            "                                                                 \n",
            " add_circuit_68 (AddCircuit)  (None,)                  0         \n",
            "                                                                 \n",
            " pqc_56 (PQC)                (None, 1)                 48        \n",
            "                                                                 \n",
            " dense_24 (Dense)            (None, 8)                 16        \n",
            "                                                                 \n",
            " dense_25 (Dense)            (None, 1)                 9         \n",
            "                                                                 \n",
            "=================================================================\n",
            "Total params: 73\n",
            "Trainable params: 73\n",
            "Non-trainable params: 0\n",
            "_________________________________________________________________\n",
            "None\n",
            "Epoch 1/10\n",
            "1/1 [==============================] - 3s 3s/step - loss: 1.0007 - custom_accuracy: 0.2946 - val_loss: 0.9728 - val_custom_accuracy: 0.6042\n",
            "Epoch 2/10\n",
            "1/1 [==============================] - 2s 2s/step - loss: 0.9948 - custom_accuracy: 0.5357 - val_loss: 0.9633 - val_custom_accuracy: 0.6042\n",
            "Epoch 3/10\n",
            "1/1 [==============================] - 2s 2s/step - loss: 0.9971 - custom_accuracy: 0.5357 - val_loss: 0.9634 - val_custom_accuracy: 0.6042\n",
            "Epoch 4/10\n",
            "1/1 [==============================] - 2s 2s/step - loss: 0.9963 - custom_accuracy: 0.5357 - val_loss: 0.9669 - val_custom_accuracy: 0.6042\n",
            "Epoch 5/10\n",
            "1/1 [==============================] - 2s 2s/step - loss: 0.9937 - custom_accuracy: 0.5357 - val_loss: 0.9710 - val_custom_accuracy: 0.6042\n",
            "Epoch 6/10\n",
            "1/1 [==============================] - 2s 2s/step - loss: 0.9912 - custom_accuracy: 0.5357 - val_loss: 0.9730 - val_custom_accuracy: 0.6042\n",
            "Epoch 7/10\n",
            "1/1 [==============================] - 2s 2s/step - loss: 0.9885 - custom_accuracy: 0.5357 - val_loss: 0.9703 - val_custom_accuracy: 0.6042\n",
            "Epoch 8/10\n",
            "1/1 [==============================] - 2s 2s/step - loss: 0.9842 - custom_accuracy: 0.5357 - val_loss: 0.9617 - val_custom_accuracy: 0.6042\n",
            "Epoch 9/10\n",
            "1/1 [==============================] - 2s 2s/step - loss: 0.9777 - custom_accuracy: 0.5357 - val_loss: 0.9481 - val_custom_accuracy: 0.6458\n",
            "Epoch 10/10\n",
            "1/1 [==============================] - 2s 2s/step - loss: 0.9689 - custom_accuracy: 0.5625 - val_loss: 0.9310 - val_custom_accuracy: 0.7292\n",
            "\n",
            "Layer: 3\n",
            "Model: \"model_13\"\n",
            "_________________________________________________________________\n",
            " Layer (type)                Output Shape              Param #   \n",
            "=================================================================\n",
            " input_48 (InputLayer)       [(None,)]                 0         \n",
            "                                                                 \n",
            " add_circuit_70 (AddCircuit)  (None,)                  0         \n",
            "                                                                 \n",
            " pqc_57 (PQC)                (None, 1)                 64        \n",
            "                                                                 \n",
            " dense_26 (Dense)            (None, 8)                 16        \n",
            "                                                                 \n",
            " dense_27 (Dense)            (None, 1)                 9         \n",
            "                                                                 \n",
            "=================================================================\n",
            "Total params: 89\n",
            "Trainable params: 89\n",
            "Non-trainable params: 0\n",
            "_________________________________________________________________\n",
            "None\n",
            "Epoch 1/10\n",
            "1/1 [==============================] - 3s 3s/step - loss: 0.9945 - custom_accuracy: 0.5625 - val_loss: 0.9668 - val_custom_accuracy: 0.5833\n",
            "Epoch 2/10\n",
            "1/1 [==============================] - 2s 2s/step - loss: 0.9897 - custom_accuracy: 0.5357 - val_loss: 0.9591 - val_custom_accuracy: 0.5833\n",
            "Epoch 3/10\n",
            "1/1 [==============================] - 2s 2s/step - loss: 0.9888 - custom_accuracy: 0.5357 - val_loss: 0.9571 - val_custom_accuracy: 0.6250\n",
            "Epoch 4/10\n",
            "1/1 [==============================] - 2s 2s/step - loss: 0.9841 - custom_accuracy: 0.5536 - val_loss: 0.9567 - val_custom_accuracy: 0.6250\n",
            "Epoch 5/10\n",
            "1/1 [==============================] - 2s 2s/step - loss: 0.9790 - custom_accuracy: 0.5804 - val_loss: 0.9554 - val_custom_accuracy: 0.6458\n",
            "Epoch 6/10\n",
            "1/1 [==============================] - 2s 2s/step - loss: 0.9746 - custom_accuracy: 0.5804 - val_loss: 0.9507 - val_custom_accuracy: 0.6667\n",
            "Epoch 7/10\n",
            "1/1 [==============================] - 2s 2s/step - loss: 0.9703 - custom_accuracy: 0.5625 - val_loss: 0.9412 - val_custom_accuracy: 0.6667\n",
            "Epoch 8/10\n",
            "1/1 [==============================] - 2s 2s/step - loss: 0.9657 - custom_accuracy: 0.5625 - val_loss: 0.9278 - val_custom_accuracy: 0.6667\n",
            "Epoch 9/10\n",
            "1/1 [==============================] - 2s 2s/step - loss: 0.9612 - custom_accuracy: 0.5625 - val_loss: 0.9136 - val_custom_accuracy: 0.6667\n",
            "Epoch 10/10\n",
            "1/1 [==============================] - 2s 2s/step - loss: 0.9571 - custom_accuracy: 0.5536 - val_loss: 0.9023 - val_custom_accuracy: 0.6250\n",
            "\n",
            "Layer: 4\n",
            "Model: \"model_14\"\n",
            "_________________________________________________________________\n",
            " Layer (type)                Output Shape              Param #   \n",
            "=================================================================\n",
            " input_49 (InputLayer)       [(None,)]                 0         \n",
            "                                                                 \n",
            " add_circuit_72 (AddCircuit)  (None,)                  0         \n",
            "                                                                 \n",
            " pqc_58 (PQC)                (None, 1)                 80        \n",
            "                                                                 \n",
            " dense_28 (Dense)            (None, 8)                 16        \n",
            "                                                                 \n",
            " dense_29 (Dense)            (None, 1)                 9         \n",
            "                                                                 \n",
            "=================================================================\n",
            "Total params: 105\n",
            "Trainable params: 105\n",
            "Non-trainable params: 0\n",
            "_________________________________________________________________\n",
            "None\n",
            "Epoch 1/10\n",
            "1/1 [==============================] - 3s 3s/step - loss: 1.0034 - custom_accuracy: 0.3214 - val_loss: 0.9769 - val_custom_accuracy: 0.6042\n",
            "Epoch 2/10\n",
            "1/1 [==============================] - 2s 2s/step - loss: 0.9962 - custom_accuracy: 0.5357 - val_loss: 0.9652 - val_custom_accuracy: 0.6042\n",
            "Epoch 3/10\n",
            "1/1 [==============================] - 2s 2s/step - loss: 0.9977 - custom_accuracy: 0.5357 - val_loss: 0.9643 - val_custom_accuracy: 0.6042\n",
            "Epoch 4/10\n",
            "1/1 [==============================] - 2s 2s/step - loss: 0.9976 - custom_accuracy: 0.5357 - val_loss: 0.9682 - val_custom_accuracy: 0.6042\n",
            "Epoch 5/10\n",
            "1/1 [==============================] - 2s 2s/step - loss: 0.9958 - custom_accuracy: 0.5357 - val_loss: 0.9752 - val_custom_accuracy: 0.6042\n",
            "Epoch 6/10\n",
            "1/1 [==============================] - 2s 2s/step - loss: 0.9949 - custom_accuracy: 0.5357 - val_loss: 0.9826 - val_custom_accuracy: 0.6042\n",
            "Epoch 7/10\n",
            "1/1 [==============================] - 2s 2s/step - loss: 0.9955 - custom_accuracy: 0.5357 - val_loss: 0.9866 - val_custom_accuracy: 0.6042\n",
            "Epoch 8/10\n",
            "1/1 [==============================] - 2s 2s/step - loss: 0.9962 - custom_accuracy: 0.5357 - val_loss: 0.9859 - val_custom_accuracy: 0.6042\n",
            "Epoch 9/10\n",
            "1/1 [==============================] - 2s 2s/step - loss: 0.9961 - custom_accuracy: 0.5357 - val_loss: 0.9821 - val_custom_accuracy: 0.6042\n",
            "Epoch 10/10\n",
            "1/1 [==============================] - 2s 2s/step - loss: 0.9954 - custom_accuracy: 0.5357 - val_loss: 0.9772 - val_custom_accuracy: 0.6042\n"
          ]
        }
      ],
      "source": [
        "n_qubits = 8\n",
        "n_layer_steps = 5\n",
        "n_layers_to_add = 2\n",
        "''' data_qubits = cirq.GridQubit.rect(1, n_qubits) '''\n",
        "''' readout = cirq.GridQubit(0, n_qubits-1) '''\n",
        "# Create our qubits and readout operators in Cirq.\n",
        "cluster_state_bits = cirq.GridQubit.rect(1, n_qubits)\n",
        "readout_operators = cirq.Z(cluster_state_bits[-1])\n",
        "\n",
        "symbols = []\n",
        "layers = []\n",
        "symbol_layers = []\n",
        "weights = []\n",
        "\n",
        "acc_hybrid = []\n",
        "val_acc_hybrid = []\n",
        "loss_hybrid = []\n",
        "val_loss_hybrid = []\n",
        "\n",
        "training_history = []\n",
        "\n",
        "# Generate some training data.\n",
        "train_excitations, train_labels, test_excitations, test_labels = generate_data(\n",
        "    cluster_state_bits)\n",
        "\n",
        "# Custom accuracy metric.\n",
        "@tf.function\n",
        "def custom_accuracy(y_true, y_pred):\n",
        "    #remove dimensions of size 1 from the shape of the tensor\n",
        "    y_true = tf.squeeze(y_true)\n",
        "    y_pred = tf.map_fn(lambda x: 1.0 if x >= 0 else -1.0, y_pred)\n",
        "    return tf.keras.backend.mean(tf.keras.backend.equal(y_true, y_pred))\n",
        "\n",
        "for layer_id in range(n_layer_steps):\n",
        "  print(\"\\nLayer:\", layer_id)\n",
        "  #Create sequence of alternating convolution and pooling operators which gradually shrink over time.\n",
        "  circuit = cirq.Circuit()\n",
        "  for i in range(n_layers_to_add):\n",
        "    layer, symbol_layer, layer_symbols = create_layer(cluster_state_bits, f'layer_{layer_id}_{i}')\n",
        "    layers.append(layer)\n",
        "    symbol_layers.append(symbol_layer)\n",
        "    symbols.append(layer_symbols)\n",
        "    \n",
        "    # Cirq uses sympy.Symbols to map learnable variables. TensorFlow Quantum\n",
        "    # scans incoming circuits and replaces these with TensorFlow variables.\n",
        "    circuit += quantum_conv_circuit(cluster_state_bits)\n",
        "    circuit += quantum_pool_circuit(cluster_state_bits[:4], cluster_state_bits[4:])\n",
        "      \n",
        "  circuit += symbol_layers\n",
        "\n",
        "  # setup the Keras model\n",
        "  excitation_input_dual = tf.keras.layers.Input(shape=(), dtype=tf.dtypes.string)\n",
        "  cluster_state_dual = tfq.layers.AddCircuit()(\n",
        "      excitation_input_dual, prepend=cluster_state_circuit(cluster_state_bits))\n",
        "  quantum_model_dual = tfq.layers.PQC(\n",
        "      model_circuit=circuit, operators=readout_operators)(cluster_state_dual)\n",
        "\n",
        "  d1_dual = tf.keras.layers.Dense(n_qubits)(quantum_model_dual)\n",
        "\n",
        "  d2_dual = tf.keras.layers.Dense(1)(d1_dual)\n",
        "\n",
        "  hybrid_model = tf.keras.Model(inputs=[excitation_input_dual], outputs=[d2_dual])\n",
        "\n",
        "  print(hybrid_model.summary())\n",
        "  #Uses Squared Hinge max margin cost function to penalize misclassification and \n",
        "  #classify those correct ones residing within margin of the decision boundary\n",
        "  hybrid_model.compile(optimizer=tf.keras.optimizers.Adam(learning_rate=0.02),\n",
        "                       loss=tf.losses.mse,\n",
        "                       metrics=[custom_accuracy])\n",
        "\n",
        "\n",
        "  hybrid_model_history = hybrid_model.fit(\n",
        "      x=train_excitations,\n",
        "      y=train_labels,\n",
        "      batch_size=128,\n",
        "      epochs=10,\n",
        "      verbose=1,\n",
        "      validation_data=(test_excitations, test_labels))\n",
        "\n",
        "  acc_hybrid += hybrid_model_history.history['custom_accuracy']\n",
        "  val_acc_hybrid += hybrid_model_history.history['val_custom_accuracy']\n",
        "  loss_hybrid += hybrid_model_history.history['loss']\n",
        "  val_loss_hybrid += hybrid_model_history.history['val_loss']\n",
        "\n",
        "  weights = hybrid_model.get_weights()[0]"
      ]
    },
    {
      "cell_type": "code",
      "execution_count": null,
      "metadata": {
        "colab": {
          "background_save": true
        },
        "id": "8PijY6w49a-V",
        "outputId": "474c22d3-ec96-443a-d71e-f91b4f07a1d3"
      },
      "outputs": [
        {
          "data": {
            "image/png": "[encoded data removed]",
            "text/plain": [
              "<Figure size 432x288 with 1 Axes>"
            ]
          },
          "metadata": {},
          "output_type": "display_data"
        }
      ],
      "source": [
        "epochs_hybrid = range(1, len(acc_hybrid) + 1)\n",
        "\n",
        "plt.plot(epochs_hybrid, acc_hybrid, 'o', color='red', label='Training acc')\n",
        "plt.plot(epochs_hybrid, val_acc_hybrid, color='red', label='Validation acc')\n",
        "plt.title('Training and Validation Accuracy')\n",
        "plt.legend(bbox_to_anchor=(1.05, 1), loc=2, borderaxespad=0.)\n",
        "\n",
        "plt.show()"
      ]
    },
    {
      "cell_type": "code",
      "execution_count": null,
      "metadata": {
        "colab": {
          "background_save": true
        },
        "id": "dWrRolOT9vZq",
        "outputId": "9aa63e30-65ab-4297-e363-39d332ad4e3b"
      },
      "outputs": [
        {
          "data": {
            "image/png": "[encoded data removed]",
            "text/plain": [
              "<Figure size 432x288 with 1 Axes>"
            ]
          },
          "metadata": {},
          "output_type": "display_data"
        }
      ],
      "source": [
        "plt.plot(epochs_hybrid, loss_hybrid, 'o', color='red', label='Training loss')\n",
        "plt.plot(epochs_hybrid, val_loss_hybrid, color='red', label='Validation loss')\n",
        "plt.title('Training and Validation Loss')\n",
        "plt.legend(bbox_to_anchor=(1.05, 1), loc=2, borderaxespad=0.)\n",
        "\n",
        "plt.show()"
      ]
    },
    {
      "cell_type": "code",
      "execution_count": null,
      "metadata": {
        "colab": {
          "background_save": true
        },
        "id": "1ybb_TvVx_vX",
        "outputId": "69ac7b0b-74f6-4301-8de9-016129709cf0"
      },
      "outputs": [
        {
          "data": {
            "image/png": "[encoded data removed]",
            "text/plain": [
              "<Figure size 432x288 with 1 Axes>"
            ]
          },
          "metadata": {},
          "output_type": "display_data"
        }
      ],
      "source": [
        "plt.plot(qcnn_ll_model_1_history.history['val_custom_accuracy'], color='blue', label='QCNN LL Phase I')\n",
        "plt.plot(qcnn_ll_model_2_history.history['val_custom_accuracy'], color='orange', label='QCNN LL Phase II')\n",
        "plt.plot(qcnn_ll_model_3_history.history['val_custom_accuracy'], color='green', label='QCNN LL Phase III')\n",
        "plt.plot(hybrid_model_history.history['val_custom_accuracy'], color='red', label='Hybrid Model w/ 1 Quantum Filter')\n",
        "plt.title('Training a Quantum CNN to Detect Excited Cluster States')\n",
        "plt.xlabel('Training Layers')\n",
        "plt.ylabel('Validation Accuracy')\n",
        "plt.legend(bbox_to_anchor=(1.05, 1), loc=2, borderaxespad=0.)\n",
        "plt.show()"
      ]
    },
    {
      "cell_type": "markdown",
      "metadata": {
        "id": "hOdyN2ZjyqQW"
      },
      "source": [
        ""
      ]
    },
    {
      "cell_type": "markdown",
      "metadata": {
        "id": "ASiQw8rsyqnA"
      },
      "source": [
        "## Hybrid convolution with multiple quantum filters\n",
        "\n",
        "A hybrid architecture that uses multiple quantum convolutions and a classical neural network to combine them."
      ]
    },
    {
      "cell_type": "code",
      "execution_count": null,
      "metadata": {
        "id": "fc3gPL5uyqnA"
      },
      "outputs": [],
      "source": [
        "n_qubits = 8\n",
        "n_layer_steps = 5\n",
        "n_layers_to_add = 2\n",
        "''' data_qubits = cirq.GridQubit.rect(1, n_qubits) '''\n",
        "''' readout = cirq.GridQubit(0, n_qubits-1) '''\n",
        "# Create our qubits and readout operators in Cirq.\n",
        "cluster_state_bits = cirq.GridQubit.rect(1, n_qubits)\n",
        "readout_operators = cirq.Z(cluster_state_bits[-1])\n",
        "\n",
        "symbols = []\n",
        "layers = []\n",
        "symbol_layers = []\n",
        "weights = []\n",
        "\n",
        "acc_hybrid_multi = []\n",
        "val_acc_hybrid_multi = []\n",
        "loss_hybrid_multi = []\n",
        "val_loss_hybrid_multi = []\n",
        "\n",
        "training_history = []\n",
        "\n",
        "# Generate some training data.\n",
        "train_excitations, train_labels, test_excitations, test_labels = generate_data(\n",
        "    cluster_state_bits)\n",
        "\n",
        "# Custom accuracy metric.\n",
        "@tf.function\n",
        "def custom_accuracy(y_true, y_pred):\n",
        "    #remove dimensions of size 1 from the shape of the tensor\n",
        "    y_true = tf.squeeze(y_true)\n",
        "    y_pred = tf.map_fn(lambda x: 1.0 if x >= 0 else -1.0, y_pred)\n",
        "    return tf.keras.backend.mean(tf.keras.backend.equal(y_true, y_pred))\n",
        "\n",
        "for layer_id in range(n_layer_steps):\n",
        "  print(\"\\nLayer:\", layer_id)\n",
        "  #Create sequence of alternating convolution and pooling operators which gradually shrink over time.\n",
        "  circuit = cirq.Circuit()\n",
        "  for i in range(n_layers_to_add):\n",
        "    layer, symbol_layer, layer_symbols = create_layer(cluster_state_bits, f'layer_{layer_id}_{i}')\n",
        "    layers.append(layer)\n",
        "    symbol_layers.append(symbol_layer)\n",
        "    symbols.append(layer_symbols)\n",
        "    \n",
        "    # Cirq uses sympy.Symbols to map learnable variables. TensorFlow Quantum\n",
        "    # scans incoming circuits and replaces these with TensorFlow variables.\n",
        "    circuit += quantum_conv_circuit(cluster_state_bits)\n",
        "    circuit += quantum_pool_circuit(cluster_state_bits[:4], cluster_state_bits[4:])\n",
        "      \n",
        "  circuit += symbol_layers\n",
        "\n",
        "  # setup the Keras model\n",
        "  excitation_input_multi = tf.keras.Input(shape=(), dtype=tf.dtypes.string)\n",
        "  cluster_state_multi = tfq.layers.AddCircuit()(\n",
        "      excitation_input_multi, prepend=cluster_state_circuit(cluster_state_bits))\n",
        "  quantum_model_multi1 = tfq.layers.PQC(\n",
        "      model_circuit=circuit, operators=readout_operators)(cluster_state_multi)\n",
        "  quantum_model_multi2 = tfq.layers.PQC(\n",
        "      model_circuit=circuit, operators=readout_operators)(cluster_state_multi)\n",
        "  quantum_model_multi3 = tfq.layers.PQC(\n",
        "      model_circuit=circuit, operators=readout_operators)(cluster_state_multi)\n",
        "\n",
        "  # concatenate outputs and feed into a small classical NN\n",
        "  concat_out = tf.keras.layers.concatenate(\n",
        "      [quantum_model_multi1, quantum_model_multi2, quantum_model_multi3])\n",
        "\n",
        "  dense_1 = tf.keras.layers.Dense(8)(concat_out)\n",
        "\n",
        "  dense_2 = tf.keras.layers.Dense(1)(dense_1)\n",
        "\n",
        "  multi_qcnn_model = tf.keras.Model(inputs=[excitation_input_multi],\n",
        "                                    outputs=[dense_2])\n",
        "\n",
        "  print(multi_qcnn_model.summary())\n",
        "  #Uses Squared Hinge max margin cost function to penalize misclassification and \n",
        "  #classify those correct ones residing within margin of the decision boundary\n",
        "  multi_qcnn_model.compile(optimizer=tf.keras.optimizers.Adam(learning_rate=0.02),\n",
        "                       loss=tf.losses.mse,\n",
        "                       metrics=[custom_accuracy])\n",
        "\n",
        "\n",
        "  multi_qcnn_model_history = multi_qcnn_model.fit(\n",
        "      x=train_excitations,\n",
        "      y=train_labels,\n",
        "      batch_size=128,\n",
        "      epochs=10,\n",
        "      verbose=1,\n",
        "      validation_data=(test_excitations, test_labels))\n",
        "  \n",
        "  acc_hybrid_multi += multi_qcnn_model_history.history['custom_accuracy']\n",
        "  val_acc_hybrid_multi += multi_qcnn_model_history.history['val_custom_accuracy']\n",
        "  loss_hybrid_multi += multi_qcnn_model_history.history['loss']\n",
        "  val_loss_hybrid_multi += multi_qcnn_model_history.history['val_loss']\n",
        "\n",
        "  weights = multi_qcnn_model.get_weights()[0]"
      ]
    },
    {
      "cell_type": "code",
      "execution_count": null,
      "metadata": {
        "id": "597YCyuZBkss"
      },
      "outputs": [],
      "source": [
        "epochs_hybrid_multi = range(1, len(acc_hybrid_multi) + 1)\n",
        "\n",
        "plt.plot(epochs_hybrid_multi, acc_hybrid_multi, 'o', color='magenta', label='Training acc')\n",
        "plt.plot(epochs_hybrid_multi, val_acc_hybrid_multi, color='magenta', label='Validation acc')\n",
        "plt.title('Training and Validation Accuracy')\n",
        "plt.legend(bbox_to_anchor=(1.05, 1), loc=2, borderaxespad=0.)\n",
        "\n",
        "plt.show()"
      ]
    },
    {
      "cell_type": "code",
      "execution_count": null,
      "metadata": {
        "id": "aLUvA2d5Bo_M"
      },
      "outputs": [],
      "source": [
        "plt.plot(epochs_hybrid_multi, loss_hybrid_multi, 'o', color='magenta', label='Training loss')\n",
        "plt.plot(epochs_hybrid_multi, val_loss_hybrid_multi, color='magenta', label='Validation loss')\n",
        "plt.title('Training and Validation Loss')\n",
        "plt.legend(bbox_to_anchor=(1.05, 1), loc=2, borderaxespad=0.)\n",
        "\n",
        "plt.show()"
      ]
    },
    {
      "cell_type": "code",
      "execution_count": null,
      "metadata": {
        "id": "arCLzwe50xgi"
      },
      "outputs": [],
      "source": [
        "plt.plot(qcnn_ll_model_1_history.history['val_custom_accuracy'], color='blue', label='QCNN LL Phase I')\n",
        "plt.plot(qcnn_ll_model_2_history.history['val_custom_accuracy'], color='orange', label='QCNN LL Phase II')\n",
        "plt.plot(qcnn_ll_model_3_history.history['val_custom_accuracy'], color='green', label='QCNN LL Phase III')\n",
        "plt.plot(hybrid_model_history.history['val_custom_accuracy'], color='red', label='Hybrid Model CNN w/ 1 Quantum Filter')\n",
        "plt.plot(multi_qcnn_model_history.history['val_custom_accuracy'], color='magenta', label='Hybrid Model CNN w/ 3 Quantum Filters')\n",
        "plt.title('Training a Quantum CNN to Detect Excited Cluster States')\n",
        "plt.xlabel('Training Layers')\n",
        "plt.ylabel('Validation Accuracy')\n",
        "plt.legend(bbox_to_anchor=(1.05, 1), loc=2, borderaxespad=0.)\n",
        "plt.show()"
      ]
    },
    {
      "cell_type": "code",
      "execution_count": null,
      "metadata": {
        "id": "lerJTNkrDRqg"
      },
      "outputs": [],
      "source": [
        "plt.plot(epochs_phase_1, acc_phase_1, 'bo', label='QCNN w/ LL Phase I Training Accuracy')\n",
        "plt.plot(epochs_phase_1, val_acc_phase_1, 'b', label='QCNN w/ LL Phase I Validation Accuracy')\n",
        "plt.plot(epochs_phase_2, acc_phase_2, 'o', color='orange', label='QCNN w/ LL Phase II Training Accuracy')\n",
        "plt.plot(epochs_phase_2, val_acc_phase_2, color='orange', label='QCNN w/ LL Phase II Validation Accuracy')\n",
        "plt.plot(epochs_phase_3, acc_phase_3, 'go', label='QCNN w/ LL Phase III Training Accuracy')\n",
        "plt.plot(epochs_phase_3, val_acc_phase_3, 'g', label='QCNN w/ LL Phase III Validation Accuracy')\n",
        "plt.plot(epochs_hybrid, acc_hybrid, 'ro', label='Hybrid Model CNN w/ 1 Quantum Filter Training Accuracy')\n",
        "plt.plot(epochs_hybrid, val_acc_hybrid, 'r', label='Hybrid Model CNN w/ 1 Quantum Filter Validation Accuracy')\n",
        "plt.plot(epochs_hybrid_multi, acc_hybrid_multi, 'mo', label='Hybrid Model CNN w/ 3 Quantum Filters Training Accuracy')\n",
        "plt.plot(epochs_hybrid_multi, val_acc_hybrid_multi, 'm', label='Hybrid Model CNN w/ 3 Quantum Filters Validation Accuracy')\n",
        "plt.title('Training and Validation Accuracy of QCNN w/ LL and Hybrid Models')\n",
        "plt.legend(bbox_to_anchor=(1.05, 1), loc=2, borderaxespad=0.)\n",
        "\n",
        "plt.show()"
      ]
    },
    {
      "cell_type": "code",
      "execution_count": null,
      "metadata": {
        "id": "NIAkRQOYEdaz"
      },
      "outputs": [],
      "source": [
        "plt.plot(epochs_phase_1, loss_phase_1, 'bo', label='QCNN w/ LL Phase I Training Loss')\n",
        "plt.plot(epochs_phase_1, val_loss_phase_1, 'b', label='QCNN w/ LL Phase I Validation Loss')\n",
        "plt.plot(epochs_phase_2, loss_phase_2, 'o', color='orange', label='QCNN w/ LL Phase II Training Loss')\n",
        "plt.plot(epochs_phase_2, val_loss_phase_2, color='orange', label='QCNN w/ LL Phase II Validation Loss')\n",
        "plt.plot(epochs_phase_3, loss_phase_3, 'go', label='QCNN w/ LL Phase III Training Loss')\n",
        "plt.plot(epochs_phase_3, val_loss_phase_3, 'g', label='QCNN w/ LL Phase III Validation Loss')\n",
        "plt.plot(epochs_hybrid, loss_hybrid, 'ro', label='Hybrid Model CNN w/ 1 Quantum Filter Training Loss')\n",
        "plt.plot(epochs_hybrid, val_loss_hybrid, 'r', label='Hybrid Model CNN w/ 1 Quantum Filter Validation Loss')\n",
        "plt.plot(epochs_hybrid_multi, loss_hybrid_multi, 'mo', label='Hybrid Model CNN w/ 3 Quantum Filters Training Loss')\n",
        "plt.plot(epochs_hybrid_multi, val_loss_hybrid_multi, 'm', label='Hybrid Model CNN w/ 3 Quantum Filters Validation Loss')\n",
        "plt.title('Training and Validation Loss of QCNN w/ LL and Hybrid Models')\n",
        "plt.legend(bbox_to_anchor=(1.05, 1), loc=2, borderaxespad=0.)\n",
        "\n",
        "plt.show()"
      ]
    }
  ],
  "metadata": {
    "accelerator": "GPU",
    "colab": {
      "background_execution": "on",
      "collapsed_sections": [],
      "machine_shape": "hm",
      "name": "QCNN w/ Layerwise Learning on SPT Dataset v8.ipynb",
      "provenance": [],
      "toc_visible": true
    },
    "kernelspec": {
      "display_name": "Python 3",
      "name": "python3"
    },
    "language_info": {
      "name": "python"
    }
  },
  "nbformat": 4,
  "nbformat_minor": 0
}